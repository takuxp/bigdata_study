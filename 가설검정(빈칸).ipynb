{
  "nbformat": 4,
  "nbformat_minor": 0,
  "metadata": {
    "colab": {
      "provenance": [],
      "include_colab_link": true
    },
    "kernelspec": {
      "name": "python3",
      "display_name": "Python 3"
    },
    "language_info": {
      "name": "python"
    }
  },
  "cells": [
    {
      "cell_type": "markdown",
      "metadata": {
        "id": "view-in-github",
        "colab_type": "text"
      },
      "source": [
        "<a href=\"https://colab.research.google.com/github/takuxp/bigdata_study/blob/main/%EA%B0%80%EC%84%A4%EA%B2%80%EC%A0%95(%EB%B9%88%EC%B9%B8).ipynb\" target=\"_parent\"><img src=\"https://colab.research.google.com/assets/colab-badge.svg\" alt=\"Open In Colab\"/></a>"
      ]
    },
    {
      "cell_type": "markdown",
      "source": [
        "# 단일표본검정"
      ],
      "metadata": {
        "id": "GMOOpj9dNqb4"
      }
    },
    {
      "cell_type": "markdown",
      "source": [
        "나커피 유튜버는 최근 판매되는 \"합격 원두(dark)\" 상품의 실제 무게를 조사하였다. 제조사는 \"합격 원두(dark)\"의 무게를 120g라고 표기하였다. 나커피 유튜버는 이 주장이 사실인지 확인하기 위해 상품의 무게를 측정하였다. 다음은 30개의 상품 샘플의 무게 측정 결과다. 이 측정 결과를 바탕으로 제조사의 주장인 상품의 무게(120g)가 사실인지 검정해보시오. (데이터는 정규분포를 따른다고 가정한다.)\n",
        "- 귀무가설: μ = μ0, \"합격 원두(dark)\" 상품의 평균 무게는 120g이다.\n",
        "- 대립가설: μ ≠ μ0, \"합격 원두(dark)\" 상품의 평균 무게는 120g 아니다."
      ],
      "metadata": {
        "id": "ssL4kI2uPwr0"
      }
    },
    {
      "cell_type": "markdown",
      "source": [
        "- μ(뮤): 현재 조사하려는 상품의 실제 평균 무게\n",
        "-\n",
        "μ0(뮤 제로): 제조사가 주장하는 상품의 평균 무게(120g)"
      ],
      "metadata": {
        "id": "D2J9WVRCWICD"
      }
    },
    {
      "cell_type": "markdown",
      "source": [
        "## 1. 기초"
      ],
      "metadata": {
        "id": "-TDdNI3J_IIq"
      }
    },
    {
      "cell_type": "code",
      "source": [
        "import pandas as pd\n",
        "df = pd.DataFrame({\n",
        "    '무게':[119, 121, 121, 119, 125, 115, 121, 118, 117, 127,\n",
        "           123, 129, 119, 124, 114, 126, 122, 124, 121, 116,\n",
        "           123, 123, 127, 118, 122, 117, 124, 125, 123, 121],\n",
        "})"
      ],
      "metadata": {
        "id": "gHct5U3M4ba7"
      },
      "execution_count": null,
      "outputs": []
    },
    {
      "cell_type": "markdown",
      "source": [
        "### 단일표본검정"
      ],
      "metadata": {
        "id": "Xy5Ry7QeX4g6"
      }
    },
    {
      "cell_type": "code",
      "source": [
        "# 단일표본검정\n"
      ],
      "metadata": {
        "id": "-IGYGrTy4bkz"
      },
      "execution_count": null,
      "outputs": []
    },
    {
      "cell_type": "code",
      "source": [
        "# 코랩 사이파이 버전 (시험환경 1.7)\n"
      ],
      "metadata": {
        "id": "54wofQy86caP"
      },
      "execution_count": null,
      "outputs": []
    },
    {
      "cell_type": "code",
      "source": [
        "# 대립가설: 합격 원두(dark)\" 상품의 평균 무게는 120g 아니다.\n"
      ],
      "metadata": {
        "id": "znbNQA9g7FTm"
      },
      "execution_count": null,
      "outputs": []
    },
    {
      "cell_type": "code",
      "source": [
        "# 대립가설: 합격 원두(dark)\" 상품의 평균 무게는 120g 보다 크다\n"
      ],
      "metadata": {
        "id": "CQKrpzJ07FV_"
      },
      "execution_count": null,
      "outputs": []
    },
    {
      "cell_type": "code",
      "source": [
        "# 대립가설: 합격 원두(dark)\" 상품의 평균 무게는 120g 보다 작다\n"
      ],
      "metadata": {
        "id": "gHfAnVzr7FYV"
      },
      "execution_count": null,
      "outputs": []
    },
    {
      "cell_type": "markdown",
      "source": [
        "## 2. 심화"
      ],
      "metadata": {
        "id": "bgT0JC1dMt_Z"
      }
    },
    {
      "cell_type": "code",
      "source": [
        "# 데이터 (정규성에 만족하지 않게 일부 변경)\n",
        "import pandas as pd\n",
        "df = pd.DataFrame({\n",
        "    '무게':[219, 121, 121, 119, 125, 115, 121, 118, 117, 127,\n",
        "           123, 129, 119, 124, 114, 126, 122, 124, 121, 116,\n",
        "           123, 123, 127, 118, 122, 117, 124, 125, 123, 121],\n",
        "})"
      ],
      "metadata": {
        "id": "2QrYQl3e7Fa8"
      },
      "execution_count": null,
      "outputs": []
    },
    {
      "cell_type": "markdown",
      "source": [
        "### Shapiro-Wilk 검정\n",
        "- 귀무가설 (H0): 주어진 데이터 샘플은 정규 분포를 따른다.\n",
        "- 대립가설(H1): 주어진 데이터 샘플은 정규 분포를 따르지 않는다."
      ],
      "metadata": {
        "id": "Jnff_h_iW4gt"
      }
    },
    {
      "cell_type": "code",
      "source": [
        "# Shapiro-Wilk(샤피로-윌크) 정규성 검정\n"
      ],
      "metadata": {
        "id": "Y023nW1Y4biR"
      },
      "execution_count": null,
      "outputs": []
    },
    {
      "cell_type": "code",
      "source": [
        "# 지수표기법 변경\n"
      ],
      "metadata": {
        "id": "zd8kn8YjfuIx"
      },
      "execution_count": null,
      "outputs": []
    },
    {
      "cell_type": "markdown",
      "source": [
        "### Wilcoxon 검정 (비모수 검정)\n",
        "- 귀무가설 (H0): μ = μ0, \"합격 원두(dark)\" 상품의 평균 무게는 120g이다.\n",
        "- 대립가설(H1): μ < μ0, \"합격 원두(dark)\" 상품의 평균 무게는 120g 보다 작다"
      ],
      "metadata": {
        "id": "N8B2jXYSXwvN"
      }
    },
    {
      "cell_type": "code",
      "source": [
        "# Wilcoxon(윌콕슨)의 부호 순위 검정 수행\n"
      ],
      "metadata": {
        "id": "TphKGRdH4bni"
      },
      "execution_count": null,
      "outputs": []
    },
    {
      "cell_type": "code",
      "source": [],
      "metadata": {
        "id": "o1CLTtXHIOax"
      },
      "execution_count": null,
      "outputs": []
    },
    {
      "cell_type": "markdown",
      "source": [
        "# 대응표본검정"
      ],
      "metadata": {
        "id": "zS_wjdjeVYFo"
      }
    },
    {
      "cell_type": "markdown",
      "source": [
        "퇴근후딴짓 크리에이터는 수험생의 점수 향상을 위해 새로운 교육 프로그램을 도입했다. 도입 전과 도입 후의 점수 차이를 확인하기 위해 동일한 수험생의 점수를 비교하였습니다. 다음은 교육 전과 후의 점수 데이터이다. 새로운 교육 프로그램이 효과가 있는지 검정하시오.(데이터는 정규분포를 따른다고 가정한다.)\n",
        "\n",
        "μ<sub>d</sub> = (before – after)의 평균\n",
        "\n",
        "- 귀무가설: μ<sub>d</sub> ≥ 0, 새로운 교육 프로그램은 효과가 없다.\n",
        "- 대립가설: μ<sub>d</sub> < 0, 새로운 교육 프로그램은 효과가 있다.\n",
        "\n"
      ],
      "metadata": {
        "id": "Tc9ROgXKUtV8"
      }
    },
    {
      "cell_type": "markdown",
      "source": [
        "## 1. 기초"
      ],
      "metadata": {
        "id": "kdKpcpA_qc4-"
      }
    },
    {
      "cell_type": "code",
      "source": [
        "# 데이터\n",
        "import pandas as pd\n",
        "df = pd.DataFrame({\n",
        "    'before':[85,90,92,88,86,89,83,87,65,50],\n",
        "    'after':[88,89,96,89,85,88,85,89,78,61]\n",
        "})"
      ],
      "metadata": {
        "id": "fZ0AUIzX0wFH"
      },
      "execution_count": null,
      "outputs": []
    },
    {
      "cell_type": "markdown",
      "source": [
        "### 대응표본검정"
      ],
      "metadata": {
        "id": "LsHDDj3qkD6c"
      }
    },
    {
      "cell_type": "code",
      "source": [
        "# 대응표본검정\n"
      ],
      "metadata": {
        "id": "41KwCmrynZNV"
      },
      "execution_count": null,
      "outputs": []
    },
    {
      "cell_type": "markdown",
      "source": [
        "μ<sub>d</sub> = (after - before)의 평균\n",
        "- 귀무가설: μ<sub>d</sub> ≤ 0\n",
        "- 대립가설: μ<sub>d</sub> > 0"
      ],
      "metadata": {
        "id": "CCDPYNR_SwiT"
      }
    },
    {
      "cell_type": "code",
      "source": [
        "# 대응표본검정\n"
      ],
      "metadata": {
        "id": "C3L2GsbDnaDw"
      },
      "execution_count": null,
      "outputs": []
    },
    {
      "cell_type": "markdown",
      "source": [
        "## 2. 심화"
      ],
      "metadata": {
        "id": "juH19gbLp9M_"
      }
    },
    {
      "cell_type": "code",
      "source": [
        "# 데이터\n",
        "import pandas as pd\n",
        "df = pd.DataFrame({\n",
        "    'before':[85,90,92,88,86,89,83,87,65,50],\n",
        "    'after':[88,89,96,89,85,88,85,89,78,61]\n",
        "})"
      ],
      "metadata": {
        "id": "yeQu5su4p1mG"
      },
      "execution_count": null,
      "outputs": []
    },
    {
      "cell_type": "markdown",
      "source": [
        "μ<sub>d</sub> = (after - before)의 평균\n",
        "- 귀무가설: μ<sub>d</sub> ≤ 0\n",
        "- 대립가설: μ<sub>d</sub> > 0"
      ],
      "metadata": {
        "id": "nC7X7I0bT3ir"
      }
    },
    {
      "cell_type": "markdown",
      "source": [
        "### Shapiro-Wilk 검정"
      ],
      "metadata": {
        "id": "Oyt1zu1ijtL0"
      }
    },
    {
      "cell_type": "code",
      "source": [
        "# Shapiro-Wilk(샤피로-윌크) 정규성 검정\n"
      ],
      "metadata": {
        "id": "3a4x-qTknaIr"
      },
      "execution_count": null,
      "outputs": []
    },
    {
      "cell_type": "markdown",
      "source": [
        "### Wilcoxon 검정 (비모수 검정)"
      ],
      "metadata": {
        "id": "Yd51YGEDjm12"
      }
    },
    {
      "cell_type": "code",
      "source": [
        "# Wilcoxon(윌콕슨)의 부호 순위 검정 수행\n"
      ],
      "metadata": {
        "id": "jQPHzg9CK8Oj"
      },
      "execution_count": null,
      "outputs": []
    },
    {
      "cell_type": "code",
      "source": [
        "# Wilcoxon(윌콕슨)의 부호 순위 검정 수행 (diff)\n"
      ],
      "metadata": {
        "id": "X2VJ22P_ptux"
      },
      "execution_count": null,
      "outputs": []
    },
    {
      "cell_type": "code",
      "source": [],
      "metadata": {
        "id": "RrhL1kJET-97"
      },
      "execution_count": null,
      "outputs": []
    },
    {
      "cell_type": "markdown",
      "source": [
        "# 독립표본검정"
      ],
      "metadata": {
        "id": "BYU2nuhzMm6r"
      }
    },
    {
      "cell_type": "markdown",
      "source": [
        "다음은 빅데이터 분석기사 실기 시험 점수이다. A그룹과 B그룹의 평균 점수가 차이가 있는지 유의수준 0.05하에서 가설 검정하시오.\n",
        "(데이터는 정규분포를 따르고 분산이 동일하다고 가정한다.)\n",
        "- 귀무가설(H0): 그룹별 시험 평균 점수는 차이가 없다. (μ1 = μ2)\n",
        "- 대립가설(H1): 그룹별 시험 평균 점수는 차이가 있다. (μ1 ≠ μ2)"
      ],
      "metadata": {
        "id": "EtVcv6ysUt1W"
      }
    },
    {
      "cell_type": "markdown",
      "source": [
        "## 1. 기초"
      ],
      "metadata": {
        "id": "3bxwaHM2Uq0g"
      }
    },
    {
      "cell_type": "code",
      "source": [
        "# 데이터\n",
        "A = [85, 90, 92, 88, 86, 89, 83, 87,\n",
        "     84, 50, 60, 39, 28, 48, 38, 28]\n",
        "B = [82, 82, 88, 85, 84, 74, 79, 69,\n",
        "     78, 76, 85, 84, 79, 89]"
      ],
      "metadata": {
        "id": "El6O2uwYBeLc"
      },
      "execution_count": null,
      "outputs": []
    },
    {
      "cell_type": "markdown",
      "source": [
        "### 독립표본검정"
      ],
      "metadata": {
        "id": "4am7ta59kGKJ"
      }
    },
    {
      "cell_type": "code",
      "source": [
        "# 독립표본검정\n"
      ],
      "metadata": {
        "id": "IJBApyCeM0yk"
      },
      "execution_count": null,
      "outputs": []
    },
    {
      "cell_type": "markdown",
      "source": [
        "### 등분산"
      ],
      "metadata": {
        "id": "fWGTgRAniIGN"
      }
    },
    {
      "cell_type": "code",
      "source": [
        "# 두 집단의 분산이 다르다(equal_var=False)\n"
      ],
      "metadata": {
        "id": "jDFDL5fJM7Cu"
      },
      "execution_count": null,
      "outputs": []
    },
    {
      "cell_type": "markdown",
      "source": [
        "- 귀무가설(H0): 그룹별 시험 평균 점수는 차이가 없다. (μ1 = μ2)\n",
        "- 대립가설(H1): B그룹 시험 평균 점수가 더 높다. (μ1 < μ2)"
      ],
      "metadata": {
        "id": "AFgCWUWxhwm_"
      }
    },
    {
      "cell_type": "code",
      "source": [
        "# 독립표본검정(less)\n"
      ],
      "metadata": {
        "id": "ESY4fIAWNL7Y"
      },
      "execution_count": null,
      "outputs": []
    },
    {
      "cell_type": "markdown",
      "source": [
        "- 귀무가설(H0): 그룹별 시험 평균 점수는 차이가 없다. (μ1 = μ2)\n",
        "- 대립가설(H1): A그룹 시험 평균 점수가 더 높다. (μ1 > μ2)"
      ],
      "metadata": {
        "id": "syRREwRbh8vG"
      }
    },
    {
      "cell_type": "code",
      "source": [
        "# 독립표본검정(greater)\n"
      ],
      "metadata": {
        "id": "ASqJKMOgNRcH"
      },
      "execution_count": null,
      "outputs": []
    },
    {
      "cell_type": "markdown",
      "source": [
        "## 2. 심화"
      ],
      "metadata": {
        "id": "0r1CD7XudcEJ"
      }
    },
    {
      "cell_type": "code",
      "source": [
        "# 데이터\n",
        "import pandas as pd\n",
        "A = [85, 90, 92, 88, 86, 89, 83, 87,\n",
        "     84, 50, 60, 39, 28, 48, 38, 28]\n",
        "B = [82, 82, 88, 85, 84, 74, 79, 69,\n",
        "     78, 76, 85, 84, 79, 89]"
      ],
      "metadata": {
        "id": "NqFJ4Um9dfEy"
      },
      "execution_count": null,
      "outputs": []
    },
    {
      "cell_type": "markdown",
      "source": [
        "### Shapiro-Wilk 검정"
      ],
      "metadata": {
        "id": "h8XH1IIojwQi"
      }
    },
    {
      "cell_type": "code",
      "source": [
        "# Shapiro-Wilk(샤피로-윌크) 정규성 검정\n"
      ],
      "metadata": {
        "id": "hFjt4PtKikLh"
      },
      "execution_count": null,
      "outputs": []
    },
    {
      "cell_type": "markdown",
      "source": [
        "### Levene 검정"
      ],
      "metadata": {
        "id": "TQuQbIPBjxN7"
      }
    },
    {
      "cell_type": "code",
      "source": [
        "# Levene(레빈) 등분산 검정 (귀무가설: 분산이 동일하다)\n",
        "stats.levene(A, B)"
      ],
      "metadata": {
        "id": "TCqI_1gndfJ3"
      },
      "execution_count": null,
      "outputs": []
    },
    {
      "cell_type": "markdown",
      "source": [
        "### 독립표본검정"
      ],
      "metadata": {
        "id": "6oXR4Py4lzDu"
      }
    },
    {
      "cell_type": "markdown",
      "source": [
        "- 귀무가설(H0): 그룹별 시험 평균 점수는 차이가 없다. (μ1 = μ2)\n",
        "- 대립가설(H1): B그룹 시험 평균 점수가 더 높다. (μ1 < μ2)"
      ],
      "metadata": {
        "id": "xVrp-5T5KsyG"
      }
    },
    {
      "cell_type": "code",
      "source": [
        "# 독립표본검정\n"
      ],
      "metadata": {
        "id": "Kimci0kWdfMb"
      },
      "execution_count": null,
      "outputs": []
    },
    {
      "cell_type": "code",
      "source": [],
      "metadata": {
        "id": "oYRCmYeCi9kJ"
      },
      "execution_count": null,
      "outputs": []
    },
    {
      "cell_type": "markdown",
      "source": [
        "### Mann-Whitney U 검정 (비모수 검정)"
      ],
      "metadata": {
        "id": "GQityTjdjHiD"
      }
    },
    {
      "cell_type": "markdown",
      "source": [
        "- 귀무가설(H0): 그룹별 시험 평균 점수는 차이가 없다. (μ1 = μ2)\n",
        "- 대립가설(H1): B그룹 시험 평균 점수가 더 높다. (μ1 < μ2)"
      ],
      "metadata": {
        "id": "jk0zoZgPKq8Z"
      }
    },
    {
      "cell_type": "code",
      "source": [
        "# Mann-Whitney U(만-휘트니 유) 검정\n"
      ],
      "metadata": {
        "id": "-b36JAVvfUeN"
      },
      "execution_count": null,
      "outputs": []
    },
    {
      "cell_type": "code",
      "source": [],
      "metadata": {
        "id": "1D1vDxze5DaW"
      },
      "execution_count": null,
      "outputs": []
    }
  ]
}