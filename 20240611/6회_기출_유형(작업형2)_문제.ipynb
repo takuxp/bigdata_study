{
  "cells": [
    {
      "cell_type": "markdown",
      "metadata": {
        "colab_type": "text",
        "id": "view-in-github"
      },
      "source": [
        "<a href=\"https://colab.research.google.com/github/takuxp/bigdata_study/blob/main/6%ED%9A%8C_%EA%B8%B0%EC%B6%9C_%EC%9C%A0%ED%98%95(%EC%9E%91%EC%97%85%ED%98%952)_%EB%AC%B8%EC%A0%9C.ipynb\" target=\"_parent\"><img src=\"https://colab.research.google.com/assets/colab-badge.svg\" alt=\"Open In Colab\"/></a>"
      ]
    },
    {
      "cell_type": "markdown",
      "metadata": {
        "id": "JiFc-11Gk38n"
      },
      "source": [
        "## 다중 분류 문제\n",
        "- 난방 부하 단계를 예측해주세요!\n",
        "\n",
        "- 예측할 값(y): Heat_Load (Very Low, Low, Medium, High, Very High)\n",
        "- 평가: f1-macro\n",
        "- data: train.csv, test.csv\n",
        "- 제출 형식: result.csv파일을 아래와 같은 형식으로 제출\n",
        "~~~\n",
        "pred\n",
        "Very Low\n",
        "Low\n",
        "High\n",
        "...\n",
        "Very High\n",
        "~~~\n",
        "\n",
        "### 답안 제출 참고\n",
        "- pd.read_csv('result.csv') 로 제출 코드 확인"
      ]
    },
    {
      "cell_type": "code",
      "execution_count": 17,
      "metadata": {
        "id": "DO-sHoMUL7mN"
      },
      "outputs": [
        {
          "name": "stdout",
          "output_type": "stream",
          "text": [
            "   Compac  Surf_Area  Wall_Area    Roof Height Orient  Glaze_Area  \\\n",
            "0    0.64      784.0      343.0   220.5  Short  South        0.40   \n",
            "1    0.82      612.5      318.5   Large   Tall  North        0.40   \n",
            "2    0.76      661.5      416.5  Medium   Tall  South        0.10   \n",
            "3    0.74      686.0      245.0   220.5  Short   East        0.40   \n",
            "4    0.64      784.0      343.0   220.5  Short  North        0.25   \n",
            "\n",
            "   Glaze_Distr  Cool_Load  \n",
            "0            4      22.25  \n",
            "1            3      32.43  \n",
            "2            5      33.64  \n",
            "3            1      17.25  \n",
            "4            5      20.13  \n"
          ]
        }
      ],
      "source": [
        "import pandas as pd\n",
        "train = pd.read_csv(\"energy_train.csv\")\n",
        "test = pd.read_csv(\"energy_test.csv\")\n",
        "print(test.head())"
      ]
    },
    {
      "cell_type": "code",
      "execution_count": 18,
      "metadata": {
        "id": "il2i1B8YnZI3"
      },
      "outputs": [],
      "source": [
        "# print(train.shape, test.shape)\n",
        "# print(train.isnull().sum())\n",
        "# print(train.info())\n",
        "train_result = train.pop('Heat_Load')\n",
        "cols = ['Roof', 'Height', 'Orient']\n",
        "# pd.get_dummies(train)\n",
        "# pd.get_dummies(test)\n",
        "from sklearn.preprocessing import LabelEncoder\n",
        "le = LabelEncoder()\n",
        "for col in cols:\n",
        "\ttrain[col] = le.fit_transform(train[col])\n",
        "\ttest[col] = le.fit_transform(test[col])"
      ]
    },
    {
      "cell_type": "code",
      "execution_count": 20,
      "metadata": {
        "id": "_kkLqKabnZLW"
      },
      "outputs": [],
      "source": [
        "# train_result\n",
        "# train\n",
        "from sklearn.ensemble import RandomForestClassifier\n",
        "rf = RandomForestClassifier()\n",
        "rf.fit(train, train_result)\n",
        "pred = rf.predict(test)"
      ]
    },
    {
      "cell_type": "code",
      "execution_count": 22,
      "metadata": {
        "id": "ZAj62-qxnZNn"
      },
      "outputs": [],
      "source": [
        "submit = pd.DataFrame({\n",
        "    'pred': pred\n",
        "})"
      ]
    },
    {
      "cell_type": "code",
      "execution_count": 25,
      "metadata": {
        "id": "Rwt-0srlnZQj"
      },
      "outputs": [],
      "source": [
        "submit.to_csv(\"result.csv\", index=False)"
      ]
    },
    {
      "cell_type": "code",
      "execution_count": null,
      "metadata": {},
      "outputs": [],
      "source": []
    },
    {
      "cell_type": "markdown",
      "metadata": {},
      "source": []
    }
  ],
  "metadata": {
    "colab": {
      "include_colab_link": true,
      "provenance": []
    },
    "kernelspec": {
      "display_name": "Python 3",
      "name": "python3"
    },
    "language_info": {
      "codemirror_mode": {
        "name": "ipython",
        "version": 3
      },
      "file_extension": ".py",
      "mimetype": "text/x-python",
      "name": "python",
      "nbconvert_exporter": "python",
      "pygments_lexer": "ipython3",
      "version": "3.11.7"
    }
  },
  "nbformat": 4,
  "nbformat_minor": 0
}
