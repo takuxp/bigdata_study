{
  "cells": [
    {
      "cell_type": "markdown",
      "metadata": {
        "colab_type": "text",
        "id": "view-in-github"
      },
      "source": [
        "<a href=\"https://colab.research.google.com/github/takuxp/bigdata_study/blob/main/6%ED%9A%8C_%EA%B8%B0%EC%B6%9C_%EC%9C%A0%ED%98%95(%EC%9E%91%EC%97%85%ED%98%951)_%EB%AC%B8%EC%A0%9C.ipynb\" target=\"_parent\"><img src=\"https://colab.research.google.com/assets/colab-badge.svg\" alt=\"Open In Colab\"/></a>"
      ]
    },
    {
      "cell_type": "markdown",
      "metadata": {
        "id": "C352FXmlMvvS"
      },
      "source": [
        "1. 주어진 데이터는 각 소방서의 출동/도착 시간데이터이다.\n",
        "출동시간과 도착시간 차이가 평균적으로 가장 오래 걸린 소방서의 시간을 분으로 변환해 출력하시오. (반올림 후 정수 출력)"
      ]
    },
    {
      "cell_type": "code",
      "execution_count": 1,
      "metadata": {
        "id": "PtrSDVWgMp07"
      },
      "outputs": [],
      "source": [
        "import pandas as pd\n",
        "df = pd.read_csv(\"data6-1-1.csv\")"
      ]
    },
    {
      "cell_type": "code",
      "execution_count": 5,
      "metadata": {
        "id": "wEhXFdON2WJ6"
      },
      "outputs": [],
      "source": [
        "df['출동'] = pd.to_datetime(df['출동시간'])\n",
        "df['도착'] = pd.to_datetime(df['도착시간'])"
      ]
    },
    {
      "cell_type": "code",
      "execution_count": 56,
      "metadata": {
        "id": "IzT0zg8uhPQP"
      },
      "outputs": [
        {
          "name": "stderr",
          "output_type": "stream",
          "text": [
            "/var/folders/2r/cx_5l5wj1lz_gqqbt1pvk3t40000gn/T/ipykernel_7791/2298170610.py:4: FutureWarning: Series.__getitem__ treating keys as positions is deprecated. In a future version, integer keys will always be treated as labels (consistent with DataFrame behavior). To access a value by position, use `ser.iloc[pos]`\n",
            "  result.sort_values(ascending = False)[0]\n"
          ]
        },
        {
          "data": {
            "text/plain": [
              "80.6588888888889"
            ]
          },
          "execution_count": 56,
          "metadata": {},
          "output_type": "execute_result"
        }
      ],
      "source": [
        "df['diff'] = df['도착'] - df['출동']\n",
        "df['diff'] = df['diff'].dt.total_seconds() / 60\n",
        "result = df.groupby('소방서')['diff'].mean()\n",
        "result.sort_values(ascending = False)[0]\n"
      ]
    },
    {
      "cell_type": "code",
      "execution_count": 55,
      "metadata": {
        "id": "kcpVVlADhPiO"
      },
      "outputs": [
        {
          "name": "stdout",
          "output_type": "stream",
          "text": [
            "81\n"
          ]
        }
      ],
      "source": [
        "fcn = []\n",
        "result = []\n",
        "for fc in set(df['소방서']):\n",
        "    cond1 = df['소방서'] == fc\n",
        "    fcn.append(fc)\n",
        "    result.append(df[cond1]['diff'].mean())\n",
        "    \n",
        "fcd = pd.DataFrame({\n",
        "    '소방서': fcn,\n",
        "    'diff': result\n",
        "})\n",
        "fcd = fcd.sort_values('diff', ascending=False)\n",
        "\n",
        "\n",
        "print(round(fcd.iloc[0,-1]))\n"
      ]
    },
    {
      "cell_type": "markdown",
      "metadata": {
        "id": "WHPehQIr2G0R"
      },
      "source": [
        "2. 학교에서 교사 한 명당 맡은 학생 수가 가장 많은 학교를 찾고, 그 학교의 전체 교사 수를 구하시오. (정수 출력)"
      ]
    },
    {
      "cell_type": "code",
      "execution_count": 96,
      "metadata": {
        "id": "n-_CJh6-2K-g"
      },
      "outputs": [],
      "source": [
        "import pandas as pd\n",
        "df = pd.read_csv(\"data6-1-2.csv\")\n",
        "df['tot'] = df['1학년'] + df['2학년'] + df['3학년'] + df['4학년'] + df['5학년'] + df['6학년']\n",
        "# df['tot'] = df[:, 2:].sum(axis=1)\n",
        "df['tpers'] = df['tot'] / df['교사수']"
      ]
    },
    {
      "cell_type": "code",
      "execution_count": 97,
      "metadata": {
        "id": "GfI4dkM6hTMq"
      },
      "outputs": [
        {
          "data": {
            "text/plain": [
              "7"
            ]
          },
          "execution_count": 97,
          "metadata": {},
          "output_type": "execute_result"
        }
      ],
      "source": [
        "df = df.sort_values('tpers', ascending=False)\n",
        "df\n",
        "df['tpers'].idxmax()"
      ]
    },
    {
      "cell_type": "code",
      "execution_count": 73,
      "metadata": {
        "id": "PGlgb84GhTPq"
      },
      "outputs": [
        {
          "name": "stdout",
          "output_type": "stream",
          "text": [
            "19\n"
          ]
        }
      ],
      "source": [
        "print(df.iloc[0,:]['교사수'])"
      ]
    },
    {
      "cell_type": "markdown",
      "metadata": {
        "id": "ur3vOFxy72jV"
      },
      "source": [
        "3. 연도별로 총 범죄 건수(범죄유형의 총합)의 월평균 값을 구한 후 그 값이 가장 큰 연도를 찾아, 해당 연도의 총 범죄 건수의 월평균 값을 출력하시오. (반올림하여 정수로 출력)"
      ]
    },
    {
      "cell_type": "code",
      "execution_count": 77,
      "metadata": {
        "id": "pcfb-167794O"
      },
      "outputs": [],
      "source": [
        "import pandas as pd\n",
        "df = pd.read_csv(\"data6-1-3.csv\")"
      ]
    },
    {
      "cell_type": "code",
      "execution_count": 84,
      "metadata": {
        "id": "KTAXIy1zCFhE"
      },
      "outputs": [],
      "source": [
        "df['총범죄'] = df.iloc[:,1:-1].sum(axis=1) #열방향으로 sum"
      ]
    },
    {
      "cell_type": "code",
      "execution_count": 88,
      "metadata": {
        "id": "vhlrbJN7hW7Z"
      },
      "outputs": [],
      "source": [
        "df['연도'] = df['날짜'].str[:4]\n",
        "result = df.groupby(\"연도\")['총범죄'].sum()/12"
      ]
    },
    {
      "cell_type": "code",
      "execution_count": 92,
      "metadata": {
        "id": "jOnhf3j_hW98"
      },
      "outputs": [
        {
          "name": "stdout",
          "output_type": "stream",
          "text": [
            "515\n"
          ]
        }
      ],
      "source": [
        "print(round(result.max()))"
      ]
    },
    {
      "cell_type": "code",
      "execution_count": null,
      "metadata": {},
      "outputs": [],
      "source": []
    }
  ],
  "metadata": {
    "colab": {
      "include_colab_link": true,
      "provenance": []
    },
    "kernelspec": {
      "display_name": "Python 3",
      "name": "python3"
    },
    "language_info": {
      "codemirror_mode": {
        "name": "ipython",
        "version": 3
      },
      "file_extension": ".py",
      "mimetype": "text/x-python",
      "name": "python",
      "nbconvert_exporter": "python",
      "pygments_lexer": "ipython3",
      "version": "3.11.7"
    }
  },
  "nbformat": 4,
  "nbformat_minor": 0
}
