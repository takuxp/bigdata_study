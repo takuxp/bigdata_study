{
  "cells": [
    {
      "cell_type": "markdown",
      "metadata": {
        "colab_type": "text",
        "id": "view-in-github"
      },
      "source": [
        "<a href=\"https://colab.research.google.com/github/takuxp/bigdata_study/blob/main/6%ED%9A%8C_%EA%B8%B0%EC%B6%9C_%EC%9C%A0%ED%98%95(%EC%9E%91%EC%97%85%ED%98%953)_%ED%92%80%EC%9D%B4.ipynb\" target=\"_parent\"><img src=\"https://colab.research.google.com/assets/colab-badge.svg\" alt=\"Open In Colab\"/></a>"
      ]
    },
    {
      "cell_type": "markdown",
      "metadata": {
        "id": "xcmkuNKkYZyN"
      },
      "source": [
        "### Q1. 항암약 위약을 투여 받은 환자의 부작용은 감기약 위약을 투여 받은 환자의 부작용 분포와 차이가 있는가?"
      ]
    },
    {
      "cell_type": "markdown",
      "metadata": {
        "id": "RpO9RfeNvvN3"
      },
      "source": [
        "항암약(위약)을 투여 받은 환자 그룹의 관찰된 부작용"
      ]
    },
    {
      "cell_type": "code",
      "execution_count": 1,
      "metadata": {
        "id": "h3JLqTc6upep"
      },
      "outputs": [],
      "source": [
        "import pandas as pd\n",
        "df = pd.DataFrame({ \"항암약\":[4,4,3,4,1,4,1,4,1,4,4,2,1,4,2,3,2,4,4,4] })\n",
        "# 1: '아픔', 2: '조금 아픔', 3: '속쓰림', 4: '무증상'"
      ]
    },
    {
      "cell_type": "markdown",
      "metadata": {
        "id": "UW3ECD7Ju3t4"
      },
      "source": [
        "감기약(위약)을 투여받은 환자들 중의 알려진 부작용 발생 비율\n"
      ]
    },
    {
      "cell_type": "code",
      "execution_count": null,
      "metadata": {
        "id": "PS9rTPvty31D"
      },
      "outputs": [],
      "source": [
        "# 1. 아픔: 10%\n",
        "# 2. 조금 아픔 5%\n",
        "# 3. 속 쓰림 15%\n",
        "# 4. 무증상: 70%"
      ]
    },
    {
      "cell_type": "markdown",
      "metadata": {
        "id": "VeTeYxDYxzPw"
      },
      "source": [
        "-\t귀무가설(H0): 감기약(위약)의 부작용과 항암약(위약)의 부작용은 동일하다.\n",
        "- \t대립가설(H1): 감기약(위약)의 부작용과 항암약(위약)의 부작용은 다르다."
      ]
    },
    {
      "cell_type": "markdown",
      "metadata": {
        "id": "2LjbHGCOzPLb"
      },
      "source": [
        " ### 1-1. 항암약을 투여 받은 환자 중 '무증상'의 비율을 0과 1사이로 구하시오."
      ]
    },
    {
      "cell_type": "code",
      "execution_count": 5,
      "metadata": {
        "colab": {
          "base_uri": "https://localhost:8080/"
        },
        "id": "K450ZdmXT7f8",
        "outputId": "fd521fd0-701c-48e5-ea7f-440bdb5e2aad"
      },
      "outputs": [
        {
          "name": "stdout",
          "output_type": "stream",
          "text": [
            "0.55\n"
          ]
        }
      ],
      "source": [
        "# cond = df['항암약'] == 4\n",
        "# sum(cond) / len(df['항암약'])\n",
        "\n",
        "cond = df['항암약'] == 4\n",
        "cnt4 = len(df[cond])\n",
        "tot = len(df)\n",
        "rate = cnt4 / tot\n",
        "print(rate)"
      ]
    },
    {
      "cell_type": "code",
      "execution_count": null,
      "metadata": {
        "colab": {
          "base_uri": "https://localhost:8080/"
        },
        "id": "_sqWMbMWUPdM",
        "outputId": "13b98655-1898-4573-f748-0f83347ed04e"
      },
      "outputs": [
        {
          "data": {
            "text/plain": [
              "4    0.55\n",
              "1    0.20\n",
              "2    0.15\n",
              "3    0.10\n",
              "Name: 항암약, dtype: float64"
            ]
          },
          "execution_count": 20,
          "metadata": {},
          "output_type": "execute_result"
        }
      ],
      "source": [
        "df['항암약'].value_counts(normalize=True)"
      ]
    },
    {
      "cell_type": "markdown",
      "metadata": {
        "id": "DAtV-bFQzZPW"
      },
      "source": [
        "### 1-2. 감기약의 예상 부작용 비율과 항암약의 부작용 관찰값이 통계적으로 유의미하게 차이가 있는지 확인하려 한다. 카이 제곱 검정을 사용하여 검정 통계량을 구하시오."
      ]
    },
    {
      "cell_type": "code",
      "execution_count": null,
      "metadata": {
        "colab": {
          "base_uri": "https://localhost:8080/"
        },
        "id": "2Rj2CfgtVUpp",
        "outputId": "368deaca-50bf-419b-aeed-b6d137e598e9"
      },
      "outputs": [
        {
          "data": {
            "text/plain": [
              "Power_divergenceResult(statistic=6.976190476190476, pvalue=0.07266054733847573)"
            ]
          },
          "execution_count": 27,
          "metadata": {},
          "output_type": "execute_result"
        }
      ],
      "source": [
        "ob = df['항암약'].value_counts().sort_index().to_list()\n",
        "ex = [0.1 * 20, 0.05 * 20, 0.15 * 20, 0.7 * 20]\n",
        "\n",
        "from scipy import stats\n",
        "stats.chisquare(ob, ex)"
      ]
    },
    {
      "cell_type": "code",
      "execution_count": null,
      "metadata": {
        "id": "bs0lyD_0jtQL"
      },
      "outputs": [],
      "source": [
        "6.976190476190476"
      ]
    },
    {
      "cell_type": "markdown",
      "metadata": {
        "id": "PdyzwHKLzsJF"
      },
      "source": [
        "### 1-3. 위의 p-값을 구하시오"
      ]
    },
    {
      "cell_type": "code",
      "execution_count": null,
      "metadata": {
        "id": "Rs0fpD0rSp91"
      },
      "outputs": [],
      "source": [
        "0.07266054733847573"
      ]
    },
    {
      "cell_type": "code",
      "execution_count": null,
      "metadata": {
        "id": "b-benUfqSqAp"
      },
      "outputs": [],
      "source": []
    },
    {
      "cell_type": "markdown",
      "metadata": {
        "id": "t6IB5WUEq-SI"
      },
      "source": [
        "### Q2. 다중 선형 회귀 문제"
      ]
    },
    {
      "cell_type": "code",
      "execution_count": 1,
      "metadata": {
        "colab": {
          "base_uri": "https://localhost:8080/",
          "height": 111
        },
        "id": "lWNTYD4-ZXg3",
        "outputId": "fcd62680-a815-4010-9397-06526a94d5db"
      },
      "outputs": [
        {
          "data": {
            "text/html": [
              "<div>\n",
              "<style scoped>\n",
              "    .dataframe tbody tr th:only-of-type {\n",
              "        vertical-align: middle;\n",
              "    }\n",
              "\n",
              "    .dataframe tbody tr th {\n",
              "        vertical-align: top;\n",
              "    }\n",
              "\n",
              "    .dataframe thead th {\n",
              "        text-align: right;\n",
              "    }\n",
              "</style>\n",
              "<table border=\"1\" class=\"dataframe\">\n",
              "  <thead>\n",
              "    <tr style=\"text-align: right;\">\n",
              "      <th></th>\n",
              "      <th>solar</th>\n",
              "      <th>wind</th>\n",
              "      <th>o3</th>\n",
              "      <th>temperature</th>\n",
              "    </tr>\n",
              "  </thead>\n",
              "  <tbody>\n",
              "    <tr>\n",
              "      <th>0</th>\n",
              "      <td>89.14</td>\n",
              "      <td>6.28</td>\n",
              "      <td>33.52</td>\n",
              "      <td>23.0</td>\n",
              "    </tr>\n",
              "    <tr>\n",
              "      <th>1</th>\n",
              "      <td>109.97</td>\n",
              "      <td>1.04</td>\n",
              "      <td>27.01</td>\n",
              "      <td>20.7</td>\n",
              "    </tr>\n",
              "  </tbody>\n",
              "</table>\n",
              "</div>"
            ],
            "text/plain": [
              "    solar  wind     o3  temperature\n",
              "0   89.14  6.28  33.52         23.0\n",
              "1  109.97  1.04  27.01         20.7"
            ]
          },
          "execution_count": 1,
          "metadata": {},
          "output_type": "execute_result"
        }
      ],
      "source": [
        "import pandas as pd\n",
        "df = pd.read_csv(\"data6-3-2.csv\")\n",
        "df.head(2)"
      ]
    },
    {
      "cell_type": "markdown",
      "metadata": {
        "id": "7KjxkwaVY6NX"
      },
      "source": [
        "1. 다중 선형 회귀 모델을 구축하고, 독립변수 o3의 회귀계수를 구하시오.\n",
        "- 독립변수: solar(태양 에너지), wind(바람의 세기), o3(오존 농도)\n",
        "- 종속변수: temperature(온도)\n"
      ]
    },
    {
      "cell_type": "code",
      "execution_count": 2,
      "metadata": {
        "colab": {
          "base_uri": "https://localhost:8080/"
        },
        "id": "Kt5rnQwBac5f",
        "outputId": "e0aaafde-fa87-424d-e106-ffb42db60ddf"
      },
      "outputs": [
        {
          "name": "stdout",
          "output_type": "stream",
          "text": [
            "                            OLS Regression Results                            \n",
            "==============================================================================\n",
            "Dep. Variable:            temperature   R-squared:                       0.044\n",
            "Model:                            OLS   Adj. R-squared:                  0.014\n",
            "Method:                 Least Squares   F-statistic:                     1.464\n",
            "Date:                Wed, 12 Jun 2024   Prob (F-statistic):              0.229\n",
            "Time:                        19:23:13   Log-Likelihood:                -195.45\n",
            "No. Observations:                 100   AIC:                             398.9\n",
            "Df Residuals:                      96   BIC:                             409.3\n",
            "Df Model:                           3                                         \n",
            "Covariance Type:            nonrobust                                         \n",
            "==============================================================================\n",
            "                 coef    std err          t      P>|t|      [0.025      0.975]\n",
            "------------------------------------------------------------------------------\n",
            "Intercept     19.0507      1.994      9.555      0.000      15.093      23.008\n",
            "solar          0.0039      0.015      0.251      0.802      -0.027       0.035\n",
            "wind          -0.0252      0.090     -0.280      0.780      -0.204       0.153\n",
            "o3             0.0749      0.036      2.079      0.040       0.003       0.146\n",
            "==============================================================================\n",
            "Omnibus:                        0.654   Durbin-Watson:                   2.328\n",
            "Prob(Omnibus):                  0.721   Jarque-Bera (JB):                0.672\n",
            "Skew:                           0.187   Prob(JB):                        0.715\n",
            "Kurtosis:                       2.855   Cond. No.                     1.20e+03\n",
            "==============================================================================\n",
            "\n",
            "Notes:\n",
            "[1] Standard Errors assume that the covariance matrix of the errors is correctly specified.\n",
            "[2] The condition number is large, 1.2e+03. This might indicate that there are\n",
            "strong multicollinearity or other numerical problems.\n"
          ]
        },
        {
          "data": {
            "text/plain": [
              "0.07493854378136569"
            ]
          },
          "execution_count": 2,
          "metadata": {},
          "output_type": "execute_result"
        }
      ],
      "source": [
        "from statsmodels.formula.api import ols\n",
        "formula = \"temperature ~ solar + wind + o3\"\n",
        "model = ols(formula, data=df).fit()\n",
        "print(model.summary())\n",
        "# 0.0749\n",
        "model.params['o3']"
      ]
    },
    {
      "cell_type": "markdown",
      "metadata": {
        "id": "G8VM1_CAZEcg"
      },
      "source": [
        "2. 데이터에서 'solar'와 'o3' 값을 고정한 상태에서, 'wind'의 세기가 증가함에 따라 'temperature'가 감소하는지를 검증하기 위해 다중 선형 회귀 분석을 수행하고, 이 때'wind'의 회귀 계수에 대한 p-value 값을 구하시오. (유의수준: 0.05)"
      ]
    },
    {
      "cell_type": "code",
      "execution_count": 3,
      "metadata": {
        "colab": {
          "base_uri": "https://localhost:8080/"
        },
        "id": "KsL_vvCedUcF",
        "outputId": "1c0c155b-deed-4220-e613-05bf6e42c3ee"
      },
      "outputs": [
        {
          "data": {
            "text/plain": [
              "0.7797177202071688"
            ]
          },
          "execution_count": 3,
          "metadata": {},
          "output_type": "execute_result"
        }
      ],
      "source": [
        "0.78\n",
        "model.pvalues['wind']"
      ]
    },
    {
      "cell_type": "markdown",
      "metadata": {
        "id": "n4quUS-mZMsG"
      },
      "source": [
        "3. solar:100, wind:5, o3:30일 때 예측값과 그에 대한 95% 신뢰구간을 구하시오."
      ]
    },
    {
      "cell_type": "code",
      "execution_count": null,
      "metadata": {
        "colab": {
          "base_uri": "https://localhost:8080/"
        },
        "id": "PHce5yRbZSrl",
        "outputId": "067eeee6-956e-4224-9c94-034d71e88f7f"
      },
      "outputs": [
        {
          "name": "stdout",
          "output_type": "stream",
          "text": [
            "       mean   mean_se  mean_ci_lower  mean_ci_upper  obs_ci_lower  \\\n",
            "0  21.56163  0.175263      21.213737      21.909524     18.082985   \n",
            "\n",
            "   obs_ci_upper  \n",
            "0     25.040276  \n"
          ]
        }
      ],
      "source": [
        "new_data = pd.DataFrame({\n",
        "    'solar':[100],\n",
        "    'wind':[5],\n",
        "    'o3':[30]\n",
        "})\n",
        "pred = model.get_prediction(new_data)\n",
        "print(pred.summary_frame(alpha=0.05))"
      ]
    },
    {
      "cell_type": "code",
      "execution_count": null,
      "metadata": {
        "id": "f_S8Y3wJZSuJ"
      },
      "outputs": [],
      "source": [
        "# 예측값 21.56163\n",
        "# 예측값에 대한 95% 신뢰구간 21.213737      21.909524"
      ]
    },
    {
      "cell_type": "code",
      "execution_count": null,
      "metadata": {
        "id": "oG1tIKdoj5ih"
      },
      "outputs": [],
      "source": []
    }
  ],
  "metadata": {
    "colab": {
      "include_colab_link": true,
      "provenance": []
    },
    "kernelspec": {
      "display_name": "Python 3",
      "name": "python3"
    },
    "language_info": {
      "codemirror_mode": {
        "name": "ipython",
        "version": 3
      },
      "file_extension": ".py",
      "mimetype": "text/x-python",
      "name": "python",
      "nbconvert_exporter": "python",
      "pygments_lexer": "ipython3",
      "version": "3.12.3"
    }
  },
  "nbformat": 4,
  "nbformat_minor": 0
}
