{
 "cells": [
  {
   "cell_type": "code",
   "execution_count": null,
   "metadata": {},
   "outputs": [],
   "source": [
    "#스케일링\n",
    "from sklearn.preprocessing import minmax_scale\n",
    "data[\"qsec\"] = minmax_scale(data[\"qsec\"])\n",
    "\n",
    "#레이블인코딩\n",
    "from sklearn.preprocessing import LabelEncoder\n",
    "cols1 = ['주구매상품', '주구매지점']\n",
    "le = LabelEncoder()\n",
    "for col in cols1:\n",
    "\ttrain[col] = le.fit_transform(train[col])\n",
    "\ttest[col] = le.fit_transform(test[col])\n",
    "\n",
    "#트레인데이터테스트데이터 나누기\n",
    "from sklearn.model_selection import train_test_split\n",
    "X_tr, X_val, y_tr, y_val = train_test_split(train, target, test_size=0.2, random_state=0)\n",
    "\n",
    "#모델학습\n",
    "from sklearn.ensemble import RandomForestClassifier\n",
    "model = RandomForestClassifier()\n",
    "model.fit(X_tr, y_tr)\n",
    "pred = model.predict_proba(X_val)\n",
    "\n",
    "#평가\n",
    "from sklearn.metrics import roc_auc_score\n",
    "print(roc_auc_score(y_val, pred[:, 1]))"
   ]
  }
 ],
 "metadata": {
  "language_info": {
   "name": "python"
  }
 },
 "nbformat": 4,
 "nbformat_minor": 2
}
