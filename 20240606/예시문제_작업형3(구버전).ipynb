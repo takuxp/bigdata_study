{
 "cells": [
  {
   "cell_type": "code",
   "execution_count": null,
   "metadata": {},
   "outputs": [],
   "source": [
    "import pandas as pd\n",
    "df = pd.reac_csv('data/blood_pressure.csv')\n",
    "\n",
    "df['diff'] = df['bp_after'] - df['bp_before']\n",
    "# 1.\n",
    "print(round(df['doff'].mean(), 2)) #round(0.0000001, 2) 소수점 둘째자리까지\n",
    "\n",
    "from scipy import stats\n",
    "result = stats.ttest_rel(df['bp_after'], df['bp_before'], alternative='less')\n",
    "print(result)"
   ]
  }
 ],
 "metadata": {
  "language_info": {
   "name": "python"
  }
 },
 "nbformat": 4,
 "nbformat_minor": 2
}
