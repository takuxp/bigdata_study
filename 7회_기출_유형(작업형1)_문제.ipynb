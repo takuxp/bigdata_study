{
  "nbformat": 4,
  "nbformat_minor": 0,
  "metadata": {
    "colab": {
      "provenance": [],
      "include_colab_link": true
    },
    "kernelspec": {
      "name": "python3",
      "display_name": "Python 3"
    },
    "language_info": {
      "name": "python"
    }
  },
  "cells": [
    {
      "cell_type": "markdown",
      "metadata": {
        "id": "view-in-github",
        "colab_type": "text"
      },
      "source": [
        "<a href=\"https://colab.research.google.com/github/takuxp/bigdata_study/blob/main/7%ED%9A%8C_%EA%B8%B0%EC%B6%9C_%EC%9C%A0%ED%98%95(%EC%9E%91%EC%97%85%ED%98%951)_%EB%AC%B8%EC%A0%9C.ipynb\" target=\"_parent\"><img src=\"https://colab.research.google.com/assets/colab-badge.svg\" alt=\"Open In Colab\"/></a>"
      ]
    },
    {
      "cell_type": "markdown",
      "source": [
        "## 작업형1"
      ],
      "metadata": {
        "id": "ImS-bayEojdA"
      }
    },
    {
      "cell_type": "markdown",
      "source": [
        "### 문제1. 결측치가 있는 행을 제거한 후, 학생이 가장 많이 수강한 과목(id_assessment)을 찾고, 해당 과목 점수(score)를 표준화(스탠다스 스케일) 한 뒤에 표준화된 가장 큰 값을 구하시오. (반올림하여 소수 셋째자리까지 계산)"
      ],
      "metadata": {
        "id": "JO-2zLFZsse1"
      }
    },
    {
      "cell_type": "code",
      "execution_count": null,
      "metadata": {
        "id": "QfWBB-yjCuX8"
      },
      "outputs": [],
      "source": [
        "import pandas as pd\n",
        "df = pd.read_csv(\"student_assessment.csv\")\n",
        "\n"
      ]
    },
    {
      "cell_type": "code",
      "source": [],
      "metadata": {
        "id": "MIff7D_s_vIo"
      },
      "execution_count": null,
      "outputs": []
    },
    {
      "cell_type": "code",
      "source": [],
      "metadata": {
        "id": "y-GEFOBV_vK9"
      },
      "execution_count": null,
      "outputs": []
    },
    {
      "cell_type": "markdown",
      "source": [
        "### 문제2. DE1~DE77컬럼 중 주가지수의 종가 \"close\"와 가장 상관관계가 높은 변수를 찾아, 해당 변수의 평균값을 구하시오. (반올림하여 소수 넷째자리까지 계산)"
      ],
      "metadata": {
        "id": "sHC4blpRswAJ"
      }
    },
    {
      "cell_type": "code",
      "source": [
        "import pandas as pd\n",
        "df = pd.read_csv(\"stock_market.csv\")\n"
      ],
      "metadata": {
        "id": "usqyPcI4J0eL"
      },
      "execution_count": null,
      "outputs": []
    },
    {
      "cell_type": "code",
      "source": [],
      "metadata": {
        "id": "Q9bGZbtBI262"
      },
      "execution_count": null,
      "outputs": []
    },
    {
      "cell_type": "code",
      "source": [],
      "metadata": {
        "id": "LvtRP4CoI29d"
      },
      "execution_count": null,
      "outputs": []
    },
    {
      "cell_type": "markdown",
      "source": [
        "### 문제3. IQR을 이용해 이산화탄소(CO2) 이상치 수를 찾으시오\n",
        "\n",
        "- Q1 (제 1사분위수): 하위 25% 값\n",
        "- Q3 (제 3사분위수): 상위 25% 값\n",
        "- IQR (사분위수 범위): IQR = Q3 - Q1\n",
        "\n",
        "- lower (하한선): Q1 - 1.5 * IQR, 이 값보다 작은 데이터는 이상치로 간주\n",
        "- upper (상한선): Q3 + 1.5 * IQR, 이 값보다 큰 데이터는 이상치로 간주\n",
        "\n"
      ],
      "metadata": {
        "id": "E9QDz8l-sy4D"
      }
    },
    {
      "cell_type": "code",
      "source": [
        "import pandas as pd\n",
        "df = pd.read_csv(\"air_quality.csv\")\n"
      ],
      "metadata": {
        "id": "LipHWwikUBL-"
      },
      "execution_count": null,
      "outputs": []
    },
    {
      "cell_type": "code",
      "source": [],
      "metadata": {
        "id": "xorML0mi73OK"
      },
      "execution_count": null,
      "outputs": []
    }
  ]
}