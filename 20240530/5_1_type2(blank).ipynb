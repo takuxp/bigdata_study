{
  "cells": [
    {
      "cell_type": "markdown",
      "metadata": {
        "colab_type": "text",
        "id": "view-in-github"
      },
      "source": [
        "<a href=\"https://colab.research.google.com/github/takuxp/bigdata_study/blob/main/5_1_type2(blank).ipynb\" target=\"_parent\"><img src=\"https://colab.research.google.com/assets/colab-badge.svg\" alt=\"Open In Colab\"/></a>"
      ]
    },
    {
      "cell_type": "markdown",
      "metadata": {
        "id": "1qZteLJKC6or"
      },
      "source": [
        "## 데이터 불러오기"
      ]
    },
    {
      "cell_type": "markdown",
      "metadata": {
        "id": "k5Z7yULvzpsF"
      },
      "source": [
        "## 신용카드서비스를 떠나는 고객을 찾아라\n",
        "- 나이, 급여, 결혼 상태, 신용 카드 한도, 신용 카드 카테고리 등의 컬럼이 있음\n",
        "- 평가: ROC-AUC, 정확도(Accuracy), F1, 정밀도(Precision), 재현율(Recall)을 구하시오\n",
        "- target : Attrition_Flag (1:이탈, 0:유지)\n",
        "- csv파일 생성 : 수험번호.csv (예시 아래 참조)\n",
        "~~~\n",
        "CLIENTNUM,Attrition_Flag\n",
        "788544108,0.633\n",
        "719356008,0.123\n",
        "712142733,0.355\n",
        "~~~\n",
        "\n",
        "\n",
        "### 평가(분류)\n",
        "~~~\n",
        "from sklearn.metrics import accuracy_score, precision_score, recall_score, f1_score, roc_auc_score\n",
        "\n",
        "# 정확도\n",
        "print(accuracy_score(y_test, pred))\n",
        "\n",
        "# 정밀도\n",
        "print(precision_score(y_test, pred))\n",
        "\n",
        "# 재현율 (민감도)\n",
        "print(recall_score(y_test, pred))\n",
        "\n",
        "# F1\n",
        "print(f1_score(y_test , pred))\n",
        "\n",
        "# roc-auc\n",
        "print(roc_auc_score(y_test, pred_proba))\n",
        "~~~"
      ]
    },
    {
      "cell_type": "code",
      "execution_count": 78,
      "metadata": {
        "colab": {
          "base_uri": "https://localhost:8080/"
        },
        "id": "79P4zcpB0CHw",
        "outputId": "49312e6e-dfa8-4524-fd98-2a583c47ffbb"
      },
      "outputs": [
        {
          "name": "stdout",
          "output_type": "stream",
          "text": [
            "(8101, 21) (2026, 20)\n"
          ]
        }
      ],
      "source": [
        "import pandas as pd\n",
        "train = pd.read_csv(\"train.csv\")\n",
        "test = pd.read_csv(\"test.csv\")\n",
        "print(train.shape, test.shape)"
      ]
    },
    {
      "cell_type": "code",
      "execution_count": 79,
      "metadata": {
        "colab": {
          "base_uri": "https://localhost:8080/",
          "height": 256
        },
        "id": "wME7uA8AFQMj",
        "outputId": "767784ed-b370-43fa-c726-6853ca78d335"
      },
      "outputs": [
        {
          "data": {
            "text/html": [
              "<div>\n",
              "<style scoped>\n",
              "    .dataframe tbody tr th:only-of-type {\n",
              "        vertical-align: middle;\n",
              "    }\n",
              "\n",
              "    .dataframe tbody tr th {\n",
              "        vertical-align: top;\n",
              "    }\n",
              "\n",
              "    .dataframe thead th {\n",
              "        text-align: right;\n",
              "    }\n",
              "</style>\n",
              "<table border=\"1\" class=\"dataframe\">\n",
              "  <thead>\n",
              "    <tr style=\"text-align: right;\">\n",
              "      <th></th>\n",
              "      <th>CLIENTNUM</th>\n",
              "      <th>Customer_Age</th>\n",
              "      <th>Gender</th>\n",
              "      <th>Dependent_count</th>\n",
              "      <th>Education_Level</th>\n",
              "      <th>Marital_Status</th>\n",
              "      <th>Income_Category</th>\n",
              "      <th>Card_Category</th>\n",
              "      <th>Months_on_book</th>\n",
              "      <th>Total_Relationship_Count</th>\n",
              "      <th>...</th>\n",
              "      <th>Contacts_Count_12_mon</th>\n",
              "      <th>Credit_Limit</th>\n",
              "      <th>Total_Revolving_Bal</th>\n",
              "      <th>Avg_Open_To_Buy</th>\n",
              "      <th>Total_Amt_Chng_Q4_Q1</th>\n",
              "      <th>Total_Trans_Amt</th>\n",
              "      <th>Total_Trans_Ct</th>\n",
              "      <th>Total_Ct_Chng_Q4_Q1</th>\n",
              "      <th>Avg_Utilization_Ratio</th>\n",
              "      <th>Attrition_Flag</th>\n",
              "    </tr>\n",
              "  </thead>\n",
              "  <tbody>\n",
              "    <tr>\n",
              "      <th>0</th>\n",
              "      <td>778461408</td>\n",
              "      <td>38</td>\n",
              "      <td>M</td>\n",
              "      <td>1</td>\n",
              "      <td>High School</td>\n",
              "      <td>Married</td>\n",
              "      <td>$80K - $120K</td>\n",
              "      <td>Blue</td>\n",
              "      <td>23</td>\n",
              "      <td>4</td>\n",
              "      <td>...</td>\n",
              "      <td>2</td>\n",
              "      <td>22149.0</td>\n",
              "      <td>987</td>\n",
              "      <td>21162.0</td>\n",
              "      <td>1.633</td>\n",
              "      <td>2409</td>\n",
              "      <td>36</td>\n",
              "      <td>0.800</td>\n",
              "      <td>0.045</td>\n",
              "      <td>0</td>\n",
              "    </tr>\n",
              "    <tr>\n",
              "      <th>1</th>\n",
              "      <td>718263108</td>\n",
              "      <td>44</td>\n",
              "      <td>F</td>\n",
              "      <td>3</td>\n",
              "      <td>Unknown</td>\n",
              "      <td>Divorced</td>\n",
              "      <td>Less than $40K</td>\n",
              "      <td>Blue</td>\n",
              "      <td>32</td>\n",
              "      <td>3</td>\n",
              "      <td>...</td>\n",
              "      <td>2</td>\n",
              "      <td>1693.0</td>\n",
              "      <td>1457</td>\n",
              "      <td>236.0</td>\n",
              "      <td>0.919</td>\n",
              "      <td>2829</td>\n",
              "      <td>42</td>\n",
              "      <td>0.615</td>\n",
              "      <td>0.861</td>\n",
              "      <td>1</td>\n",
              "    </tr>\n",
              "    <tr>\n",
              "      <th>2</th>\n",
              "      <td>780384483</td>\n",
              "      <td>49</td>\n",
              "      <td>M</td>\n",
              "      <td>4</td>\n",
              "      <td>Unknown</td>\n",
              "      <td>Unknown</td>\n",
              "      <td>$80K - $120K</td>\n",
              "      <td>Blue</td>\n",
              "      <td>39</td>\n",
              "      <td>2</td>\n",
              "      <td>...</td>\n",
              "      <td>2</td>\n",
              "      <td>2886.0</td>\n",
              "      <td>925</td>\n",
              "      <td>1961.0</td>\n",
              "      <td>0.946</td>\n",
              "      <td>5481</td>\n",
              "      <td>58</td>\n",
              "      <td>0.758</td>\n",
              "      <td>0.321</td>\n",
              "      <td>1</td>\n",
              "    </tr>\n",
              "    <tr>\n",
              "      <th>3</th>\n",
              "      <td>719592483</td>\n",
              "      <td>43</td>\n",
              "      <td>F</td>\n",
              "      <td>5</td>\n",
              "      <td>Graduate</td>\n",
              "      <td>Single</td>\n",
              "      <td>Unknown</td>\n",
              "      <td>Blue</td>\n",
              "      <td>34</td>\n",
              "      <td>6</td>\n",
              "      <td>...</td>\n",
              "      <td>3</td>\n",
              "      <td>4607.0</td>\n",
              "      <td>2440</td>\n",
              "      <td>2167.0</td>\n",
              "      <td>0.646</td>\n",
              "      <td>4825</td>\n",
              "      <td>77</td>\n",
              "      <td>0.878</td>\n",
              "      <td>0.530</td>\n",
              "      <td>0</td>\n",
              "    </tr>\n",
              "    <tr>\n",
              "      <th>4</th>\n",
              "      <td>771453033</td>\n",
              "      <td>47</td>\n",
              "      <td>M</td>\n",
              "      <td>3</td>\n",
              "      <td>High School</td>\n",
              "      <td>Married</td>\n",
              "      <td>$60K - $80K</td>\n",
              "      <td>Blue</td>\n",
              "      <td>35</td>\n",
              "      <td>5</td>\n",
              "      <td>...</td>\n",
              "      <td>2</td>\n",
              "      <td>17343.0</td>\n",
              "      <td>1280</td>\n",
              "      <td>16063.0</td>\n",
              "      <td>1.314</td>\n",
              "      <td>3170</td>\n",
              "      <td>57</td>\n",
              "      <td>0.629</td>\n",
              "      <td>0.074</td>\n",
              "      <td>0</td>\n",
              "    </tr>\n",
              "  </tbody>\n",
              "</table>\n",
              "<p>5 rows × 21 columns</p>\n",
              "</div>"
            ],
            "text/plain": [
              "   CLIENTNUM  Customer_Age Gender  Dependent_count Education_Level  \\\n",
              "0  778461408            38      M                1     High School   \n",
              "1  718263108            44      F                3         Unknown   \n",
              "2  780384483            49      M                4         Unknown   \n",
              "3  719592483            43      F                5        Graduate   \n",
              "4  771453033            47      M                3     High School   \n",
              "\n",
              "  Marital_Status Income_Category Card_Category  Months_on_book  \\\n",
              "0        Married    $80K - $120K          Blue              23   \n",
              "1       Divorced  Less than $40K          Blue              32   \n",
              "2        Unknown    $80K - $120K          Blue              39   \n",
              "3         Single         Unknown          Blue              34   \n",
              "4        Married     $60K - $80K          Blue              35   \n",
              "\n",
              "   Total_Relationship_Count  ...  Contacts_Count_12_mon  Credit_Limit  \\\n",
              "0                         4  ...                      2       22149.0   \n",
              "1                         3  ...                      2        1693.0   \n",
              "2                         2  ...                      2        2886.0   \n",
              "3                         6  ...                      3        4607.0   \n",
              "4                         5  ...                      2       17343.0   \n",
              "\n",
              "   Total_Revolving_Bal  Avg_Open_To_Buy  Total_Amt_Chng_Q4_Q1  \\\n",
              "0                  987          21162.0                 1.633   \n",
              "1                 1457            236.0                 0.919   \n",
              "2                  925           1961.0                 0.946   \n",
              "3                 2440           2167.0                 0.646   \n",
              "4                 1280          16063.0                 1.314   \n",
              "\n",
              "   Total_Trans_Amt  Total_Trans_Ct  Total_Ct_Chng_Q4_Q1  \\\n",
              "0             2409              36                0.800   \n",
              "1             2829              42                0.615   \n",
              "2             5481              58                0.758   \n",
              "3             4825              77                0.878   \n",
              "4             3170              57                0.629   \n",
              "\n",
              "   Avg_Utilization_Ratio  Attrition_Flag  \n",
              "0                  0.045               0  \n",
              "1                  0.861               1  \n",
              "2                  0.321               1  \n",
              "3                  0.530               0  \n",
              "4                  0.074               0  \n",
              "\n",
              "[5 rows x 21 columns]"
            ]
          },
          "execution_count": 79,
          "metadata": {},
          "output_type": "execute_result"
        }
      ],
      "source": [
        "train.head()"
      ]
    },
    {
      "cell_type": "code",
      "execution_count": 80,
      "metadata": {
        "colab": {
          "base_uri": "https://localhost:8080/",
          "height": 226
        },
        "id": "ZqIJR2PpFQQ7",
        "outputId": "2e2aceb6-f5e7-4bcd-b7ce-d1f327bbbb8d"
      },
      "outputs": [
        {
          "data": {
            "text/html": [
              "<div>\n",
              "<style scoped>\n",
              "    .dataframe tbody tr th:only-of-type {\n",
              "        vertical-align: middle;\n",
              "    }\n",
              "\n",
              "    .dataframe tbody tr th {\n",
              "        vertical-align: top;\n",
              "    }\n",
              "\n",
              "    .dataframe thead th {\n",
              "        text-align: right;\n",
              "    }\n",
              "</style>\n",
              "<table border=\"1\" class=\"dataframe\">\n",
              "  <thead>\n",
              "    <tr style=\"text-align: right;\">\n",
              "      <th></th>\n",
              "      <th>CLIENTNUM</th>\n",
              "      <th>Customer_Age</th>\n",
              "      <th>Gender</th>\n",
              "      <th>Dependent_count</th>\n",
              "      <th>Education_Level</th>\n",
              "      <th>Marital_Status</th>\n",
              "      <th>Income_Category</th>\n",
              "      <th>Card_Category</th>\n",
              "      <th>Months_on_book</th>\n",
              "      <th>Total_Relationship_Count</th>\n",
              "      <th>Months_Inactive_12_mon</th>\n",
              "      <th>Contacts_Count_12_mon</th>\n",
              "      <th>Credit_Limit</th>\n",
              "      <th>Total_Revolving_Bal</th>\n",
              "      <th>Avg_Open_To_Buy</th>\n",
              "      <th>Total_Amt_Chng_Q4_Q1</th>\n",
              "      <th>Total_Trans_Amt</th>\n",
              "      <th>Total_Trans_Ct</th>\n",
              "      <th>Total_Ct_Chng_Q4_Q1</th>\n",
              "      <th>Avg_Utilization_Ratio</th>\n",
              "    </tr>\n",
              "  </thead>\n",
              "  <tbody>\n",
              "    <tr>\n",
              "      <th>0</th>\n",
              "      <td>788544108</td>\n",
              "      <td>43</td>\n",
              "      <td>F</td>\n",
              "      <td>2</td>\n",
              "      <td>High School</td>\n",
              "      <td>Single</td>\n",
              "      <td>Less than $40K</td>\n",
              "      <td>Blue</td>\n",
              "      <td>37</td>\n",
              "      <td>4</td>\n",
              "      <td>3</td>\n",
              "      <td>0</td>\n",
              "      <td>6611.0</td>\n",
              "      <td>1041</td>\n",
              "      <td>5570.0</td>\n",
              "      <td>0.744</td>\n",
              "      <td>4037</td>\n",
              "      <td>74</td>\n",
              "      <td>0.682</td>\n",
              "      <td>0.157</td>\n",
              "    </tr>\n",
              "    <tr>\n",
              "      <th>1</th>\n",
              "      <td>719356008</td>\n",
              "      <td>39</td>\n",
              "      <td>F</td>\n",
              "      <td>3</td>\n",
              "      <td>Graduate</td>\n",
              "      <td>Single</td>\n",
              "      <td>Less than $40K</td>\n",
              "      <td>Blue</td>\n",
              "      <td>36</td>\n",
              "      <td>4</td>\n",
              "      <td>3</td>\n",
              "      <td>4</td>\n",
              "      <td>1438.3</td>\n",
              "      <td>0</td>\n",
              "      <td>1438.3</td>\n",
              "      <td>1.022</td>\n",
              "      <td>4548</td>\n",
              "      <td>69</td>\n",
              "      <td>0.917</td>\n",
              "      <td>0.000</td>\n",
              "    </tr>\n",
              "    <tr>\n",
              "      <th>2</th>\n",
              "      <td>712142733</td>\n",
              "      <td>37</td>\n",
              "      <td>F</td>\n",
              "      <td>3</td>\n",
              "      <td>Post-Graduate</td>\n",
              "      <td>Married</td>\n",
              "      <td>Less than $40K</td>\n",
              "      <td>Blue</td>\n",
              "      <td>26</td>\n",
              "      <td>5</td>\n",
              "      <td>3</td>\n",
              "      <td>2</td>\n",
              "      <td>1910.0</td>\n",
              "      <td>1164</td>\n",
              "      <td>746.0</td>\n",
              "      <td>0.744</td>\n",
              "      <td>2028</td>\n",
              "      <td>39</td>\n",
              "      <td>1.053</td>\n",
              "      <td>0.609</td>\n",
              "    </tr>\n",
              "    <tr>\n",
              "      <th>3</th>\n",
              "      <td>789394833</td>\n",
              "      <td>47</td>\n",
              "      <td>M</td>\n",
              "      <td>2</td>\n",
              "      <td>Unknown</td>\n",
              "      <td>Divorced</td>\n",
              "      <td>$80K - $120K</td>\n",
              "      <td>Blue</td>\n",
              "      <td>37</td>\n",
              "      <td>1</td>\n",
              "      <td>2</td>\n",
              "      <td>2</td>\n",
              "      <td>21714.0</td>\n",
              "      <td>1969</td>\n",
              "      <td>19745.0</td>\n",
              "      <td>0.944</td>\n",
              "      <td>13270</td>\n",
              "      <td>104</td>\n",
              "      <td>0.625</td>\n",
              "      <td>0.091</td>\n",
              "    </tr>\n",
              "    <tr>\n",
              "      <th>4</th>\n",
              "      <td>742778358</td>\n",
              "      <td>44</td>\n",
              "      <td>M</td>\n",
              "      <td>1</td>\n",
              "      <td>Graduate</td>\n",
              "      <td>Single</td>\n",
              "      <td>$60K - $80K</td>\n",
              "      <td>Blue</td>\n",
              "      <td>37</td>\n",
              "      <td>3</td>\n",
              "      <td>1</td>\n",
              "      <td>4</td>\n",
              "      <td>16739.0</td>\n",
              "      <td>1229</td>\n",
              "      <td>15510.0</td>\n",
              "      <td>0.497</td>\n",
              "      <td>4014</td>\n",
              "      <td>69</td>\n",
              "      <td>0.568</td>\n",
              "      <td>0.073</td>\n",
              "    </tr>\n",
              "  </tbody>\n",
              "</table>\n",
              "</div>"
            ],
            "text/plain": [
              "   CLIENTNUM  Customer_Age Gender  Dependent_count Education_Level  \\\n",
              "0  788544108            43      F                2     High School   \n",
              "1  719356008            39      F                3        Graduate   \n",
              "2  712142733            37      F                3   Post-Graduate   \n",
              "3  789394833            47      M                2         Unknown   \n",
              "4  742778358            44      M                1        Graduate   \n",
              "\n",
              "  Marital_Status Income_Category Card_Category  Months_on_book  \\\n",
              "0         Single  Less than $40K          Blue              37   \n",
              "1         Single  Less than $40K          Blue              36   \n",
              "2        Married  Less than $40K          Blue              26   \n",
              "3       Divorced    $80K - $120K          Blue              37   \n",
              "4         Single     $60K - $80K          Blue              37   \n",
              "\n",
              "   Total_Relationship_Count  Months_Inactive_12_mon  Contacts_Count_12_mon  \\\n",
              "0                         4                       3                      0   \n",
              "1                         4                       3                      4   \n",
              "2                         5                       3                      2   \n",
              "3                         1                       2                      2   \n",
              "4                         3                       1                      4   \n",
              "\n",
              "   Credit_Limit  Total_Revolving_Bal  Avg_Open_To_Buy  Total_Amt_Chng_Q4_Q1  \\\n",
              "0        6611.0                 1041           5570.0                 0.744   \n",
              "1        1438.3                    0           1438.3                 1.022   \n",
              "2        1910.0                 1164            746.0                 0.744   \n",
              "3       21714.0                 1969          19745.0                 0.944   \n",
              "4       16739.0                 1229          15510.0                 0.497   \n",
              "\n",
              "   Total_Trans_Amt  Total_Trans_Ct  Total_Ct_Chng_Q4_Q1  Avg_Utilization_Ratio  \n",
              "0             4037              74                0.682                  0.157  \n",
              "1             4548              69                0.917                  0.000  \n",
              "2             2028              39                1.053                  0.609  \n",
              "3            13270             104                0.625                  0.091  \n",
              "4             4014              69                0.568                  0.073  "
            ]
          },
          "execution_count": 80,
          "metadata": {},
          "output_type": "execute_result"
        }
      ],
      "source": [
        "test.head()"
      ]
    },
    {
      "cell_type": "code",
      "execution_count": 81,
      "metadata": {
        "colab": {
          "base_uri": "https://localhost:8080/"
        },
        "id": "Ne6vhiFPFQYg",
        "outputId": "14be9ef3-d4b6-48f7-eb70-f48bae5cc57d"
      },
      "outputs": [
        {
          "name": "stdout",
          "output_type": "stream",
          "text": [
            "<class 'pandas.core.frame.DataFrame'>\n",
            "RangeIndex: 8101 entries, 0 to 8100\n",
            "Data columns (total 21 columns):\n",
            " #   Column                    Non-Null Count  Dtype  \n",
            "---  ------                    --------------  -----  \n",
            " 0   CLIENTNUM                 8101 non-null   int64  \n",
            " 1   Customer_Age              8101 non-null   int64  \n",
            " 2   Gender                    8101 non-null   object \n",
            " 3   Dependent_count           8101 non-null   int64  \n",
            " 4   Education_Level           8101 non-null   object \n",
            " 5   Marital_Status            8101 non-null   object \n",
            " 6   Income_Category           8101 non-null   object \n",
            " 7   Card_Category             8101 non-null   object \n",
            " 8   Months_on_book            8101 non-null   int64  \n",
            " 9   Total_Relationship_Count  8101 non-null   int64  \n",
            " 10  Months_Inactive_12_mon    8101 non-null   int64  \n",
            " 11  Contacts_Count_12_mon     8101 non-null   int64  \n",
            " 12  Credit_Limit              8101 non-null   float64\n",
            " 13  Total_Revolving_Bal       8101 non-null   int64  \n",
            " 14  Avg_Open_To_Buy           8101 non-null   float64\n",
            " 15  Total_Amt_Chng_Q4_Q1      8101 non-null   float64\n",
            " 16  Total_Trans_Amt           8101 non-null   int64  \n",
            " 17  Total_Trans_Ct            8101 non-null   int64  \n",
            " 18  Total_Ct_Chng_Q4_Q1       8101 non-null   float64\n",
            " 19  Avg_Utilization_Ratio     8101 non-null   float64\n",
            " 20  Attrition_Flag            8101 non-null   int64  \n",
            "dtypes: float64(5), int64(11), object(5)\n",
            "memory usage: 1.3+ MB\n"
          ]
        }
      ],
      "source": [
        "train.info()"
      ]
    },
    {
      "cell_type": "code",
      "execution_count": 82,
      "metadata": {
        "colab": {
          "base_uri": "https://localhost:8080/"
        },
        "id": "3d_MjgrZFQbn",
        "outputId": "fb109cea-0e53-4244-87e3-c81597add5ff"
      },
      "outputs": [
        {
          "data": {
            "text/plain": [
              "Attrition_Flag\n",
              "0    6815\n",
              "1    1286\n",
              "Name: count, dtype: int64"
            ]
          },
          "execution_count": 82,
          "metadata": {},
          "output_type": "execute_result"
        }
      ],
      "source": [
        "train[\"Attrition_Flag\"].value_counts()"
      ]
    },
    {
      "cell_type": "code",
      "execution_count": 83,
      "metadata": {
        "colab": {
          "base_uri": "https://localhost:8080/"
        },
        "id": "d03cfS8TF5PJ",
        "outputId": "09f3d306-22f7-4571-bad8-3f00f70a22e4"
      },
      "outputs": [
        {
          "data": {
            "text/plain": [
              "CLIENTNUM                   0\n",
              "Customer_Age                0\n",
              "Gender                      0\n",
              "Dependent_count             0\n",
              "Education_Level             0\n",
              "Marital_Status              0\n",
              "Income_Category             0\n",
              "Card_Category               0\n",
              "Months_on_book              0\n",
              "Total_Relationship_Count    0\n",
              "Months_Inactive_12_mon      0\n",
              "Contacts_Count_12_mon       0\n",
              "Credit_Limit                0\n",
              "Total_Revolving_Bal         0\n",
              "Avg_Open_To_Buy             0\n",
              "Total_Amt_Chng_Q4_Q1        0\n",
              "Total_Trans_Amt             0\n",
              "Total_Trans_Ct              0\n",
              "Total_Ct_Chng_Q4_Q1         0\n",
              "Avg_Utilization_Ratio       0\n",
              "Attrition_Flag              0\n",
              "dtype: int64"
            ]
          },
          "execution_count": 83,
          "metadata": {},
          "output_type": "execute_result"
        }
      ],
      "source": [
        "train.isnull().sum()"
      ]
    },
    {
      "cell_type": "code",
      "execution_count": null,
      "metadata": {
        "id": "NL_6qktbF-JN"
      },
      "outputs": [],
      "source": []
    },
    {
      "cell_type": "markdown",
      "metadata": {
        "id": "DiUkXUO16g-G"
      },
      "source": [
        "## 데이터 전처리 & 피처엔지니어링"
      ]
    },
    {
      "cell_type": "code",
      "execution_count": 84,
      "metadata": {
        "colab": {
          "base_uri": "https://localhost:8080/"
        },
        "id": "5bjHRRyIDNFt",
        "outputId": "5b5545d6-bb77-4fea-b942-e9939b73cbbe"
      },
      "outputs": [
        {
          "name": "stdout",
          "output_type": "stream",
          "text": [
            "(8101, 16) (2026, 15)\n"
          ]
        }
      ],
      "source": [
        "#베이스라인 오브젝트타입 제거\n",
        "cols = train.select_dtypes(include='object').columns\n",
        "train = train.drop(cols, axis=1)\n",
        "test = test.drop(cols, axis=1)\n",
        "print(train.shape, test.shape)\n",
        "\n",
        "\n",
        "\n",
        "#라벨\n",
        "# from sklearn.preprocessing import LabelEncoder\n",
        "# le = LabelEncoder()\n",
        "# for col in cols:\n",
        "#     train[col] = le.fit_transform(train[col])\n",
        "#     test[col] = le.transform(test[col])\n",
        "    \n",
        "\n",
        "# train[cols].head()\n",
        "\n",
        "\n",
        "#원핫인코딩\n",
        "# train = pd.get_dummies(train, columns=cols)\n",
        "# test = pd.get_dummies(test, columns=cols)"
      ]
    },
    {
      "cell_type": "code",
      "execution_count": 85,
      "metadata": {
        "id": "Q5R7aMAvIPDQ"
      },
      "outputs": [],
      "source": [
        "train = train.drop('CLIENTNUM', axis=1)\n",
        "test_id = test.pop('CLIENTNUM')"
      ]
    },
    {
      "cell_type": "code",
      "execution_count": 86,
      "metadata": {
        "id": "4I93HloaIpfl"
      },
      "outputs": [
        {
          "data": {
            "text/html": [
              "<div>\n",
              "<style scoped>\n",
              "    .dataframe tbody tr th:only-of-type {\n",
              "        vertical-align: middle;\n",
              "    }\n",
              "\n",
              "    .dataframe tbody tr th {\n",
              "        vertical-align: top;\n",
              "    }\n",
              "\n",
              "    .dataframe thead th {\n",
              "        text-align: right;\n",
              "    }\n",
              "</style>\n",
              "<table border=\"1\" class=\"dataframe\">\n",
              "  <thead>\n",
              "    <tr style=\"text-align: right;\">\n",
              "      <th></th>\n",
              "      <th>Customer_Age</th>\n",
              "      <th>Dependent_count</th>\n",
              "      <th>Months_on_book</th>\n",
              "      <th>Total_Relationship_Count</th>\n",
              "      <th>Months_Inactive_12_mon</th>\n",
              "      <th>Contacts_Count_12_mon</th>\n",
              "      <th>Credit_Limit</th>\n",
              "      <th>Total_Revolving_Bal</th>\n",
              "      <th>Avg_Open_To_Buy</th>\n",
              "      <th>Total_Amt_Chng_Q4_Q1</th>\n",
              "      <th>Total_Trans_Amt</th>\n",
              "      <th>Total_Trans_Ct</th>\n",
              "      <th>Total_Ct_Chng_Q4_Q1</th>\n",
              "      <th>Avg_Utilization_Ratio</th>\n",
              "      <th>Attrition_Flag</th>\n",
              "    </tr>\n",
              "  </thead>\n",
              "  <tbody>\n",
              "    <tr>\n",
              "      <th>0</th>\n",
              "      <td>38</td>\n",
              "      <td>1</td>\n",
              "      <td>23</td>\n",
              "      <td>4</td>\n",
              "      <td>3</td>\n",
              "      <td>2</td>\n",
              "      <td>22149.0</td>\n",
              "      <td>987</td>\n",
              "      <td>21162.0</td>\n",
              "      <td>1.633</td>\n",
              "      <td>2409</td>\n",
              "      <td>36</td>\n",
              "      <td>0.8</td>\n",
              "      <td>0.045</td>\n",
              "      <td>0</td>\n",
              "    </tr>\n",
              "  </tbody>\n",
              "</table>\n",
              "</div>"
            ],
            "text/plain": [
              "   Customer_Age  Dependent_count  Months_on_book  Total_Relationship_Count  \\\n",
              "0            38                1              23                         4   \n",
              "\n",
              "   Months_Inactive_12_mon  Contacts_Count_12_mon  Credit_Limit  \\\n",
              "0                       3                      2       22149.0   \n",
              "\n",
              "   Total_Revolving_Bal  Avg_Open_To_Buy  Total_Amt_Chng_Q4_Q1  \\\n",
              "0                  987          21162.0                 1.633   \n",
              "\n",
              "   Total_Trans_Amt  Total_Trans_Ct  Total_Ct_Chng_Q4_Q1  \\\n",
              "0             2409              36                  0.8   \n",
              "\n",
              "   Avg_Utilization_Ratio  Attrition_Flag  \n",
              "0                  0.045               0  "
            ]
          },
          "execution_count": 86,
          "metadata": {},
          "output_type": "execute_result"
        }
      ],
      "source": [
        "train.head(1)"
      ]
    },
    {
      "cell_type": "code",
      "execution_count": 87,
      "metadata": {
        "id": "PjsEFlR1Ipw_"
      },
      "outputs": [
        {
          "data": {
            "text/html": [
              "<div>\n",
              "<style scoped>\n",
              "    .dataframe tbody tr th:only-of-type {\n",
              "        vertical-align: middle;\n",
              "    }\n",
              "\n",
              "    .dataframe tbody tr th {\n",
              "        vertical-align: top;\n",
              "    }\n",
              "\n",
              "    .dataframe thead th {\n",
              "        text-align: right;\n",
              "    }\n",
              "</style>\n",
              "<table border=\"1\" class=\"dataframe\">\n",
              "  <thead>\n",
              "    <tr style=\"text-align: right;\">\n",
              "      <th></th>\n",
              "      <th>Customer_Age</th>\n",
              "      <th>Dependent_count</th>\n",
              "      <th>Months_on_book</th>\n",
              "      <th>Total_Relationship_Count</th>\n",
              "      <th>Months_Inactive_12_mon</th>\n",
              "      <th>Contacts_Count_12_mon</th>\n",
              "      <th>Credit_Limit</th>\n",
              "      <th>Total_Revolving_Bal</th>\n",
              "      <th>Avg_Open_To_Buy</th>\n",
              "      <th>Total_Amt_Chng_Q4_Q1</th>\n",
              "      <th>Total_Trans_Amt</th>\n",
              "      <th>Total_Trans_Ct</th>\n",
              "      <th>Total_Ct_Chng_Q4_Q1</th>\n",
              "      <th>Avg_Utilization_Ratio</th>\n",
              "    </tr>\n",
              "  </thead>\n",
              "  <tbody>\n",
              "    <tr>\n",
              "      <th>0</th>\n",
              "      <td>43</td>\n",
              "      <td>2</td>\n",
              "      <td>37</td>\n",
              "      <td>4</td>\n",
              "      <td>3</td>\n",
              "      <td>0</td>\n",
              "      <td>6611.0</td>\n",
              "      <td>1041</td>\n",
              "      <td>5570.0</td>\n",
              "      <td>0.744</td>\n",
              "      <td>4037</td>\n",
              "      <td>74</td>\n",
              "      <td>0.682</td>\n",
              "      <td>0.157</td>\n",
              "    </tr>\n",
              "  </tbody>\n",
              "</table>\n",
              "</div>"
            ],
            "text/plain": [
              "   Customer_Age  Dependent_count  Months_on_book  Total_Relationship_Count  \\\n",
              "0            43                2              37                         4   \n",
              "\n",
              "   Months_Inactive_12_mon  Contacts_Count_12_mon  Credit_Limit  \\\n",
              "0                       3                      0        6611.0   \n",
              "\n",
              "   Total_Revolving_Bal  Avg_Open_To_Buy  Total_Amt_Chng_Q4_Q1  \\\n",
              "0                 1041           5570.0                 0.744   \n",
              "\n",
              "   Total_Trans_Amt  Total_Trans_Ct  Total_Ct_Chng_Q4_Q1  Avg_Utilization_Ratio  \n",
              "0             4037              74                0.682                  0.157  "
            ]
          },
          "execution_count": 87,
          "metadata": {},
          "output_type": "execute_result"
        }
      ],
      "source": [
        "test.head(1)"
      ]
    },
    {
      "cell_type": "code",
      "execution_count": null,
      "metadata": {
        "id": "ept4_xmfI1lI"
      },
      "outputs": [],
      "source": []
    },
    {
      "cell_type": "markdown",
      "metadata": {
        "id": "2wXHbPi9DEwb"
      },
      "source": [
        "## 검증 데이터 분리"
      ]
    },
    {
      "cell_type": "code",
      "execution_count": 88,
      "metadata": {
        "id": "qSUGLBe3DObS"
      },
      "outputs": [],
      "source": [
        "from sklearn.model_selection import train_test_split\n",
        "\n",
        "X_tr, X_val, y_tr, y_val = train_test_split(\n",
        "    train.drop('Attrition_Flag', axis=1),\n",
        "    train['Attrition_Flag'], # target\n",
        "    test_size=0.2, # test_size,\n",
        "    random_state=2022 # random_state\n",
        ")"
      ]
    },
    {
      "cell_type": "code",
      "execution_count": null,
      "metadata": {
        "id": "LqcBVMwhUgLn"
      },
      "outputs": [],
      "source": []
    },
    {
      "cell_type": "code",
      "execution_count": 89,
      "metadata": {
        "colab": {
          "base_uri": "https://localhost:8080/",
          "height": 226
        },
        "id": "ae2iZsXaIE8U",
        "outputId": "f670cdcd-0ea6-4a2e-aca6-b0efef27f79c"
      },
      "outputs": [
        {
          "data": {
            "text/html": [
              "<div>\n",
              "<style scoped>\n",
              "    .dataframe tbody tr th:only-of-type {\n",
              "        vertical-align: middle;\n",
              "    }\n",
              "\n",
              "    .dataframe tbody tr th {\n",
              "        vertical-align: top;\n",
              "    }\n",
              "\n",
              "    .dataframe thead th {\n",
              "        text-align: right;\n",
              "    }\n",
              "</style>\n",
              "<table border=\"1\" class=\"dataframe\">\n",
              "  <thead>\n",
              "    <tr style=\"text-align: right;\">\n",
              "      <th></th>\n",
              "      <th>Customer_Age</th>\n",
              "      <th>Dependent_count</th>\n",
              "      <th>Months_on_book</th>\n",
              "      <th>Total_Relationship_Count</th>\n",
              "      <th>Months_Inactive_12_mon</th>\n",
              "      <th>Contacts_Count_12_mon</th>\n",
              "      <th>Credit_Limit</th>\n",
              "      <th>Total_Revolving_Bal</th>\n",
              "      <th>Avg_Open_To_Buy</th>\n",
              "      <th>Total_Amt_Chng_Q4_Q1</th>\n",
              "      <th>Total_Trans_Amt</th>\n",
              "      <th>Total_Trans_Ct</th>\n",
              "      <th>Total_Ct_Chng_Q4_Q1</th>\n",
              "      <th>Avg_Utilization_Ratio</th>\n",
              "    </tr>\n",
              "  </thead>\n",
              "  <tbody>\n",
              "    <tr>\n",
              "      <th>6806</th>\n",
              "      <td>50</td>\n",
              "      <td>1</td>\n",
              "      <td>30</td>\n",
              "      <td>1</td>\n",
              "      <td>3</td>\n",
              "      <td>2</td>\n",
              "      <td>14217.0</td>\n",
              "      <td>1816</td>\n",
              "      <td>12401.0</td>\n",
              "      <td>0.978</td>\n",
              "      <td>15554</td>\n",
              "      <td>99</td>\n",
              "      <td>0.678</td>\n",
              "      <td>0.128</td>\n",
              "    </tr>\n",
              "    <tr>\n",
              "      <th>5635</th>\n",
              "      <td>50</td>\n",
              "      <td>2</td>\n",
              "      <td>36</td>\n",
              "      <td>5</td>\n",
              "      <td>4</td>\n",
              "      <td>1</td>\n",
              "      <td>2428.0</td>\n",
              "      <td>2005</td>\n",
              "      <td>423.0</td>\n",
              "      <td>0.835</td>\n",
              "      <td>5170</td>\n",
              "      <td>68</td>\n",
              "      <td>0.659</td>\n",
              "      <td>0.826</td>\n",
              "    </tr>\n",
              "    <tr>\n",
              "      <th>2517</th>\n",
              "      <td>43</td>\n",
              "      <td>5</td>\n",
              "      <td>32</td>\n",
              "      <td>2</td>\n",
              "      <td>3</td>\n",
              "      <td>1</td>\n",
              "      <td>11508.0</td>\n",
              "      <td>0</td>\n",
              "      <td>11508.0</td>\n",
              "      <td>1.005</td>\n",
              "      <td>5242</td>\n",
              "      <td>74</td>\n",
              "      <td>0.574</td>\n",
              "      <td>0.000</td>\n",
              "    </tr>\n",
              "    <tr>\n",
              "      <th>2717</th>\n",
              "      <td>47</td>\n",
              "      <td>3</td>\n",
              "      <td>36</td>\n",
              "      <td>4</td>\n",
              "      <td>2</td>\n",
              "      <td>2</td>\n",
              "      <td>2926.0</td>\n",
              "      <td>0</td>\n",
              "      <td>2926.0</td>\n",
              "      <td>0.676</td>\n",
              "      <td>1304</td>\n",
              "      <td>24</td>\n",
              "      <td>0.846</td>\n",
              "      <td>0.000</td>\n",
              "    </tr>\n",
              "    <tr>\n",
              "      <th>3773</th>\n",
              "      <td>63</td>\n",
              "      <td>0</td>\n",
              "      <td>53</td>\n",
              "      <td>5</td>\n",
              "      <td>3</td>\n",
              "      <td>2</td>\n",
              "      <td>2271.0</td>\n",
              "      <td>1278</td>\n",
              "      <td>993.0</td>\n",
              "      <td>0.375</td>\n",
              "      <td>1550</td>\n",
              "      <td>33</td>\n",
              "      <td>0.650</td>\n",
              "      <td>0.563</td>\n",
              "    </tr>\n",
              "  </tbody>\n",
              "</table>\n",
              "</div>"
            ],
            "text/plain": [
              "      Customer_Age  Dependent_count  Months_on_book  Total_Relationship_Count  \\\n",
              "6806            50                1              30                         1   \n",
              "5635            50                2              36                         5   \n",
              "2517            43                5              32                         2   \n",
              "2717            47                3              36                         4   \n",
              "3773            63                0              53                         5   \n",
              "\n",
              "      Months_Inactive_12_mon  Contacts_Count_12_mon  Credit_Limit  \\\n",
              "6806                       3                      2       14217.0   \n",
              "5635                       4                      1        2428.0   \n",
              "2517                       3                      1       11508.0   \n",
              "2717                       2                      2        2926.0   \n",
              "3773                       3                      2        2271.0   \n",
              "\n",
              "      Total_Revolving_Bal  Avg_Open_To_Buy  Total_Amt_Chng_Q4_Q1  \\\n",
              "6806                 1816          12401.0                 0.978   \n",
              "5635                 2005            423.0                 0.835   \n",
              "2517                    0          11508.0                 1.005   \n",
              "2717                    0           2926.0                 0.676   \n",
              "3773                 1278            993.0                 0.375   \n",
              "\n",
              "      Total_Trans_Amt  Total_Trans_Ct  Total_Ct_Chng_Q4_Q1  \\\n",
              "6806            15554              99                0.678   \n",
              "5635             5170              68                0.659   \n",
              "2517             5242              74                0.574   \n",
              "2717             1304              24                0.846   \n",
              "3773             1550              33                0.650   \n",
              "\n",
              "      Avg_Utilization_Ratio  \n",
              "6806                  0.128  \n",
              "5635                  0.826  \n",
              "2517                  0.000  \n",
              "2717                  0.000  \n",
              "3773                  0.563  "
            ]
          },
          "execution_count": 89,
          "metadata": {},
          "output_type": "execute_result"
        }
      ],
      "source": [
        "X_tr.head()"
      ]
    },
    {
      "cell_type": "code",
      "execution_count": null,
      "metadata": {
        "id": "H2zETGqGIFCm"
      },
      "outputs": [],
      "source": []
    },
    {
      "cell_type": "markdown",
      "metadata": {
        "id": "6zrIYRkcDN4j"
      },
      "source": [
        "## 모델 & 평가"
      ]
    },
    {
      "cell_type": "code",
      "execution_count": 90,
      "metadata": {
        "id": "KsW_xRwMDTzJ"
      },
      "outputs": [
        {
          "data": {
            "text/plain": [
              "array([0, 0, 0, ..., 0, 0, 0])"
            ]
          },
          "execution_count": 90,
          "metadata": {},
          "output_type": "execute_result"
        }
      ],
      "source": [
        "from sklearn.ensemble import RandomForestClassifier\n",
        "model = RandomForestClassifier(random_state=2022)\n",
        "model.fit(X_tr, y_tr)\n",
        "pred = model.predict(X_val)\n",
        "#모델 불러오기\n",
        "#학습\n",
        "#예측\n",
        "pred"
      ]
    },
    {
      "cell_type": "code",
      "execution_count": 91,
      "metadata": {
        "id": "lKhUjN58JCmv"
      },
      "outputs": [
        {
          "name": "stdout",
          "output_type": "stream",
          "text": [
            "0.9666872301048736\n",
            "0.9444444444444444\n",
            "0.8435114503816794\n",
            "0.8911290322580645\n"
          ]
        }
      ],
      "source": [
        "from sklearn.metrics import accuracy_score, precision_score, recall_score, f1_score, roc_auc_score\n",
        "\n",
        "# 정확도\n",
        "print(accuracy_score(y_val, pred))\n",
        "\n",
        "# 정밀도\n",
        "print(precision_score(y_val, pred))\n",
        "\n",
        "# 재현율 (민감도)\n",
        "print(recall_score(y_val, pred))\n",
        "\n",
        "# F1\n",
        "print(f1_score(y_val , pred))\n",
        "#베이스라인\n",
        "# 0.9679210363972857\n",
        "# 0.9525862068965517\n",
        "# 0.8435114503816794\n",
        "# 0.8947368421052632\n",
        "# 0.9919282813474208\n",
        "\n",
        "#label\n",
        "# 0.9648365206662554\n",
        "# 0.9361702127659575\n",
        "# 0.8396946564885496\n",
        "# 0.8853118712273642"
      ]
    },
    {
      "cell_type": "code",
      "execution_count": 92,
      "metadata": {
        "id": "jV_P3ppwJCpy"
      },
      "outputs": [
        {
          "name": "stdout",
          "output_type": "stream",
          "text": [
            "0.9894048160692921\n"
          ]
        }
      ],
      "source": [
        "# roc-auc\n",
        "pred_proba = model.predict_proba(X_val)\n",
        "print(roc_auc_score(y_val, pred_proba[:,1]))"
      ]
    },
    {
      "cell_type": "code",
      "execution_count": null,
      "metadata": {
        "id": "5X41bofOJCsT"
      },
      "outputs": [],
      "source": []
    },
    {
      "cell_type": "markdown",
      "metadata": {
        "id": "vENsjupLDUF9"
      },
      "source": [
        "## 예측 및 csv 제출"
      ]
    },
    {
      "cell_type": "code",
      "execution_count": null,
      "metadata": {
        "id": "IiYRaaOvDV3K"
      },
      "outputs": [],
      "source": []
    },
    {
      "cell_type": "code",
      "execution_count": null,
      "metadata": {
        "id": "6q0_C27hOb-R"
      },
      "outputs": [],
      "source": []
    },
    {
      "cell_type": "code",
      "execution_count": null,
      "metadata": {
        "id": "cHB6BDpIPDG3"
      },
      "outputs": [],
      "source": []
    },
    {
      "cell_type": "code",
      "execution_count": null,
      "metadata": {
        "id": "ynNfLDTLPMMJ"
      },
      "outputs": [],
      "source": []
    },
    {
      "cell_type": "markdown",
      "metadata": {
        "id": "CeJ_BK2KDX6Z"
      },
      "source": [
        "##정리"
      ]
    },
    {
      "cell_type": "code",
      "execution_count": 93,
      "metadata": {
        "id": "W03-nSpKDae6"
      },
      "outputs": [],
      "source": [
        "# 아래 코드는 실제 시험에서는 확인할 수 없는 부분입니다.\n",
        "# y_test = pd.read_csv(\"y_test.csv\")\n",
        "# print(roc_auc_score(y_test, pred[:,1]))"
      ]
    }
  ],
  "metadata": {
    "colab": {
      "include_colab_link": true,
      "provenance": []
    },
    "kernelspec": {
      "display_name": "Python 3",
      "name": "python3"
    },
    "language_info": {
      "codemirror_mode": {
        "name": "ipython",
        "version": 3
      },
      "file_extension": ".py",
      "mimetype": "text/x-python",
      "name": "python",
      "nbconvert_exporter": "python",
      "pygments_lexer": "ipython3",
      "version": "3.11.7"
    }
  },
  "nbformat": 4,
  "nbformat_minor": 0
}
