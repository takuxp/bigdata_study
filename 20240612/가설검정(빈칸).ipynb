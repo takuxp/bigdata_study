{
  "cells": [
    {
      "cell_type": "markdown",
      "metadata": {
        "colab_type": "text",
        "id": "view-in-github"
      },
      "source": [
        "<a href=\"https://colab.research.google.com/github/takuxp/bigdata_study/blob/main/%EA%B0%80%EC%84%A4%EA%B2%80%EC%A0%95(%EB%B9%88%EC%B9%B8).ipynb\" target=\"_parent\"><img src=\"https://colab.research.google.com/assets/colab-badge.svg\" alt=\"Open In Colab\"/></a>"
      ]
    },
    {
      "cell_type": "markdown",
      "metadata": {
        "id": "GMOOpj9dNqb4"
      },
      "source": [
        "# 단일표본검정"
      ]
    },
    {
      "cell_type": "markdown",
      "metadata": {
        "id": "ssL4kI2uPwr0"
      },
      "source": [
        "나커피 유튜버는 최근 판매되는 \"합격 원두(dark)\" 상품의 실제 무게를 조사하였다. 제조사는 \"합격 원두(dark)\"의 무게를 120g라고 표기하였다. 나커피 유튜버는 이 주장이 사실인지 확인하기 위해 상품의 무게를 측정하였다. 다음은 30개의 상품 샘플의 무게 측정 결과다. 이 측정 결과를 바탕으로 제조사의 주장인 상품의 무게(120g)가 사실인지 검정해보시오. (데이터는 정규분포를 따른다고 가정한다.)\n",
        "- 귀무가설: μ = μ0, \"합격 원두(dark)\" 상품의 평균 무게는 120g이다.\n",
        "- 대립가설: μ ≠ μ0, \"합격 원두(dark)\" 상품의 평균 무게는 120g 아니다."
      ]
    },
    {
      "cell_type": "markdown",
      "metadata": {
        "id": "D2J9WVRCWICD"
      },
      "source": [
        "- μ(뮤): 현재 조사하려는 상품의 실제 평균 무게\n",
        "-\n",
        "μ0(뮤 제로): 제조사가 주장하는 상품의 평균 무게(120g)"
      ]
    },
    {
      "cell_type": "markdown",
      "metadata": {
        "id": "-TDdNI3J_IIq"
      },
      "source": [
        "## 1. 기초"
      ]
    },
    {
      "cell_type": "code",
      "execution_count": 2,
      "metadata": {
        "id": "gHct5U3M4ba7"
      },
      "outputs": [],
      "source": [
        "import pandas as pd\n",
        "df = pd.DataFrame({\n",
        "    '무게':[119, 121, 121, 119, 125, 115, 121, 118, 117, 127,\n",
        "           123, 129, 119, 124, 114, 126, 122, 124, 121, 116,\n",
        "           123, 123, 127, 118, 122, 117, 124, 125, 123, 121],\n",
        "})"
      ]
    },
    {
      "cell_type": "markdown",
      "metadata": {
        "id": "Xy5Ry7QeX4g6"
      },
      "source": [
        "### 단일표본검정"
      ]
    },
    {
      "cell_type": "code",
      "execution_count": 3,
      "metadata": {
        "id": "-IGYGrTy4bkz"
      },
      "outputs": [
        {
          "data": {
            "text/plain": [
              "TtestResult(statistic=2.153709967150663, pvalue=0.03970987897788578, df=29)"
            ]
          },
          "execution_count": 3,
          "metadata": {},
          "output_type": "execute_result"
        }
      ],
      "source": [
        "# 단일표본검정\n",
        "from scipy import stats\n",
        "stats.ttest_1samp(df['무게'], 120)"
      ]
    },
    {
      "cell_type": "code",
      "execution_count": null,
      "metadata": {
        "id": "54wofQy86caP"
      },
      "outputs": [],
      "source": [
        "# 코랩 사이파이 버전 (시험환경 1.7)\n"
      ]
    },
    {
      "cell_type": "code",
      "execution_count": 5,
      "metadata": {
        "id": "znbNQA9g7FTm"
      },
      "outputs": [
        {
          "data": {
            "text/plain": [
              "TtestResult(statistic=2.153709967150663, pvalue=0.03970987897788578, df=29)"
            ]
          },
          "execution_count": 5,
          "metadata": {},
          "output_type": "execute_result"
        }
      ],
      "source": [
        "# 대립가설: 합격 원두(dark)\" 상품의 평균 무게는 120g 아니다.\n",
        "stats.ttest_1samp(df['무게'], 120, alternative='two-sided')"
      ]
    },
    {
      "cell_type": "code",
      "execution_count": 6,
      "metadata": {
        "id": "CQKrpzJ07FV_"
      },
      "outputs": [
        {
          "data": {
            "text/plain": [
              "TtestResult(statistic=2.153709967150663, pvalue=0.01985493948894289, df=29)"
            ]
          },
          "execution_count": 6,
          "metadata": {},
          "output_type": "execute_result"
        }
      ],
      "source": [
        "# 대립가설: 합격 원두(dark)\" 상품의 평균 무게는 120g 보다 크다\n",
        "stats.ttest_1samp(df['무게'], 120, alternative='greater')"
      ]
    },
    {
      "cell_type": "code",
      "execution_count": 7,
      "metadata": {
        "id": "gHfAnVzr7FYV"
      },
      "outputs": [
        {
          "data": {
            "text/plain": [
              "TtestResult(statistic=2.153709967150663, pvalue=0.9801450605110571, df=29)"
            ]
          },
          "execution_count": 7,
          "metadata": {},
          "output_type": "execute_result"
        }
      ],
      "source": [
        "# 대립가설: 합격 원두(dark)\" 상품의 평균 무게는 120g 보다 작다\n",
        "stats.ttest_1samp(df['무게'], 120, alternative='less')"
      ]
    },
    {
      "cell_type": "markdown",
      "metadata": {
        "id": "bgT0JC1dMt_Z"
      },
      "source": [
        "## 2. 심화"
      ]
    },
    {
      "cell_type": "code",
      "execution_count": 25,
      "metadata": {
        "id": "2QrYQl3e7Fa8"
      },
      "outputs": [],
      "source": [
        "# 데이터 (정규성에 만족하지 않게 일부 변경)\n",
        "import pandas as pd\n",
        "df = pd.DataFrame({\n",
        "    '무게':[219, 121, 121, 119, 125, 115, 121, 118, 117, 127,\n",
        "           123, 129, 119, 124, 114, 126, 122, 124, 121, 116,\n",
        "           123, 123, 127, 118, 122, 117, 124, 125, 123, 121],\n",
        "})\n"
      ]
    },
    {
      "cell_type": "markdown",
      "metadata": {
        "id": "Jnff_h_iW4gt"
      },
      "source": [
        "### Shapiro-Wilk 검정\n",
        "- 귀무가설 (H0): 주어진 데이터 샘플은 정규 분포를 따른다.\n",
        "- 대립가설(H1): 주어진 데이터 샘플은 정규 분포를 따르지 않는다."
      ]
    },
    {
      "cell_type": "code",
      "execution_count": 26,
      "metadata": {
        "id": "Y023nW1Y4biR"
      },
      "outputs": [
        {
          "data": {
            "text/plain": [
              "ShapiroResult(statistic=0.35728970196526855, pvalue=2.2139240997414947e-10)"
            ]
          },
          "execution_count": 26,
          "metadata": {},
          "output_type": "execute_result"
        }
      ],
      "source": [
        "# Shapiro-Wilk(샤피로-윌크) 정규성 검정\n",
        "from scipy import stats\n",
        "stats.shapiro(df['무게'])"
      ]
    },
    {
      "cell_type": "code",
      "execution_count": null,
      "metadata": {
        "id": "zd8kn8YjfuIx"
      },
      "outputs": [],
      "source": [
        "# 지수표기법 변경\n"
      ]
    },
    {
      "cell_type": "markdown",
      "metadata": {
        "id": "N8B2jXYSXwvN"
      },
      "source": [
        "### Wilcoxon 검정 (비모수 검정)\n",
        "- 귀무가설 (H0): μ = μ0, \"합격 원두(dark)\" 상품의 평균 무게는 120g이다.\n",
        "- 대립가설(H1): μ < μ0, \"합격 원두(dark)\" 상품의 평균 무게는 120g 보다 작다"
      ]
    },
    {
      "cell_type": "code",
      "execution_count": 29,
      "metadata": {
        "id": "TphKGRdH4bni"
      },
      "outputs": [
        {
          "ename": "KeyError",
          "evalue": "'무게'",
          "output_type": "error",
          "traceback": [
            "\u001b[0;31m---------------------------------------------------------------------------\u001b[0m",
            "\u001b[0;31mKeyError\u001b[0m                                  Traceback (most recent call last)",
            "File \u001b[0;32m~/dev/anaconda3/lib/python3.12/site-packages/pandas/core/indexes/base.py:3805\u001b[0m, in \u001b[0;36mIndex.get_loc\u001b[0;34m(self, key)\u001b[0m\n\u001b[1;32m   3804\u001b[0m \u001b[38;5;28;01mtry\u001b[39;00m:\n\u001b[0;32m-> 3805\u001b[0m     \u001b[38;5;28;01mreturn\u001b[39;00m \u001b[38;5;28mself\u001b[39m\u001b[38;5;241m.\u001b[39m_engine\u001b[38;5;241m.\u001b[39mget_loc(casted_key)\n\u001b[1;32m   3806\u001b[0m \u001b[38;5;28;01mexcept\u001b[39;00m \u001b[38;5;167;01mKeyError\u001b[39;00m \u001b[38;5;28;01mas\u001b[39;00m err:\n",
            "File \u001b[0;32mindex.pyx:167\u001b[0m, in \u001b[0;36mpandas._libs.index.IndexEngine.get_loc\u001b[0;34m()\u001b[0m\n",
            "File \u001b[0;32mindex.pyx:196\u001b[0m, in \u001b[0;36mpandas._libs.index.IndexEngine.get_loc\u001b[0;34m()\u001b[0m\n",
            "File \u001b[0;32mpandas/_libs/hashtable_class_helper.pxi:7081\u001b[0m, in \u001b[0;36mpandas._libs.hashtable.PyObjectHashTable.get_item\u001b[0;34m()\u001b[0m\n",
            "File \u001b[0;32mpandas/_libs/hashtable_class_helper.pxi:7089\u001b[0m, in \u001b[0;36mpandas._libs.hashtable.PyObjectHashTable.get_item\u001b[0;34m()\u001b[0m\n",
            "\u001b[0;31mKeyError\u001b[0m: '무게'",
            "\nThe above exception was the direct cause of the following exception:\n",
            "\u001b[0;31mKeyError\u001b[0m                                  Traceback (most recent call last)",
            "Cell \u001b[0;32mIn[29], line 2\u001b[0m\n\u001b[1;32m      1\u001b[0m \u001b[38;5;66;03m# Wilcoxon(윌콕슨)의 부호 순위 검정 수행\u001b[39;00m\n\u001b[0;32m----> 2\u001b[0m stats\u001b[38;5;241m.\u001b[39mwilcoxon(df[\u001b[38;5;124m'\u001b[39m\u001b[38;5;124m무게\u001b[39m\u001b[38;5;124m'\u001b[39m] \u001b[38;5;241m-\u001b[39m \u001b[38;5;241m120\u001b[39m, alternative\u001b[38;5;241m=\u001b[39m\u001b[38;5;124m'\u001b[39m\u001b[38;5;124mless\u001b[39m\u001b[38;5;124m'\u001b[39m)\n",
            "File \u001b[0;32m~/dev/anaconda3/lib/python3.12/site-packages/pandas/core/frame.py:4090\u001b[0m, in \u001b[0;36mDataFrame.__getitem__\u001b[0;34m(self, key)\u001b[0m\n\u001b[1;32m   4088\u001b[0m \u001b[38;5;28;01mif\u001b[39;00m \u001b[38;5;28mself\u001b[39m\u001b[38;5;241m.\u001b[39mcolumns\u001b[38;5;241m.\u001b[39mnlevels \u001b[38;5;241m>\u001b[39m \u001b[38;5;241m1\u001b[39m:\n\u001b[1;32m   4089\u001b[0m     \u001b[38;5;28;01mreturn\u001b[39;00m \u001b[38;5;28mself\u001b[39m\u001b[38;5;241m.\u001b[39m_getitem_multilevel(key)\n\u001b[0;32m-> 4090\u001b[0m indexer \u001b[38;5;241m=\u001b[39m \u001b[38;5;28mself\u001b[39m\u001b[38;5;241m.\u001b[39mcolumns\u001b[38;5;241m.\u001b[39mget_loc(key)\n\u001b[1;32m   4091\u001b[0m \u001b[38;5;28;01mif\u001b[39;00m is_integer(indexer):\n\u001b[1;32m   4092\u001b[0m     indexer \u001b[38;5;241m=\u001b[39m [indexer]\n",
            "File \u001b[0;32m~/dev/anaconda3/lib/python3.12/site-packages/pandas/core/indexes/base.py:3812\u001b[0m, in \u001b[0;36mIndex.get_loc\u001b[0;34m(self, key)\u001b[0m\n\u001b[1;32m   3807\u001b[0m     \u001b[38;5;28;01mif\u001b[39;00m \u001b[38;5;28misinstance\u001b[39m(casted_key, \u001b[38;5;28mslice\u001b[39m) \u001b[38;5;129;01mor\u001b[39;00m (\n\u001b[1;32m   3808\u001b[0m         \u001b[38;5;28misinstance\u001b[39m(casted_key, abc\u001b[38;5;241m.\u001b[39mIterable)\n\u001b[1;32m   3809\u001b[0m         \u001b[38;5;129;01mand\u001b[39;00m \u001b[38;5;28many\u001b[39m(\u001b[38;5;28misinstance\u001b[39m(x, \u001b[38;5;28mslice\u001b[39m) \u001b[38;5;28;01mfor\u001b[39;00m x \u001b[38;5;129;01min\u001b[39;00m casted_key)\n\u001b[1;32m   3810\u001b[0m     ):\n\u001b[1;32m   3811\u001b[0m         \u001b[38;5;28;01mraise\u001b[39;00m InvalidIndexError(key)\n\u001b[0;32m-> 3812\u001b[0m     \u001b[38;5;28;01mraise\u001b[39;00m \u001b[38;5;167;01mKeyError\u001b[39;00m(key) \u001b[38;5;28;01mfrom\u001b[39;00m \u001b[38;5;21;01merr\u001b[39;00m\n\u001b[1;32m   3813\u001b[0m \u001b[38;5;28;01mexcept\u001b[39;00m \u001b[38;5;167;01mTypeError\u001b[39;00m:\n\u001b[1;32m   3814\u001b[0m     \u001b[38;5;66;03m# If we have a listlike key, _check_indexing_error will raise\u001b[39;00m\n\u001b[1;32m   3815\u001b[0m     \u001b[38;5;66;03m#  InvalidIndexError. Otherwise we fall through and re-raise\u001b[39;00m\n\u001b[1;32m   3816\u001b[0m     \u001b[38;5;66;03m#  the TypeError.\u001b[39;00m\n\u001b[1;32m   3817\u001b[0m     \u001b[38;5;28mself\u001b[39m\u001b[38;5;241m.\u001b[39m_check_indexing_error(key)\n",
            "\u001b[0;31mKeyError\u001b[0m: '무게'"
          ]
        }
      ],
      "source": [
        "# Wilcoxon(윌콕슨)의 부호 순위 검정 수행\n",
        "stats.wilcoxon(df['무게'] - 120, alternative='less')"
      ]
    },
    {
      "cell_type": "code",
      "execution_count": null,
      "metadata": {
        "id": "o1CLTtXHIOax"
      },
      "outputs": [],
      "source": []
    },
    {
      "cell_type": "markdown",
      "metadata": {
        "id": "zS_wjdjeVYFo"
      },
      "source": [
        "# 대응표본검정"
      ]
    },
    {
      "cell_type": "markdown",
      "metadata": {
        "id": "Tc9ROgXKUtV8"
      },
      "source": [
        "퇴근후딴짓 크리에이터는 수험생의 점수 향상을 위해 새로운 교육 프로그램을 도입했다. 도입 전과 도입 후의 점수 차이를 확인하기 위해 동일한 수험생의 점수를 비교하였습니다. 다음은 교육 전과 후의 점수 데이터이다. 새로운 교육 프로그램이 효과가 있는지 검정하시오.(데이터는 정규분포를 따른다고 가정한다.)\n",
        "\n",
        "μ<sub>d</sub> = (before – after)의 평균\n",
        "\n",
        "- 귀무가설: μ<sub>d</sub> ≥ 0, 새로운 교육 프로그램은 효과가 없다.\n",
        "- 대립가설: μ<sub>d</sub> < 0, 새로운 교육 프로그램은 효과가 있다.\n",
        "\n"
      ]
    },
    {
      "cell_type": "markdown",
      "metadata": {
        "id": "kdKpcpA_qc4-"
      },
      "source": [
        "## 1. 기초"
      ]
    },
    {
      "cell_type": "code",
      "execution_count": 30,
      "metadata": {
        "id": "fZ0AUIzX0wFH"
      },
      "outputs": [],
      "source": [
        "# 데이터\n",
        "import pandas as pd\n",
        "df = pd.DataFrame({\n",
        "    'before':[85,90,92,88,86,89,83,87,65,50],\n",
        "    'after':[88,89,96,89,85,88,85,89,78,61]\n",
        "})"
      ]
    },
    {
      "cell_type": "markdown",
      "metadata": {
        "id": "LsHDDj3qkD6c"
      },
      "source": [
        "### 대응표본검정"
      ]
    },
    {
      "cell_type": "code",
      "execution_count": 31,
      "metadata": {
        "id": "41KwCmrynZNV"
      },
      "outputs": [
        {
          "data": {
            "text/plain": [
              "TtestResult(statistic=-2.119860886666164, pvalue=0.03152591671694539, df=9)"
            ]
          },
          "execution_count": 31,
          "metadata": {},
          "output_type": "execute_result"
        }
      ],
      "source": [
        "# 대응표본검정\n",
        "from scipy import stats\n",
        "stats.ttest_rel(df['before'], df['after'], alternative='less')"
      ]
    },
    {
      "cell_type": "markdown",
      "metadata": {
        "id": "CCDPYNR_SwiT"
      },
      "source": [
        "μ<sub>d</sub> = (after - before)의 평균\n",
        "- 귀무가설: μ<sub>d</sub> ≤ 0\n",
        "- 대립가설: μ<sub>d</sub> > 0"
      ]
    },
    {
      "cell_type": "code",
      "execution_count": null,
      "metadata": {
        "id": "C3L2GsbDnaDw"
      },
      "outputs": [],
      "source": [
        "# 대응표본검정\n"
      ]
    },
    {
      "cell_type": "markdown",
      "metadata": {
        "id": "juH19gbLp9M_"
      },
      "source": [
        "## 2. 심화"
      ]
    },
    {
      "cell_type": "code",
      "execution_count": null,
      "metadata": {
        "id": "yeQu5su4p1mG"
      },
      "outputs": [],
      "source": [
        "# 데이터\n",
        "import pandas as pd\n",
        "df = pd.DataFrame({\n",
        "    'before':[85,90,92,88,86,89,83,87,65,50],\n",
        "    'after':[88,89,96,89,85,88,85,89,78,61]\n",
        "})"
      ]
    },
    {
      "cell_type": "markdown",
      "metadata": {
        "id": "nC7X7I0bT3ir"
      },
      "source": [
        "μ<sub>d</sub> = (after - before)의 평균\n",
        "- 귀무가설: μ<sub>d</sub> ≤ 0\n",
        "- 대립가설: μ<sub>d</sub> > 0"
      ]
    },
    {
      "cell_type": "markdown",
      "metadata": {
        "id": "Oyt1zu1ijtL0"
      },
      "source": [
        "### Shapiro-Wilk 검정"
      ]
    },
    {
      "cell_type": "code",
      "execution_count": null,
      "metadata": {
        "id": "3a4x-qTknaIr"
      },
      "outputs": [],
      "source": [
        "# Shapiro-Wilk(샤피로-윌크) 정규성 검정\n"
      ]
    },
    {
      "cell_type": "markdown",
      "metadata": {
        "id": "Yd51YGEDjm12"
      },
      "source": [
        "### Wilcoxon 검정 (비모수 검정)"
      ]
    },
    {
      "cell_type": "code",
      "execution_count": null,
      "metadata": {
        "id": "jQPHzg9CK8Oj"
      },
      "outputs": [],
      "source": [
        "# Wilcoxon(윌콕슨)의 부호 순위 검정 수행\n"
      ]
    },
    {
      "cell_type": "code",
      "execution_count": null,
      "metadata": {
        "id": "X2VJ22P_ptux"
      },
      "outputs": [],
      "source": [
        "# Wilcoxon(윌콕슨)의 부호 순위 검정 수행 (diff)\n"
      ]
    },
    {
      "cell_type": "code",
      "execution_count": null,
      "metadata": {
        "id": "RrhL1kJET-97"
      },
      "outputs": [],
      "source": []
    },
    {
      "cell_type": "markdown",
      "metadata": {
        "id": "BYU2nuhzMm6r"
      },
      "source": [
        "# 독립표본검정"
      ]
    },
    {
      "cell_type": "markdown",
      "metadata": {
        "id": "EtVcv6ysUt1W"
      },
      "source": [
        "다음은 빅데이터 분석기사 실기 시험 점수이다. A그룹과 B그룹의 평균 점수가 차이가 있는지 유의수준 0.05하에서 가설 검정하시오.\n",
        "(데이터는 정규분포를 따르고 분산이 동일하다고 가정한다.)\n",
        "- 귀무가설(H0): 그룹별 시험 평균 점수는 차이가 없다. (μ1 = μ2)\n",
        "- 대립가설(H1): 그룹별 시험 평균 점수는 차이가 있다. (μ1 ≠ μ2)"
      ]
    },
    {
      "cell_type": "markdown",
      "metadata": {
        "id": "3bxwaHM2Uq0g"
      },
      "source": [
        "## 1. 기초"
      ]
    },
    {
      "cell_type": "code",
      "execution_count": 32,
      "metadata": {
        "id": "El6O2uwYBeLc"
      },
      "outputs": [],
      "source": [
        "# 데이터\n",
        "A = [85, 90, 92, 88, 86, 89, 83, 87,\n",
        "     84, 50, 60, 39, 28, 48, 38, 28]\n",
        "B = [82, 82, 88, 85, 84, 74, 79, 69,\n",
        "     78, 76, 85, 84, 79, 89]"
      ]
    },
    {
      "cell_type": "markdown",
      "metadata": {
        "id": "4am7ta59kGKJ"
      },
      "source": [
        "### 독립표본검정"
      ]
    },
    {
      "cell_type": "code",
      "execution_count": 33,
      "metadata": {
        "id": "IJBApyCeM0yk"
      },
      "outputs": [
        {
          "data": {
            "text/plain": [
              "TtestResult(statistic=-2.051813915505951, pvalue=0.04964542271174967, df=28.0)"
            ]
          },
          "execution_count": 33,
          "metadata": {},
          "output_type": "execute_result"
        }
      ],
      "source": [
        "# 독립표본검정\n",
        "from scipy import stats\n",
        "stats.ttest_ind(A, B) #(처리집단, 대조집단)"
      ]
    },
    {
      "cell_type": "markdown",
      "metadata": {
        "id": "fWGTgRAniIGN"
      },
      "source": [
        "### 등분산"
      ]
    },
    {
      "cell_type": "code",
      "execution_count": null,
      "metadata": {
        "id": "jDFDL5fJM7Cu"
      },
      "outputs": [],
      "source": [
        "# 두 집단의 분산이 다르다(equal_var=False)\n",
        "stats.ttest_ind(A, B, equal_var=False)"
      ]
    },
    {
      "cell_type": "markdown",
      "metadata": {
        "id": "AFgCWUWxhwm_"
      },
      "source": [
        "- 귀무가설(H0): 그룹별 시험 평균 점수는 차이가 없다. (μ1 = μ2)\n",
        "- 대립가설(H1): B그룹 시험 평균 점수가 더 높다. (μ1 < μ2)"
      ]
    },
    {
      "cell_type": "code",
      "execution_count": null,
      "metadata": {
        "id": "ESY4fIAWNL7Y"
      },
      "outputs": [],
      "source": [
        "# 독립표본검정(less)\n",
        "stats.ttest_ind(A, B, alternative='less')"
      ]
    },
    {
      "cell_type": "markdown",
      "metadata": {
        "id": "syRREwRbh8vG"
      },
      "source": [
        "- 귀무가설(H0): 그룹별 시험 평균 점수는 차이가 없다. (μ1 = μ2)\n",
        "- 대립가설(H1): A그룹 시험 평균 점수가 더 높다. (μ1 > μ2)"
      ]
    },
    {
      "cell_type": "code",
      "execution_count": null,
      "metadata": {
        "id": "ASqJKMOgNRcH"
      },
      "outputs": [],
      "source": [
        "# 독립표본검정(greater)\n",
        "stats.ttest_ind(A, B, alternative='greater')"
      ]
    },
    {
      "cell_type": "markdown",
      "metadata": {
        "id": "0r1CD7XudcEJ"
      },
      "source": [
        "## 2. 심화"
      ]
    },
    {
      "cell_type": "code",
      "execution_count": null,
      "metadata": {
        "id": "NqFJ4Um9dfEy"
      },
      "outputs": [],
      "source": [
        "# 데이터\n",
        "import pandas as pd\n",
        "A = [85, 90, 92, 88, 86, 89, 83, 87,\n",
        "     84, 50, 60, 39, 28, 48, 38, 28]\n",
        "B = [82, 82, 88, 85, 84, 74, 79, 69,\n",
        "     78, 76, 85, 84, 79, 89]"
      ]
    },
    {
      "cell_type": "markdown",
      "metadata": {
        "id": "h8XH1IIojwQi"
      },
      "source": [
        "### Shapiro-Wilk 검정"
      ]
    },
    {
      "cell_type": "code",
      "execution_count": null,
      "metadata": {
        "id": "hFjt4PtKikLh"
      },
      "outputs": [],
      "source": [
        "# Shapiro-Wilk(샤피로-윌크) 정규성 검정\n"
      ]
    },
    {
      "cell_type": "markdown",
      "metadata": {
        "id": "TQuQbIPBjxN7"
      },
      "source": [
        "### Levene 검정"
      ]
    },
    {
      "cell_type": "code",
      "execution_count": null,
      "metadata": {
        "id": "TCqI_1gndfJ3"
      },
      "outputs": [],
      "source": [
        "# Levene(레빈) 등분산 검정 (귀무가설: 분산이 동일하다)\n",
        "stats.levene(A, B)"
      ]
    },
    {
      "cell_type": "markdown",
      "metadata": {
        "id": "6oXR4Py4lzDu"
      },
      "source": [
        "### 독립표본검정"
      ]
    },
    {
      "cell_type": "markdown",
      "metadata": {
        "id": "xVrp-5T5KsyG"
      },
      "source": [
        "- 귀무가설(H0): 그룹별 시험 평균 점수는 차이가 없다. (μ1 = μ2)\n",
        "- 대립가설(H1): B그룹 시험 평균 점수가 더 높다. (μ1 < μ2)"
      ]
    },
    {
      "cell_type": "code",
      "execution_count": null,
      "metadata": {
        "id": "Kimci0kWdfMb"
      },
      "outputs": [],
      "source": [
        "# 독립표본검정\n"
      ]
    },
    {
      "cell_type": "code",
      "execution_count": null,
      "metadata": {
        "id": "oYRCmYeCi9kJ"
      },
      "outputs": [],
      "source": []
    },
    {
      "cell_type": "markdown",
      "metadata": {
        "id": "GQityTjdjHiD"
      },
      "source": [
        "### Mann-Whitney U 검정 (비모수 검정)"
      ]
    },
    {
      "cell_type": "markdown",
      "metadata": {
        "id": "jk0zoZgPKq8Z"
      },
      "source": [
        "- 귀무가설(H0): 그룹별 시험 평균 점수는 차이가 없다. (μ1 = μ2)\n",
        "- 대립가설(H1): B그룹 시험 평균 점수가 더 높다. (μ1 < μ2)"
      ]
    },
    {
      "cell_type": "code",
      "execution_count": null,
      "metadata": {
        "id": "-b36JAVvfUeN"
      },
      "outputs": [],
      "source": [
        "# Mann-Whitney U(만-휘트니 유) 검정\n"
      ]
    },
    {
      "cell_type": "code",
      "execution_count": null,
      "metadata": {
        "id": "1D1vDxze5DaW"
      },
      "outputs": [],
      "source": []
    }
  ],
  "metadata": {
    "colab": {
      "include_colab_link": true,
      "provenance": []
    },
    "kernelspec": {
      "display_name": "Python 3",
      "name": "python3"
    },
    "language_info": {
      "codemirror_mode": {
        "name": "ipython",
        "version": 3
      },
      "file_extension": ".py",
      "mimetype": "text/x-python",
      "name": "python",
      "nbconvert_exporter": "python",
      "pygments_lexer": "ipython3",
      "version": "3.12.3"
    }
  },
  "nbformat": 4,
  "nbformat_minor": 0
}
