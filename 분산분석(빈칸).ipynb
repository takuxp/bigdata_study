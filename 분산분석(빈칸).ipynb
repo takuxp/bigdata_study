{
  "nbformat": 4,
  "nbformat_minor": 0,
  "metadata": {
    "colab": {
      "provenance": [],
      "include_colab_link": true
    },
    "kernelspec": {
      "name": "python3",
      "display_name": "Python 3"
    },
    "language_info": {
      "name": "python"
    }
  },
  "cells": [
    {
      "cell_type": "markdown",
      "metadata": {
        "id": "view-in-github",
        "colab_type": "text"
      },
      "source": [
        "<a href=\"https://colab.research.google.com/github/takuxp/bigdata_study/blob/main/%EB%B6%84%EC%82%B0%EB%B6%84%EC%84%9D(%EB%B9%88%EC%B9%B8).ipynb\" target=\"_parent\"><img src=\"https://colab.research.google.com/assets/colab-badge.svg\" alt=\"Open In Colab\"/></a>"
      ]
    },
    {
      "cell_type": "markdown",
      "source": [
        "# 일원 분산 분석"
      ],
      "metadata": {
        "id": "noR3fjbYSw1_"
      }
    },
    {
      "cell_type": "markdown",
      "source": [
        "주어진 데이터는 4가지 다른 교육 방법을 적용한 대학생들의 학점 결과이다. 이 실험에서는 비슷한 실력을 가진 학생 40명을 무작위로 4개(A, B, C, D)그룹으로 나누었고, 각 그룹은 다른 교육 방법을 적용했다. 학생들의 학점 결과에는 교육 방법에 따른 차이가 있는지 유의수준 0.5하에서 검정하시오.\n",
        "- 귀무가설(H0): 네 가지 교육 방법에 의한 학생들의 학점 평균은 동일하다.\n",
        "- 대립가설(H1): 적어도 두 그룹의 학점 평균은 다르다."
      ],
      "metadata": {
        "id": "JsELXtKgvRkK"
      }
    },
    {
      "cell_type": "markdown",
      "source": [
        "## 1. 기초"
      ],
      "metadata": {
        "id": "80IBaqHZS1JH"
      }
    },
    {
      "cell_type": "code",
      "source": [
        "import pandas as pd\n",
        "df = pd.DataFrame({\n",
        "    'A': [3.5, 4.3, 3.8, 3.6, 4.1, 3.2, 3.9, 4.4, 3.5, 3.3],\n",
        "    'B': [3.9, 4.4, 4.1, 4.2, 4.5, 3.8, 4.2, 3.9, 4.4, 4.3],\n",
        "    'C': [3.2, 3.7, 3.6, 3.9, 4.3, 4.1, 3.8, 3.5, 4.4, 4.0],\n",
        "    'D': [3.8, 3.4, 3.1, 3.5, 3.6, 3.9, 3.2, 3.7, 3.3, 3.4]\n",
        "})\n",
        "print(df.head(2))"
      ],
      "metadata": {
        "id": "8Tix8IOgjleA"
      },
      "execution_count": null,
      "outputs": []
    },
    {
      "cell_type": "markdown",
      "source": [
        "### 일원 분산 분석"
      ],
      "metadata": {
        "id": "w3x85qp5mGRA"
      }
    },
    {
      "cell_type": "code",
      "source": [
        "# 일원 분산 분석\n"
      ],
      "metadata": {
        "id": "ujMdJExGl5oK"
      },
      "execution_count": null,
      "outputs": []
    },
    {
      "cell_type": "code",
      "execution_count": null,
      "metadata": {
        "id": "ie4pxfxlWEvK"
      },
      "outputs": [],
      "source": [
        "# 정규성, 등분산, 일원 분산 분석\n",
        "\n",
        "# Shapiro-Wilk(샤피로-윌크) 정규성 검정\n",
        "\n",
        "\n",
        "# Levene(레빈) 등분산 검정\n",
        "\n",
        "\n",
        "# 일원 분산 분석\n"
      ]
    },
    {
      "cell_type": "markdown",
      "source": [
        "## 2. 심화"
      ],
      "metadata": {
        "id": "X6IW2XKNTCHh"
      }
    },
    {
      "cell_type": "code",
      "source": [
        "# 데이터 재구조화 (긴 형태)\n"
      ],
      "metadata": {
        "id": "0V10CT1KjvHv"
      },
      "execution_count": null,
      "outputs": []
    },
    {
      "cell_type": "markdown",
      "source": [
        "### 분산분석 테이블"
      ],
      "metadata": {
        "id": "l1OyVuNornNT"
      }
    },
    {
      "cell_type": "code",
      "source": [
        "# ANOVA 테이블\n"
      ],
      "metadata": {
        "id": "3PH02qzdEPXZ"
      },
      "execution_count": null,
      "outputs": []
    },
    {
      "cell_type": "markdown",
      "source": [
        "### 사후검정\n",
        "- 목적: 어떤 그룹들 간에 통계적으로 유의미한 차이가 있는지 구체적으로 파악하는 것"
      ],
      "metadata": {
        "id": "giIbIObjpoQS"
      }
    },
    {
      "cell_type": "code",
      "source": [
        "# Tukey HSD (투키)\n",
        "\n",
        "# Bonferroni(본페로니)\n"
      ],
      "metadata": {
        "id": "-zJ_Eu22oH20"
      },
      "execution_count": null,
      "outputs": []
    },
    {
      "cell_type": "markdown",
      "source": [
        "### 크루스칼-왈리스 검정 (비모수 검정)"
      ],
      "metadata": {
        "id": "n_rI32dVrt97"
      }
    },
    {
      "cell_type": "code",
      "source": [
        "import pandas as pd\n",
        "from scipy import stats\n",
        "\n",
        "# 데이터\n",
        "df = pd.DataFrame({\n",
        "    'A': [10.5, 11.3, 10.8, 10.6, 11.1, 10.2, 10.9, 11.4, 10.5, 10.3],\n",
        "    'B': [10.9, 11.4, 11.1, 11.2, 11.5, 10.8, 11.2, 10.9, 11.4, 11.3],\n",
        "    'C': [10.2, 10.7, 10.6, 10.9, 11.3, 11.1, 10.8, 10.5, 11.4, 11.0],\n",
        "    'D': [13.8, 10.4, 10.1, 10.5, 10.6, 10.9, 10.2, 10.7, 10.3, 10.4]\n",
        "})\n",
        "\n",
        "# 정규성 검정\n",
        "print(stats.shapiro(df['A']))\n",
        "print(stats.shapiro(df['B']))\n",
        "print(stats.shapiro(df['C']))\n",
        "print(stats.shapiro(df['D']))\n",
        "\n",
        "# Kruskal-Wallis 검정\n"
      ],
      "metadata": {
        "id": "YqHYfIKQW607"
      },
      "execution_count": null,
      "outputs": []
    },
    {
      "cell_type": "markdown",
      "source": [
        "# 이원 분산 분석"
      ],
      "metadata": {
        "id": "zE_cfuF4TJD7"
      }
    },
    {
      "cell_type": "markdown",
      "source": [
        "가정에서 재배하고 있는 네 가지 토마토 종자(A, B, C, D)에 대해 세 가지 종류의 비료 (11, 12, 13)를 사용하여 재배된 토마토 수를 조사하였다. 종자 및 비료 종류 간의 토마토 수의 차이가 있는지 유의수준 0.05하에서 검정하시오.\n",
        "(단, 정규성, 등분산성에 만족한 데이터)\n",
        "- 종자 (주 효과)\n",
        "    - 귀무가설(H0): 종자 간의 토마토 수에 차이가 없다.\n",
        "    - 대립가설(H1): 적어도 하나의 종자에서 토마토 수에 차이가 있다.\n",
        "- 비료 (주 효과)\n",
        "    - 귀무가설(H0): 비료 종류 간의 토마토 수에 차이가 없다.\n",
        "    - 대립가설(H1): 적어도 하나의 비료 종류에서 토마토 수에 차이가 있다.\n",
        "- 상호작용 효과:\n",
        "    - 귀무가설(H0): 종자와 비료 간의 상호작용은 토마토 수에 영향을 미치지 않는다.\n",
        "    - 대립가설(H1): 종자와 비료 간의 상호작용은 토마토 수에 영향을 미친다.\n"
      ],
      "metadata": {
        "id": "0yQjsmneJJJD"
      }
    },
    {
      "cell_type": "markdown",
      "source": [
        "## 1. 기초"
      ],
      "metadata": {
        "id": "yQIVGQDmTVpV"
      }
    },
    {
      "cell_type": "code",
      "source": [
        "import pandas as pd\n",
        "df = pd.read_csv(\"tomato.csv\")\n",
        "print(df.head())\n",
        "print(df.shape)"
      ],
      "metadata": {
        "id": "d-87C0HTjR9d"
      },
      "execution_count": null,
      "outputs": []
    },
    {
      "cell_type": "markdown",
      "source": [
        "### 이원 분산 분석"
      ],
      "metadata": {
        "id": "RcPQMCRM_3_c"
      }
    },
    {
      "cell_type": "code",
      "source": [
        "# anova 테이블\n"
      ],
      "metadata": {
        "id": "40ToLh4Xe0vA"
      },
      "execution_count": null,
      "outputs": []
    },
    {
      "cell_type": "code",
      "source": [
        "# 범주형 데이터 처리\n"
      ],
      "metadata": {
        "id": "kE4qc4wtkbj9"
      },
      "execution_count": null,
      "outputs": []
    },
    {
      "cell_type": "code",
      "source": [
        "# 일반표기법 format(지수표기법, '.10f')\n"
      ],
      "metadata": {
        "id": "B6lwreZut_JA"
      },
      "execution_count": null,
      "outputs": []
    },
    {
      "cell_type": "code",
      "source": [
        "# formula * 활용\n"
      ],
      "metadata": {
        "id": "zzz8pEIyjky7"
      },
      "execution_count": null,
      "outputs": []
    },
    {
      "cell_type": "markdown",
      "source": [
        "## 2. 심화"
      ],
      "metadata": {
        "id": "FRDwpx-gjurL"
      }
    },
    {
      "cell_type": "markdown",
      "source": [
        "### 사후검정"
      ],
      "metadata": {
        "id": "MA5eE1ceAMAE"
      }
    },
    {
      "cell_type": "code",
      "source": [
        "# 이원 분산 분석 수행\n"
      ],
      "metadata": {
        "id": "-yqUH20Bbh0f"
      },
      "execution_count": null,
      "outputs": []
    },
    {
      "cell_type": "code",
      "source": [
        "\n",
        "# Tukey HSD\n"
      ],
      "metadata": {
        "id": "Yxjjxagsb2Vd"
      },
      "execution_count": null,
      "outputs": []
    },
    {
      "cell_type": "code",
      "source": [
        "# Bonferroni\n"
      ],
      "metadata": {
        "id": "CLYOyOE8b_15"
      },
      "execution_count": null,
      "outputs": []
    },
    {
      "cell_type": "markdown",
      "source": [
        "### [참고] 정규성, 등분산"
      ],
      "metadata": {
        "id": "Ru8y1HEZAWPa"
      }
    },
    {
      "cell_type": "code",
      "source": [
        "from scipy.stats import shapiro\n",
        "\n",
        "cond_tree_A = df['종자'] == 'A'\n",
        "cond_tree_B = df['종자'] == 'B'\n",
        "cond_tree_C = df['종자'] == 'C'\n",
        "cond_tree_D = df['종자'] == 'D'\n",
        "\n",
        "cond_fert_1 = df['비료'] == 11\n",
        "cond_fert_2 = df['비료'] == 12\n",
        "cond_fert_3 = df['비료'] == 13\n",
        "\n",
        "print(shapiro(df[cond_tree_A & cond_fert_1]['토마토수']))\n",
        "print(shapiro(df[cond_tree_A & cond_fert_2]['토마토수']))\n",
        "print(shapiro(df[cond_tree_A & cond_fert_3]['토마토수']))\n",
        "\n",
        "print(shapiro(df[cond_tree_B & cond_fert_1]['토마토수']))\n",
        "print(shapiro(df[cond_tree_B & cond_fert_2]['토마토수']))\n",
        "print(shapiro(df[cond_tree_B & cond_fert_3]['토마토수']))\n",
        "\n",
        "print(shapiro(df[cond_tree_C & cond_fert_1]['토마토수']))\n",
        "print(shapiro(df[cond_tree_C & cond_fert_2]['토마토수']))\n",
        "print(shapiro(df[cond_tree_C & cond_fert_3]['토마토수']))\n",
        "\n",
        "print(shapiro(df[cond_tree_D & cond_fert_1]['토마토수']))\n",
        "print(shapiro(df[cond_tree_D & cond_fert_2]['토마토수']))\n",
        "print(shapiro(df[cond_tree_D & cond_fert_3]['토마토수']))"
      ],
      "metadata": {
        "id": "IguuuWXeQGnI"
      },
      "execution_count": null,
      "outputs": []
    },
    {
      "cell_type": "code",
      "source": [
        "from scipy.stats import levene\n",
        "print(levene(df[cond_tree_A]['토마토수'],\n",
        "             df[cond_tree_B]['토마토수'],\n",
        "             df[cond_tree_C]['토마토수'],\n",
        "             df[cond_tree_D]['토마토수']))\n",
        "print(levene(df[cond_fert_1]['토마토수'],\n",
        "             df[cond_fert_2]['토마토수'],\n",
        "             df[cond_fert_3]['토마토수']))"
      ],
      "metadata": {
        "id": "93pcC80YQZsO"
      },
      "execution_count": null,
      "outputs": []
    }
  ]
}