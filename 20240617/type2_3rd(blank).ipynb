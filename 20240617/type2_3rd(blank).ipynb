{
  "cells": [
    {
      "cell_type": "markdown",
      "metadata": {
        "colab_type": "text",
        "id": "view-in-github"
      },
      "source": [
        "<a href=\"https://colab.research.google.com/github/takuxp/bigdata_study/blob/main/type2_3rd(blank).ipynb\" target=\"_parent\"><img src=\"https://colab.research.google.com/assets/colab-badge.svg\" alt=\"Open In Colab\"/></a>"
      ]
    },
    {
      "cell_type": "markdown",
      "metadata": {
        "id": "yOX8hBk5gKrW"
      },
      "source": [
        "# 작업형2\n",
        "- 빅데이터 분석기사 3회 실기\n",
        "- 제공된 데이터\n",
        "    - train.csv\n",
        "    - test.csv\n",
        "- 예측할 컬럼 : TravelInsurance\n",
        "\n",
        "### 시험에서 제공된 코드\n",
        "~~~\n",
        "import pandas as pd\n",
        "a = pd.read_csv(\"train.csv\")\n",
        "b = pd.read_csv('test.csv')\n",
        "\n",
        "pd.DataFrame(변수).to_csv('000000000.csv')\n",
        "~~~\n",
        "\n",
        "\n",
        "### 보험가입 확률을 묻는 문제\n",
        "~~~\n",
        "# csv 형태\n",
        "# index,y_pred\n",
        "# 0,0.152467\n",
        "# 1,0.961511\n",
        "# 2,0.151313\n",
        "# 3,0.236632\n",
        "...\n",
        "# 494,0.121372\n",
        "# 495,0.965155\n",
        "# 496,0.986405\n",
        "\n",
        "~~~\n"
      ]
    },
    {
      "cell_type": "markdown",
      "metadata": {
        "id": "R9ZoHIuwayfL"
      },
      "source": [
        "## 데이터 불러오기"
      ]
    },
    {
      "cell_type": "code",
      "execution_count": 26,
      "metadata": {
        "id": "aLTgo8rZYtxs"
      },
      "outputs": [],
      "source": [
        "import pandas as pd\n",
        "train = pd.read_csv(\"train.csv\")\n",
        "test = pd.read_csv(\"test.csv\")"
      ]
    },
    {
      "cell_type": "markdown",
      "metadata": {
        "id": "-dVefrwPjPFJ"
      },
      "source": [
        "## EDA"
      ]
    },
    {
      "cell_type": "code",
      "execution_count": 27,
      "metadata": {
        "id": "PWyD54YKgo2W"
      },
      "outputs": [
        {
          "name": "stdout",
          "output_type": "stream",
          "text": [
            "(1490, 10) (497, 9)\n"
          ]
        }
      ],
      "source": [
        "# 크기 확인\n",
        "print(train.shape, test.shape)"
      ]
    },
    {
      "cell_type": "code",
      "execution_count": 28,
      "metadata": {
        "id": "e8nOHgTbULpH"
      },
      "outputs": [
        {
          "name": "stdout",
          "output_type": "stream",
          "text": [
            "   Unnamed: 0  Age               Employment Type GraduateOrNot  AnnualIncome  \\\n",
            "0         888   28  Private Sector/Self Employed           Yes       1250000   \n",
            "1        1308   31  Private Sector/Self Employed           Yes       1250000   \n",
            "2         151   29  Private Sector/Self Employed           Yes       1200000   \n",
            "3         396   33             Government Sector           Yes        650000   \n",
            "4         135   28  Private Sector/Self Employed           Yes        800000   \n",
            "\n",
            "   FamilyMembers  ChronicDiseases FrequentFlyer EverTravelledAbroad  \\\n",
            "0              6                1            No                  No   \n",
            "1              7                1            No                  No   \n",
            "2              7                0            No                  No   \n",
            "3              6                1            No                  No   \n",
            "4              6                0            No                 Yes   \n",
            "\n",
            "   TravelInsurance  \n",
            "0                0  \n",
            "1                0  \n",
            "2                1  \n",
            "3                1  \n",
            "4                1  \n"
          ]
        }
      ],
      "source": [
        "# 샘플 확인\n",
        "print(train.head())"
      ]
    },
    {
      "cell_type": "code",
      "execution_count": 29,
      "metadata": {
        "id": "_ds65WrHhuL0"
      },
      "outputs": [
        {
          "name": "stdout",
          "output_type": "stream",
          "text": [
            "<class 'pandas.core.frame.DataFrame'>\n",
            "RangeIndex: 1490 entries, 0 to 1489\n",
            "Data columns (total 10 columns):\n",
            " #   Column               Non-Null Count  Dtype \n",
            "---  ------               --------------  ----- \n",
            " 0   Unnamed: 0           1490 non-null   int64 \n",
            " 1   Age                  1490 non-null   int64 \n",
            " 2   Employment Type      1490 non-null   object\n",
            " 3   GraduateOrNot        1490 non-null   object\n",
            " 4   AnnualIncome         1490 non-null   int64 \n",
            " 5   FamilyMembers        1490 non-null   int64 \n",
            " 6   ChronicDiseases      1490 non-null   int64 \n",
            " 7   FrequentFlyer        1490 non-null   object\n",
            " 8   EverTravelledAbroad  1490 non-null   object\n",
            " 9   TravelInsurance      1490 non-null   int64 \n",
            "dtypes: int64(6), object(4)\n",
            "memory usage: 116.5+ KB\n"
          ]
        }
      ],
      "source": [
        "# 타입 확인\n",
        "train.info()"
      ]
    },
    {
      "cell_type": "code",
      "execution_count": 30,
      "metadata": {
        "id": "A1b58WRMhwcv"
      },
      "outputs": [
        {
          "data": {
            "text/plain": [
              "Unnamed: 0             0\n",
              "Age                    0\n",
              "Employment Type        0\n",
              "GraduateOrNot          0\n",
              "AnnualIncome           0\n",
              "FamilyMembers          0\n",
              "ChronicDiseases        0\n",
              "FrequentFlyer          0\n",
              "EverTravelledAbroad    0\n",
              "TravelInsurance        0\n",
              "dtype: int64"
            ]
          },
          "execution_count": 30,
          "metadata": {},
          "output_type": "execute_result"
        }
      ],
      "source": [
        "# 결측치 확인 train\n",
        "train.isnull().sum()"
      ]
    },
    {
      "cell_type": "code",
      "execution_count": 31,
      "metadata": {
        "id": "AqBK3RjVjdML"
      },
      "outputs": [
        {
          "data": {
            "text/plain": [
              "Unnamed: 0             0\n",
              "Age                    0\n",
              "Employment Type        0\n",
              "GraduateOrNot          0\n",
              "AnnualIncome           0\n",
              "FamilyMembers          0\n",
              "ChronicDiseases        0\n",
              "FrequentFlyer          0\n",
              "EverTravelledAbroad    0\n",
              "dtype: int64"
            ]
          },
          "execution_count": 31,
          "metadata": {},
          "output_type": "execute_result"
        }
      ],
      "source": [
        "# 결측치 확인 test\n",
        "test.isnull().sum()"
      ]
    },
    {
      "cell_type": "code",
      "execution_count": 32,
      "metadata": {
        "id": "f_NXrYdojgAa"
      },
      "outputs": [
        {
          "data": {
            "text/html": [
              "<div>\n",
              "<style scoped>\n",
              "    .dataframe tbody tr th:only-of-type {\n",
              "        vertical-align: middle;\n",
              "    }\n",
              "\n",
              "    .dataframe tbody tr th {\n",
              "        vertical-align: top;\n",
              "    }\n",
              "\n",
              "    .dataframe thead th {\n",
              "        text-align: right;\n",
              "    }\n",
              "</style>\n",
              "<table border=\"1\" class=\"dataframe\">\n",
              "  <thead>\n",
              "    <tr style=\"text-align: right;\">\n",
              "      <th></th>\n",
              "      <th>Unnamed: 0</th>\n",
              "      <th>Age</th>\n",
              "      <th>AnnualIncome</th>\n",
              "      <th>FamilyMembers</th>\n",
              "      <th>ChronicDiseases</th>\n",
              "      <th>TravelInsurance</th>\n",
              "    </tr>\n",
              "  </thead>\n",
              "  <tbody>\n",
              "    <tr>\n",
              "      <th>count</th>\n",
              "      <td>1490.000000</td>\n",
              "      <td>1490.000000</td>\n",
              "      <td>1.490000e+03</td>\n",
              "      <td>1490.000000</td>\n",
              "      <td>1490.000000</td>\n",
              "      <td>1490.000000</td>\n",
              "    </tr>\n",
              "    <tr>\n",
              "      <th>mean</th>\n",
              "      <td>992.277181</td>\n",
              "      <td>29.600000</td>\n",
              "      <td>9.310738e+05</td>\n",
              "      <td>4.755705</td>\n",
              "      <td>0.280537</td>\n",
              "      <td>0.352349</td>\n",
              "    </tr>\n",
              "    <tr>\n",
              "      <th>std</th>\n",
              "      <td>566.637006</td>\n",
              "      <td>2.887829</td>\n",
              "      <td>3.763057e+05</td>\n",
              "      <td>1.603613</td>\n",
              "      <td>0.449412</td>\n",
              "      <td>0.477862</td>\n",
              "    </tr>\n",
              "    <tr>\n",
              "      <th>min</th>\n",
              "      <td>0.000000</td>\n",
              "      <td>25.000000</td>\n",
              "      <td>3.000000e+05</td>\n",
              "      <td>2.000000</td>\n",
              "      <td>0.000000</td>\n",
              "      <td>0.000000</td>\n",
              "    </tr>\n",
              "    <tr>\n",
              "      <th>25%</th>\n",
              "      <td>502.250000</td>\n",
              "      <td>28.000000</td>\n",
              "      <td>6.000000e+05</td>\n",
              "      <td>4.000000</td>\n",
              "      <td>0.000000</td>\n",
              "      <td>0.000000</td>\n",
              "    </tr>\n",
              "    <tr>\n",
              "      <th>50%</th>\n",
              "      <td>994.500000</td>\n",
              "      <td>29.000000</td>\n",
              "      <td>9.000000e+05</td>\n",
              "      <td>5.000000</td>\n",
              "      <td>0.000000</td>\n",
              "      <td>0.000000</td>\n",
              "    </tr>\n",
              "    <tr>\n",
              "      <th>75%</th>\n",
              "      <td>1479.750000</td>\n",
              "      <td>32.000000</td>\n",
              "      <td>1.250000e+06</td>\n",
              "      <td>6.000000</td>\n",
              "      <td>1.000000</td>\n",
              "      <td>1.000000</td>\n",
              "    </tr>\n",
              "    <tr>\n",
              "      <th>max</th>\n",
              "      <td>1983.000000</td>\n",
              "      <td>35.000000</td>\n",
              "      <td>1.800000e+06</td>\n",
              "      <td>9.000000</td>\n",
              "      <td>1.000000</td>\n",
              "      <td>1.000000</td>\n",
              "    </tr>\n",
              "  </tbody>\n",
              "</table>\n",
              "</div>"
            ],
            "text/plain": [
              "        Unnamed: 0          Age  AnnualIncome  FamilyMembers  ChronicDiseases  \\\n",
              "count  1490.000000  1490.000000  1.490000e+03    1490.000000      1490.000000   \n",
              "mean    992.277181    29.600000  9.310738e+05       4.755705         0.280537   \n",
              "std     566.637006     2.887829  3.763057e+05       1.603613         0.449412   \n",
              "min       0.000000    25.000000  3.000000e+05       2.000000         0.000000   \n",
              "25%     502.250000    28.000000  6.000000e+05       4.000000         0.000000   \n",
              "50%     994.500000    29.000000  9.000000e+05       5.000000         0.000000   \n",
              "75%    1479.750000    32.000000  1.250000e+06       6.000000         1.000000   \n",
              "max    1983.000000    35.000000  1.800000e+06       9.000000         1.000000   \n",
              "\n",
              "       TravelInsurance  \n",
              "count      1490.000000  \n",
              "mean          0.352349  \n",
              "std           0.477862  \n",
              "min           0.000000  \n",
              "25%           0.000000  \n",
              "50%           0.000000  \n",
              "75%           1.000000  \n",
              "max           1.000000  "
            ]
          },
          "execution_count": 32,
          "metadata": {},
          "output_type": "execute_result"
        }
      ],
      "source": [
        "# 기초 통계 획인\n",
        "train.describe()"
      ]
    },
    {
      "cell_type": "code",
      "execution_count": 33,
      "metadata": {
        "id": "MHCAKNAEjqGq"
      },
      "outputs": [],
      "source": [
        "# 기초 통계 획인 object\n"
      ]
    },
    {
      "cell_type": "code",
      "execution_count": 34,
      "metadata": {
        "id": "2kppEcMPjVAE"
      },
      "outputs": [],
      "source": [
        "# 타겟(레이블)\n"
      ]
    },
    {
      "cell_type": "markdown",
      "metadata": {
        "id": "KnNu9bH3kJfD"
      },
      "source": [
        "## 데이터 전처리 및 피처엔지니어링"
      ]
    },
    {
      "cell_type": "code",
      "execution_count": 35,
      "metadata": {
        "id": "JAglZ4dipalH"
      },
      "outputs": [],
      "source": [
        "# 수치형 데이터와 범주형 데이터 분리\n"
      ]
    },
    {
      "cell_type": "code",
      "execution_count": 36,
      "metadata": {
        "id": "Q5n67S9isN2r"
      },
      "outputs": [],
      "source": [
        "# 수치형 변수 스케일링\n",
        "train_target = train.pop('TravelInsurance')\n",
        "train = pd.get_dummies(train)\n",
        "test = pd.get_dummies(test)"
      ]
    },
    {
      "cell_type": "code",
      "execution_count": 37,
      "metadata": {
        "id": "58MMwhWvWK6m"
      },
      "outputs": [],
      "source": [
        "# 범주형 변수 인코딩\n"
      ]
    },
    {
      "cell_type": "code",
      "execution_count": 38,
      "metadata": {
        "id": "4u8sKvxvWK9C"
      },
      "outputs": [],
      "source": [
        "# 분리한 데이터 다시 합침\n"
      ]
    },
    {
      "cell_type": "markdown",
      "metadata": {
        "id": "6xji7dInWPIt"
      },
      "source": [
        "## 검증데이터 분리"
      ]
    },
    {
      "cell_type": "code",
      "execution_count": 39,
      "metadata": {
        "id": "5Tm50rN8WLCC"
      },
      "outputs": [],
      "source": [
        "# 검증데이터 분리\n",
        "from sklearn.model_selection import train_test_split\n",
        "X_tr, X_val, y_tr, y_val = train_test_split(train, train_target, test_size=0.2, random_state=2024)"
      ]
    },
    {
      "cell_type": "markdown",
      "metadata": {
        "id": "LyQpOqabwezg"
      },
      "source": [
        "## 모델 학습 및 예측"
      ]
    },
    {
      "cell_type": "code",
      "execution_count": 40,
      "metadata": {
        "id": "CCcKbm3YWRqq"
      },
      "outputs": [
        {
          "name": "stdout",
          "output_type": "stream",
          "text": [
            "[0.45 0.04 0.06 0.07 0.13 0.4  0.85 0.03 0.02 0.98 0.97 0.7  0.19 0.99\n",
            " 0.07 0.08 0.99 0.01 0.99 0.5  0.19 0.   0.56 0.26 0.05 0.63 0.09 0.14\n",
            " 0.46 0.01 0.   0.49 0.82 0.54 0.06 0.06 0.01 0.85 0.06 0.82 0.96 0.99\n",
            " 0.52 0.07 0.5  0.19 0.05 0.82 0.11 0.52 0.02 0.9  0.02 0.83 0.1  0.12\n",
            " 0.09 0.   0.29 0.14 0.07 0.22 0.19 0.14 0.82 0.22 0.26 0.52 0.59 0.1\n",
            " 0.47 0.99 1.   0.01 1.   0.03 0.06 0.07 0.16 0.24 0.03 0.11 0.08 0.52\n",
            " 0.27 0.02 0.83 1.   0.03 0.99 0.5  0.76 0.61 0.49 0.25 0.31 0.46 0.06\n",
            " 0.54 0.06 0.87 0.4  0.64 0.14 0.15 0.04 0.08 0.11 0.79 0.15 0.57 0.99\n",
            " 0.3  0.91 0.09 0.01 0.44 0.23 0.23 0.05 0.99 0.19 0.05 0.18 0.49 0.18\n",
            " 0.1  0.32 0.06 0.99 0.75 0.3  0.14 0.2  0.29 0.01 0.95 0.89 0.1  0.08\n",
            " 0.01 0.25 0.13 0.39 0.29 0.12 0.21 0.41 0.03 0.2  0.88 0.16 0.47 0.85\n",
            " 0.16 0.16 0.04 0.82 0.17 0.54 0.41 0.5  0.14 0.33 0.04 0.11 0.22 0.05\n",
            " 0.   0.3  0.22 0.88 0.12 0.32 0.09 0.21 0.73 0.69 0.99 0.24 0.09 0.07\n",
            " 0.13 0.05 0.22 0.08 0.11 0.25 0.36 0.25 0.09 0.06 0.15 0.33 0.52 0.18\n",
            " 0.05 0.75 0.15 0.13 0.97 0.96 0.99 0.24 0.43 0.14 0.62 0.12 0.23 0.24\n",
            " 0.96 0.01 0.51 0.06 0.07 0.2  0.19 0.02 0.25 0.2  0.05 0.13 0.94 0.\n",
            " 0.74 0.87 0.53 0.18 0.25 0.97 0.81 0.58 0.11 0.01 0.14 0.5  0.51 0.23\n",
            " 0.06 0.14 0.09 0.22 0.81 0.01 0.78 0.11 0.11 0.09 0.01 0.07 0.   0.05\n",
            " 0.11 0.06 0.16 0.22 0.05 0.61 0.93 0.11 0.28 0.78 0.24 0.07 0.48 0.87\n",
            " 0.97 0.28 0.   0.39 0.18 0.16 0.9  0.09 0.83 0.83 0.08 0.02 0.24 0.85\n",
            " 0.1  0.07 0.55 0.98 0.04 0.2  0.07 0.82 0.09 0.17 0.32 0.1  0.08 0.\n",
            " 0.03 0.31 0.   0.1 ]\n"
          ]
        }
      ],
      "source": [
        "# 랜덤포레스트\n",
        "\n",
        "from sklearn.ensemble import RandomForestClassifier\n",
        "rf = RandomForestClassifier()\n",
        "model = rf.fit(X_tr, y_tr)\n",
        "pred = model.predict_proba(X_val)\n",
        "print(pred[:,-1])"
      ]
    },
    {
      "cell_type": "code",
      "execution_count": 51,
      "metadata": {
        "id": "eRtHFtY3WRvD"
      },
      "outputs": [
        {
          "data": {
            "text/plain": [
              "0.7543961073372838"
            ]
          },
          "execution_count": 51,
          "metadata": {},
          "output_type": "execute_result"
        }
      ],
      "source": [
        "# 평가\n",
        "from sklearn.metrics import roc_auc_score\n",
        "roc_auc_score(y_val, pred[:,1])"
      ]
    },
    {
      "cell_type": "markdown",
      "metadata": {
        "id": "uzcaytQFWbEg"
      },
      "source": [
        "## 예측"
      ]
    },
    {
      "cell_type": "code",
      "execution_count": 55,
      "metadata": {
        "id": "3cdDgmw4Wh9e"
      },
      "outputs": [
        {
          "name": "stdout",
          "output_type": "stream",
          "text": [
            "[0.11 0.12 0.09 1.   0.06 0.99 0.34 0.09 0.7  0.02 0.03 0.05 0.25 0.13\n",
            " 0.9  0.09 0.21 0.16 0.24 0.42 0.22 0.   0.98 0.92 0.02 0.99 0.97 0.1\n",
            " 0.94 0.98 0.16 0.33 0.1  0.35 0.08 0.86 0.08 0.09 1.   0.04 0.01 0.\n",
            " 0.13 0.07 0.96 0.1  0.99 0.14 0.03 0.06 0.02 0.13 0.49 0.46 0.19 0.04\n",
            " 0.22 0.76 0.51 0.79 0.23 0.72 0.03 0.54 0.07 0.16 0.74 0.88 0.96 0.04\n",
            " 0.28 0.18 0.03 1.   0.25 0.03 0.15 0.9  0.93 0.14 0.03 0.94 0.33 0.07\n",
            " 0.   0.25 0.08 0.05 0.86 0.2  0.07 0.27 0.34 0.35 0.99 0.27 0.97 0.05\n",
            " 0.43 0.13 0.35 0.1  1.   0.24 0.13 0.1  0.19 0.95 0.98 0.12 0.25 0.4\n",
            " 0.05 0.82 0.99 0.02 0.2  0.07 0.45 0.57 0.13 0.95 0.17 0.05 0.1  0.95\n",
            " 0.69 0.   0.07 0.1  0.37 0.34 0.15 0.05 0.38 0.1  0.1  0.14 0.13 1.\n",
            " 0.06 0.08 0.83 0.56 0.1  0.14 0.37 0.06 0.07 0.01 0.02 0.24 0.61 0.97\n",
            " 0.86 0.26 0.55 0.99 0.97 0.33 0.09 0.   1.   0.05 0.06 0.21 0.45 0.\n",
            " 0.02 0.1  0.08 0.98 0.06 0.34 0.17 0.01 0.26 0.13 0.63 0.05 0.15 0.98\n",
            " 0.59 0.05 0.1  0.19 0.08 0.8  0.56 0.08 0.3  0.88 0.02 0.88 0.15 0.31\n",
            " 0.05 0.01 0.97 0.05 0.24 0.92 0.03 0.14 0.05 0.19 0.04 0.13 0.08 0.13\n",
            " 0.05 0.19 0.29 0.01 0.98 0.17 0.   0.07 0.11 0.19 0.91 0.42 0.18 0.32\n",
            " 0.29 0.21 0.21 0.29 0.26 0.14 0.27 0.29 0.14 0.36 0.13 0.16 0.02 0.96\n",
            " 0.14 0.87 0.21 0.98 0.86 0.07 0.6  0.23 0.14 0.05 0.04 0.08 0.13 0.1\n",
            " 0.05 0.25 0.03 0.11 0.06 0.95 0.68 0.89 0.04 0.03 0.03 0.34 0.5  0.3\n",
            " 0.03 0.24 0.05 0.51 0.06 0.26 0.86 0.29 0.15 0.79 0.07 0.87 0.26 0.08\n",
            " 0.03 0.37 0.85 0.11 0.3  0.93 0.41 0.22 0.34 0.19 0.07 0.06 0.02 0.08\n",
            " 0.13 0.   0.22 0.04 0.07 0.01 0.53 0.14 0.06 0.04 0.3  0.09 0.47 0.04\n",
            " 0.03 0.96 0.33 0.97 0.   0.33 0.77 0.28 0.1  0.36 0.04 0.12 0.14 0.21\n",
            " 0.94 0.08 0.09 0.04 0.12 0.03 0.06 0.93 0.25 0.01 0.2  0.02 0.84 0.06\n",
            " 0.61 0.   0.1  0.09 0.26 0.09 0.28 0.39 0.57 0.55 0.2  0.32 0.19 0.16\n",
            " 1.   0.27 0.24 1.   0.79 0.35 1.   0.66 0.16 0.52 0.24 0.92 0.59 0.62\n",
            " 0.05 0.21 0.14 0.51 0.02 0.97 0.17 0.13 0.36 0.22 0.29 0.42 0.4  0.1\n",
            " 0.27 0.98 0.84 0.9  0.13 0.1  0.51 0.17 0.12 0.23 0.48 0.25 0.29 0.36\n",
            " 0.47 0.18 0.13 0.44 0.11 0.02 0.33 0.98 0.13 1.   0.99 0.64 0.12 0.78\n",
            " 0.06 0.11 0.98 0.08 0.31 0.99 0.03 1.   0.14 0.8  0.25 0.01 0.94 0.87\n",
            " 0.16 0.12 0.79 0.85 0.13 0.19 0.13 0.09 0.99 0.06 0.08 0.31 0.95 0.2\n",
            " 0.04 0.98 0.   0.91 0.11 0.12 0.03 0.93 0.01 0.54 0.07 0.92 0.08 0.12\n",
            " 0.08 0.5  0.69 0.37 0.03 0.06 0.98 0.04 0.07 0.96 0.   0.21 0.04 0.34\n",
            " 0.95 0.88 0.01 0.06 0.89 0.85 0.6  0.27 0.46 0.11 0.25 0.03 1.   0.14\n",
            " 0.21 0.58 0.88 0.13 0.89 0.22 0.11 0.1  0.82 0.57 0.18 0.01 0.13 0.87\n",
            " 0.47 0.03 0.1  0.94 0.09 0.99 1.  ]\n"
          ]
        }
      ],
      "source": [
        "# test 예측\n",
        "pred = model.predict_proba(test)\n",
        "print(pred[:,1])"
      ]
    },
    {
      "cell_type": "code",
      "execution_count": 56,
      "metadata": {
        "id": "J_wOL-yWWYu9"
      },
      "outputs": [],
      "source": [
        "# csv 파일1 생성 (예시와 다른 형태)\n",
        "df = pd.DataFrame({\n",
        "    'y_pred': pred[:,1]\n",
        "})\n",
        "df.to_csv('result.csv')"
      ]
    },
    {
      "cell_type": "code",
      "execution_count": 44,
      "metadata": {
        "id": "1QLrPD6iWYxc"
      },
      "outputs": [],
      "source": [
        "# csv 파일2 생성\n"
      ]
    },
    {
      "cell_type": "code",
      "execution_count": 45,
      "metadata": {
        "id": "e_E1YQSjWmvD"
      },
      "outputs": [],
      "source": [
        "# csv 파일1 확인\n"
      ]
    },
    {
      "cell_type": "code",
      "execution_count": 46,
      "metadata": {
        "id": "zWqTvd9OWmxw"
      },
      "outputs": [],
      "source": [
        "# csv 파일2 확인\n"
      ]
    },
    {
      "cell_type": "markdown",
      "metadata": {
        "id": "9-zAKxt2uzFa"
      },
      "source": [
        "## 체점\n",
        "- 수험자는 알 수 없는 부분임"
      ]
    },
    {
      "cell_type": "code",
      "execution_count": 47,
      "metadata": {
        "id": "ofAnKoNVu0At"
      },
      "outputs": [],
      "source": [
        "# y_test = pd.read_csv(\"y_test.csv\")\n",
        "# roc_auc_score(y_test, pred)"
      ]
    },
    {
      "cell_type": "code",
      "execution_count": 48,
      "metadata": {
        "id": "r-L5ToHOvqWX"
      },
      "outputs": [],
      "source": [
        "# 당신의 score는?: 0.7875693000693"
      ]
    }
  ],
  "metadata": {
    "colab": {
      "include_colab_link": true,
      "provenance": []
    },
    "kernelspec": {
      "display_name": "Python 3",
      "name": "python3"
    },
    "language_info": {
      "codemirror_mode": {
        "name": "ipython",
        "version": 3
      },
      "file_extension": ".py",
      "mimetype": "text/x-python",
      "name": "python",
      "nbconvert_exporter": "python",
      "pygments_lexer": "ipython3",
      "version": "3.12.3"
    }
  },
  "nbformat": 4,
  "nbformat_minor": 0
}
