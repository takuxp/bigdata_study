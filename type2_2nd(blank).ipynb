{
  "nbformat": 4,
  "nbformat_minor": 0,
  "metadata": {
    "colab": {
      "provenance": [],
      "include_colab_link": true
    },
    "kernelspec": {
      "name": "python3",
      "display_name": "Python 3"
    },
    "language_info": {
      "name": "python"
    }
  },
  "cells": [
    {
      "cell_type": "markdown",
      "metadata": {
        "id": "view-in-github",
        "colab_type": "text"
      },
      "source": [
        "<a href=\"https://colab.research.google.com/github/takuxp/bigdata_study/blob/main/type2_2nd(blank).ipynb\" target=\"_parent\"><img src=\"https://colab.research.google.com/assets/colab-badge.svg\" alt=\"Open In Colab\"/></a>"
      ]
    },
    {
      "cell_type": "markdown",
      "source": [
        "# 작업형2\n",
        "- 빅데이터 분석기사 2회 실기\n",
        "- 데이터 다운로드 : https://www.kaggle.com/prachi13/customer-analytics\n",
        "- 데이터 파일 명 : Train.csv (파일명이 다를 경우 파일명을 수정해주세요)\n",
        "- (데이터가 삭제될 시 수업노트에 유사 데이터 셋을 올려두겠습니다)\n",
        "\n",
        "\n",
        "## 제품 배송 시간에 맞춰 배송되었는지 예측모델 만들기\n",
        "- 제공된 데이터\n",
        "    - X_train.csv\n",
        "    - y_train.csv\n",
        "    - X_test.csv\n",
        "\n",
        "- 학습용 데이터 (X_train, y_train)을 이용하여 배송 예측 모형을 만든 후, 이를 평가용 데이터(X_test)에 적용하여 얻은 예측(시간에 맞춰 도착하지 않을 확률)값을 다음과 같은 형식의 CSV파일로 생성하시오(제출한 모델의 성능은 ROC-AUC 평가지표에 따라 채점)\n",
        "- 0 정시 도착, 1 정시 도착하지 않음\n",
        "\n",
        "```\n",
        "ID,Reached.on.Time_Y.N\n",
        "3500,0.267\n",
        "3501,0.578\n",
        "3502,0.123\n",
        "\n",
        "```\n",
        "\n",
        "- 출력을 원하실 경우 print() 함수 활용\n",
        "- 예시) print(df.head())\n",
        "- getcwd(), chdir() 등 작업 폴더 설정 불필요\n",
        "- 파일 경로 상 내부 드라이브 경로(C: 등) 접근 불가\n",
        "\n",
        "- 데이터 파일 읽기 예제\n",
        "\n",
        "```\n",
        "# 데이터 불러오기\n",
        "import pandas as pd\n",
        "X_test = pd.read_csv(\"data/X_test.csv\")\n",
        "X_train = pd.read_csv(\"data/X_train.csv\")\n",
        "y_train = pd.read_csv(\"data/y_train.csv\")\n",
        "```\n",
        "\n",
        "- csv파일 생성 예시\n",
        "\n",
        "```\n",
        "pd.DataFrame({'ID': X_test['cust_id'], 'Reached.on.Time_Y.N': pred}).to_csv('003000000.csv', index=False)\n",
        "```\n"
      ],
      "metadata": {
        "id": "yOX8hBk5gKrW"
      }
    },
    {
      "cell_type": "code",
      "source": [
        "# 시험환경 세팅 3개 파일 생성 (코드 변경 X)\n",
        "import pandas as pd\n",
        "import numpy as np\n",
        "from sklearn.model_selection import train_test_split\n",
        "\n",
        "def exam_data_load(df, target, id_name=\"\", null_name=\"\"):\n",
        "    if id_name == \"\":\n",
        "        df = df.reset_index().rename(columns={\"index\": \"id\"})\n",
        "        id_name = 'id'\n",
        "    else:\n",
        "        id_name = id_name\n",
        "\n",
        "    if null_name != \"\":\n",
        "        df[df == null_name] = np.nan\n",
        "\n",
        "    X_train, X_test = train_test_split(df, test_size=0.2, random_state=2022)\n",
        "    y_train = X_train[[id_name, target]]\n",
        "    X_train = X_train.drop(columns=[target])\n",
        "\n",
        "    y_test = X_test[[id_name, target]]\n",
        "    X_test = X_test.drop(columns=[target])\n",
        "    return X_train, X_test, y_train, y_test\n",
        "\n",
        "df = pd.read_csv(\"Train.csv\") # 파일명이 다를 경우 파일명을 수정해주세요\n",
        "X_train, X_test, y_train, y_test = exam_data_load(df, target='Reached.on.Time_Y.N', id_name='ID')\n",
        "X_train.to_csv(\"X_train.csv\", index=False)\n",
        "y_train.to_csv(\"y_train.csv\", index=False)\n",
        "X_test.to_csv(\"X_test.csv\", index=False)"
      ],
      "metadata": {
        "id": "hyw3NhLlgN0f"
      },
      "execution_count": null,
      "outputs": []
    },
    {
      "cell_type": "code",
      "source": [
        "# 데이터 불러오기\n",
        "import pandas as pd\n",
        "X_test = pd.read_csv(\"X_test.csv\")\n",
        "X_train = pd.read_csv(\"X_train.csv\")\n",
        "y_train = pd.read_csv(\"y_train.csv\")\n",
        "\n",
        "X_train.shape, y_train.shape, X_test.shape"
      ],
      "metadata": {
        "id": "hZ0y7BQRXkyK"
      },
      "execution_count": null,
      "outputs": []
    },
    {
      "cell_type": "markdown",
      "source": [
        "## EDA"
      ],
      "metadata": {
        "id": "-dVefrwPjPFJ"
      }
    },
    {
      "cell_type": "code",
      "source": [
        "# 데이터 확인(X_train)\n"
      ],
      "metadata": {
        "id": "PWyD54YKgo2W"
      },
      "execution_count": null,
      "outputs": []
    },
    {
      "cell_type": "code",
      "source": [
        "# 데이터 확인(y_train)\n"
      ],
      "metadata": {
        "id": "_ds65WrHhuL0"
      },
      "execution_count": null,
      "outputs": []
    },
    {
      "cell_type": "code",
      "source": [
        "# 결측치 확인 train\n"
      ],
      "metadata": {
        "id": "A1b58WRMhwcv"
      },
      "execution_count": null,
      "outputs": []
    },
    {
      "cell_type": "code",
      "source": [
        "# 결측치 확인 test\n"
      ],
      "metadata": {
        "id": "AqBK3RjVjdML"
      },
      "execution_count": null,
      "outputs": []
    },
    {
      "cell_type": "code",
      "source": [
        "# 타겟(레이블) 확인 0 정시 도착, 1 정시 도착하지 않음\n"
      ],
      "metadata": {
        "id": "2kppEcMPjVAE"
      },
      "execution_count": null,
      "outputs": []
    },
    {
      "cell_type": "code",
      "source": [
        "# 데이터 타입 확인\n"
      ],
      "metadata": {
        "id": "f_NXrYdojgAa"
      },
      "execution_count": null,
      "outputs": []
    },
    {
      "cell_type": "code",
      "source": [
        "# 기초 통계 획인\n"
      ],
      "metadata": {
        "id": "CJXwbNUnjkFN"
      },
      "execution_count": null,
      "outputs": []
    },
    {
      "cell_type": "code",
      "source": [
        "# 기초 통계 획인 object\n"
      ],
      "metadata": {
        "id": "MHCAKNAEjqGq"
      },
      "execution_count": null,
      "outputs": []
    },
    {
      "cell_type": "code",
      "source": [
        "# 기초 통계 획인 object\n"
      ],
      "metadata": {
        "id": "kcFQ7RAuji01"
      },
      "execution_count": null,
      "outputs": []
    },
    {
      "cell_type": "code",
      "source": [
        "# [Tip] object 타입 고유값 개수 확인\n"
      ],
      "metadata": {
        "id": "L5uphwRaj078"
      },
      "execution_count": null,
      "outputs": []
    },
    {
      "cell_type": "code",
      "source": [
        "# X데이터와 y데이터 합치기\n"
      ],
      "metadata": {
        "id": "PMWd4_XhqOeY"
      },
      "execution_count": null,
      "outputs": []
    },
    {
      "cell_type": "code",
      "source": [
        "# idea? 할인율이 도착에 영향을 미칠까?\n"
      ],
      "metadata": {
        "id": "2Htd0C72qOh8"
      },
      "execution_count": null,
      "outputs": []
    },
    {
      "cell_type": "code",
      "source": [],
      "metadata": {
        "id": "RuhDVAK6qzJ4"
      },
      "execution_count": null,
      "outputs": []
    },
    {
      "cell_type": "markdown",
      "source": [
        "## 데이터 전처리 및 피처엔지니어링"
      ],
      "metadata": {
        "id": "KnNu9bH3kJfD"
      }
    },
    {
      "cell_type": "code",
      "source": [
        "# 라벨 인코딩\n"
      ],
      "metadata": {
        "id": "JAglZ4dipalH"
      },
      "execution_count": null,
      "outputs": []
    },
    {
      "cell_type": "code",
      "source": [
        "# trainID 삭제, testID 값만 옮겨둠\n"
      ],
      "metadata": {
        "id": "Q5n67S9isN2r"
      },
      "execution_count": null,
      "outputs": []
    },
    {
      "cell_type": "markdown",
      "source": [
        "## 모델 및 평가"
      ],
      "metadata": {
        "id": "5qWDuz3CsL24"
      }
    },
    {
      "cell_type": "code",
      "source": [
        "# 라이브러리 불러오기\n"
      ],
      "metadata": {
        "id": "AHu9_mappmAR"
      },
      "execution_count": null,
      "outputs": []
    },
    {
      "cell_type": "code",
      "source": [
        "# 검증 데이터 분리\n"
      ],
      "metadata": {
        "id": "TVwkW7ieshgh"
      },
      "execution_count": null,
      "outputs": []
    },
    {
      "cell_type": "code",
      "source": [
        "# 로지스틱 회귀\n"
      ],
      "metadata": {
        "id": "LKr8enMmshix"
      },
      "execution_count": null,
      "outputs": []
    },
    {
      "cell_type": "code",
      "source": [
        "# 의사결정나무\n"
      ],
      "metadata": {
        "id": "57TlpkCCtxzf"
      },
      "execution_count": null,
      "outputs": []
    },
    {
      "cell_type": "code",
      "source": [
        "# 랜덤포레스트\n"
      ],
      "metadata": {
        "id": "ltqmZffYt0KN"
      },
      "execution_count": null,
      "outputs": []
    },
    {
      "cell_type": "code",
      "source": [
        "# XGBOOST\n"
      ],
      "metadata": {
        "id": "9t-aywy_t6U2"
      },
      "execution_count": null,
      "outputs": []
    },
    {
      "cell_type": "markdown",
      "source": [
        "## 예측 및 제출"
      ],
      "metadata": {
        "id": "kmKX6ciHuqeG"
      }
    },
    {
      "cell_type": "code",
      "source": [
        "# 예측\n"
      ],
      "metadata": {
        "id": "zOcAH8FzurjJ"
      },
      "execution_count": null,
      "outputs": []
    },
    {
      "cell_type": "code",
      "source": [
        "# 데이터프레임 만들기\n"
      ],
      "metadata": {
        "id": "DEksB9kUuyRX"
      },
      "execution_count": null,
      "outputs": []
    },
    {
      "cell_type": "code",
      "source": [
        "# 데이터 확인\n"
      ],
      "metadata": {
        "id": "xdzs-Go0vAhu"
      },
      "execution_count": null,
      "outputs": []
    },
    {
      "cell_type": "code",
      "source": [
        "# CSV파일 만들기\n"
      ],
      "metadata": {
        "id": "p_a6WSnLvEmn"
      },
      "execution_count": null,
      "outputs": []
    },
    {
      "cell_type": "markdown",
      "source": [
        "##  제대로 제출 되었는지 확인"
      ],
      "metadata": {
        "id": "ldW0N_MBvMfp"
      }
    },
    {
      "cell_type": "code",
      "source": [],
      "metadata": {
        "id": "bB-4P_EfvOlD"
      },
      "execution_count": null,
      "outputs": []
    },
    {
      "cell_type": "markdown",
      "source": [
        "## 체점\n",
        "- 수험자는 알 수 없는 부분임"
      ],
      "metadata": {
        "id": "9-zAKxt2uzFa"
      }
    },
    {
      "cell_type": "code",
      "source": [
        "# you = pd.read_csv(\"수험번호.csv\")\n",
        "# print(\"당신의 score는?:\",roc_auc_score(y_test['Reached.on.Time_Y.N'], you['Reached.on.Time_Y.N']))"
      ],
      "metadata": {
        "id": "ofAnKoNVu0At"
      },
      "execution_count": null,
      "outputs": []
    },
    {
      "cell_type": "code",
      "source": [
        "# 당신의 score는?: 0.7396611568179091"
      ],
      "metadata": {
        "id": "r-L5ToHOvqWX"
      },
      "execution_count": null,
      "outputs": []
    },
    {
      "cell_type": "code",
      "source": [],
      "metadata": {
        "id": "UDfrJpnBx5ww"
      },
      "execution_count": null,
      "outputs": []
    }
  ]
}