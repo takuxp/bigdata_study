{
  "nbformat": 4,
  "nbformat_minor": 0,
  "metadata": {
    "colab": {
      "provenance": [],
      "include_colab_link": true
    },
    "kernelspec": {
      "name": "python3",
      "display_name": "Python 3"
    },
    "language_info": {
      "name": "python"
    }
  },
  "cells": [
    {
      "cell_type": "markdown",
      "metadata": {
        "id": "view-in-github",
        "colab_type": "text"
      },
      "source": [
        "<a href=\"https://colab.research.google.com/github/takuxp/bigdata_study/blob/main/6%ED%9A%8C_%EA%B8%B0%EC%B6%9C_%EC%9C%A0%ED%98%95(%EC%9E%91%EC%97%85%ED%98%952)_%EB%AC%B8%EC%A0%9C.ipynb\" target=\"_parent\"><img src=\"https://colab.research.google.com/assets/colab-badge.svg\" alt=\"Open In Colab\"/></a>"
      ]
    },
    {
      "cell_type": "markdown",
      "source": [
        "## 다중 분류 문제\n",
        "- 난방 부하 단계를 예측해주세요!\n",
        "\n",
        "- 예측할 값(y): Heat_Load (Very Low, Low, Medium, High, Very High)\n",
        "- 평가: f1-macro\n",
        "- data: train.csv, test.csv\n",
        "- 제출 형식: result.csv파일을 아래와 같은 형식으로 제출\n",
        "~~~\n",
        "pred\n",
        "Very Low\n",
        "Low\n",
        "High\n",
        "...\n",
        "Very High\n",
        "~~~\n",
        "\n",
        "### 답안 제출 참고\n",
        "- pd.read_csv('result.csv') 로 제출 코드 확인"
      ],
      "metadata": {
        "id": "JiFc-11Gk38n"
      }
    },
    {
      "cell_type": "code",
      "source": [],
      "metadata": {
        "id": "DO-sHoMUL7mN"
      },
      "execution_count": null,
      "outputs": []
    },
    {
      "cell_type": "code",
      "source": [],
      "metadata": {
        "id": "il2i1B8YnZI3"
      },
      "execution_count": null,
      "outputs": []
    },
    {
      "cell_type": "code",
      "source": [],
      "metadata": {
        "id": "_kkLqKabnZLW"
      },
      "execution_count": null,
      "outputs": []
    },
    {
      "cell_type": "code",
      "source": [],
      "metadata": {
        "id": "ZAj62-qxnZNn"
      },
      "execution_count": null,
      "outputs": []
    },
    {
      "cell_type": "code",
      "source": [],
      "metadata": {
        "id": "Rwt-0srlnZQj"
      },
      "execution_count": null,
      "outputs": []
    }
  ]
}