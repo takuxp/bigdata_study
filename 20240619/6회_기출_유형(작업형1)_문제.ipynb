{
  "cells": [
    {
      "cell_type": "markdown",
      "metadata": {
        "colab_type": "text",
        "id": "view-in-github"
      },
      "source": [
        "<a href=\"https://colab.research.google.com/github/takuxp/bigdata_study/blob/main/6%ED%9A%8C_%EA%B8%B0%EC%B6%9C_%EC%9C%A0%ED%98%95(%EC%9E%91%EC%97%85%ED%98%951)_%EB%AC%B8%EC%A0%9C.ipynb\" target=\"_parent\"><img src=\"https://colab.research.google.com/assets/colab-badge.svg\" alt=\"Open In Colab\"/></a>"
      ]
    },
    {
      "cell_type": "markdown",
      "metadata": {
        "id": "C352FXmlMvvS"
      },
      "source": [
        "1. 주어진 데이터는 각 소방서의 출동/도착 시간데이터이다.\n",
        "출동시간과 도착시간 차이가 평균적으로 가장 오래 걸린 소방서의 시간을 분으로 변환해 출력하시오. (반올림 후 정수 출력)"
      ]
    },
    {
      "cell_type": "code",
      "execution_count": 22,
      "metadata": {
        "id": "PtrSDVWgMp07"
      },
      "outputs": [],
      "source": [
        "import pandas as pd\n",
        "df = pd.read_csv(\"data6-1-1.csv\")"
      ]
    },
    {
      "cell_type": "code",
      "execution_count": 33,
      "metadata": {
        "id": "wEhXFdON2WJ6"
      },
      "outputs": [
        {
          "name": "stdout",
          "output_type": "stream",
          "text": [
            "    소방서                출동시간                도착시간            diff\n",
            "0  소방서1 2023-09-16 06:12:29 2023-09-16 07:51:55 0 days 01:39:26\n",
            "1  소방서5 2023-09-19 06:11:41 2023-09-19 08:08:36 0 days 01:56:55\n",
            "2  소방서1 2023-09-14 06:12:00 2023-09-14 07:24:21 0 days 01:12:21\n",
            "3  소방서6 2023-09-20 06:12:24 2023-09-20 06:30:45 0 days 00:18:21\n",
            "4  소방서9 2023-09-15 06:11:50 2023-09-15 06:44:00 0 days 00:32:10\n",
            "<class 'pandas.core.frame.DataFrame'>\n",
            "RangeIndex: 100 entries, 0 to 99\n",
            "Data columns (total 4 columns):\n",
            " #   Column  Non-Null Count  Dtype          \n",
            "---  ------  --------------  -----          \n",
            " 0   소방서     100 non-null    object         \n",
            " 1   출동시간    100 non-null    datetime64[ns] \n",
            " 2   도착시간    100 non-null    datetime64[ns] \n",
            " 3   diff    100 non-null    timedelta64[ns]\n",
            "dtypes: datetime64[ns](2), object(1), timedelta64[ns](1)\n",
            "memory usage: 3.3+ KB\n",
            "None\n"
          ]
        }
      ],
      "source": [
        "print(df.head())\n",
        "print(df.info())\n",
        "df['출동시간'] = pd.to_datetime(df['출동시간'])\n",
        "df['도착시간'] = pd.to_datetime(df['도착시간'])"
      ]
    },
    {
      "cell_type": "code",
      "execution_count": 43,
      "metadata": {
        "id": "IzT0zg8uhPQP"
      },
      "outputs": [],
      "source": [
        "df['diff'] = df['도착시간'] - df['출동시간']\n",
        "df['diff'] = df['diff'].dt.total_seconds() / 60\n",
        "df = df.sort_values('diff', ascending=False)"
      ]
    },
    {
      "cell_type": "code",
      "execution_count": 49,
      "metadata": {
        "id": "kcpVVlADhPiO"
      },
      "outputs": [
        {
          "name": "stdout",
          "output_type": "stream",
          "text": [
            "81\n"
          ]
        }
      ],
      "source": [
        "result = df.groupby('소방서')['diff'].mean()\n",
        "result = result.sort_values(ascending=False)\n",
        "print(round(result.iloc[0]))"
      ]
    },
    {
      "cell_type": "markdown",
      "metadata": {
        "id": "WHPehQIr2G0R"
      },
      "source": [
        "2. 학교에서 교사 한 명당 맡은 학생 수가 가장 많은 학교를 찾고, 그 학교의 전체 교사 수를 구하시오. (정수 출력)"
      ]
    },
    {
      "cell_type": "code",
      "execution_count": 59,
      "metadata": {
        "id": "n-_CJh6-2K-g"
      },
      "outputs": [],
      "source": [
        "import pandas as pd\n",
        "df = pd.read_csv(\"data6-1-2.csv\")"
      ]
    },
    {
      "cell_type": "code",
      "execution_count": 62,
      "metadata": {
        "id": "GfI4dkM6hTMq"
      },
      "outputs": [
        {
          "name": "stdout",
          "output_type": "stream",
          "text": [
            "100\n",
            "(100, 8)\n"
          ]
        }
      ],
      "source": [
        "print(df['학교명'].nunique())\n",
        "print(df.shape)\n",
        "df['sum'] = df.iloc[:,2:].sum(axis=1)\n",
        "df['rate'] = df['sum'] / df['교사수']"
      ]
    },
    {
      "cell_type": "code",
      "execution_count": 67,
      "metadata": {
        "id": "PGlgb84GhTPq"
      },
      "outputs": [
        {
          "name": "stdout",
          "output_type": "stream",
          "text": [
            "19\n"
          ]
        }
      ],
      "source": [
        "df = df.sort_values('rate', ascending=False)\n",
        "print(df.iloc[0,1])"
      ]
    },
    {
      "cell_type": "markdown",
      "metadata": {
        "id": "ur3vOFxy72jV"
      },
      "source": [
        "3. 연도별로 총 범죄 건수(범죄유형의 총합)의 월평균 값을 구한 후 그 값이 가장 큰 연도를 찾아, 해당 연도의 총 범죄 건수의 월평균 값을 출력하시오. (반올림하여 정수로 출력)"
      ]
    },
    {
      "cell_type": "code",
      "execution_count": 68,
      "metadata": {
        "id": "pcfb-167794O"
      },
      "outputs": [],
      "source": [
        "import pandas as pd\n",
        "df = pd.read_csv(\"data6-1-3.csv\")"
      ]
    },
    {
      "cell_type": "code",
      "execution_count": 69,
      "metadata": {
        "id": "KTAXIy1zCFhE"
      },
      "outputs": [
        {
          "name": "stdout",
          "output_type": "stream",
          "text": [
            "          날짜  강력범죄  절도범죄  폭력범죄  지능범죄  풍속범죄  교통범죄  경찰서명\n",
            "0  2020년 04월    26   142    83    71    33   182  B경찰서\n",
            "1  2021년 06월    12   131    78    65    30   201  E경찰서\n",
            "2  2020년 06월    22   104    84    72    34   201  A경찰서\n",
            "3  2024년 02월    16   137    72    80    30   180  C경찰서\n",
            "4  2022년 03월    17   125    87    76    25   220  C경찰서\n"
          ]
        }
      ],
      "source": [
        "print(df.head())"
      ]
    },
    {
      "cell_type": "code",
      "execution_count": 80,
      "metadata": {
        "id": "vhlrbJN7hW7Z"
      },
      "outputs": [
        {
          "name": "stdout",
          "output_type": "stream",
          "text": [
            "           날짜  강력범죄  절도범죄  폭력범죄  지능범죄  풍속범죄  교통범죄  경찰서명  총범죄         평균\n",
            "0   2020년 04월    26   142    83    71    33   182  B경찰서  537  44.750000\n",
            "1   2021년 06월    12   131    78    65    30   201  E경찰서  517  43.083333\n",
            "2   2020년 06월    22   104    84    72    34   201  A경찰서  517  43.083333\n",
            "3   2024년 02월    16   137    72    80    30   180  C경찰서  515  42.916667\n",
            "4   2022년 03월    17   125    87    76    25   220  C경찰서  550  45.833333\n",
            "5   2024년 11월    25   148    90    67    33   210  B경찰서  573  47.750000\n",
            "6   2020년 07월    14   134    84    72    32   182  A경찰서  518  43.166667\n",
            "7   2020년 03월    14   129    76    60    29   202  C경찰서  510  42.500000\n",
            "8   2022년 01월    23   140    83    60    26   219  A경찰서  551  45.916667\n",
            "9   2022년 11월    26   122    72    62    31   180  E경찰서  493  41.083333\n",
            "10  2022년 12월    22   104    87    80    31   181  C경찰서  505  42.083333\n",
            "11  2021년 10월    18   130    71    77    30   206  C경찰서  532  44.333333\n",
            "12  2024년 01월    10   140    90    65    31   184  B경찰서  520  43.333333\n",
            "13  2024년 12월    21   142    77    62    35   183  E경찰서  520  43.333333\n",
            "14  2020년 11월    22   134    79    64    35   198  D경찰서  532  44.333333\n",
            "15  2020년 09월    21   108    87    70    33   187  B경찰서  506  42.166667\n",
            "16  2023년 12월    28   124    83    61    27   209  A경찰서  532  44.333333\n",
            "17  2024년 09월    21   128    84    69    31   181  B경찰서  514  42.833333\n",
            "18  2023년 08월    26   120    86    76    33   188  C경찰서  529  44.083333\n",
            "19  2021년 04월    26   106    87    71    28   216  C경찰서  534  44.500000\n",
            "20  2023년 10월    12   117    86    67    28   200  C경찰서  510  42.500000\n",
            "21  2020년 01월    22   102    86    62    28   212  B경찰서  512  42.666667\n",
            "22  2022년 04월    10   112    78    78    28   185  E경찰서  491  40.916667\n",
            "23  2024년 10월    20   105    80    77    33   188  E경찰서  503  41.916667\n",
            "24  2024년 04월    14   150    85    75    31   181  C경찰서  536  44.666667\n",
            "25  2020년 05월    28   131    80    72    28   212  B경찰서  551  45.916667\n",
            "26  2023년 03월    29   140    70    79    34   211  C경찰서  563  46.916667\n",
            "27  2021년 09월    28   107    71    71    32   203  D경찰서  512  42.666667\n",
            "28  2022년 05월    20   122    76    74    30   192  B경찰서  514  42.833333\n",
            "29  2023년 11월    22   103    83    72    33   196  B경찰서  509  42.416667\n",
            "30  2022년 08월    27   124    81    62    29   187  C경찰서  510  42.500000\n",
            "31  2020년 02월    26   138    80    61    31   183  E경찰서  519  43.250000\n",
            "32  2024년 05월    22   119    73    74    34   200  B경찰서  522  43.500000\n",
            "33  2023년 06월    30   128    78    74    34   216  C경찰서  560  46.666667\n",
            "34  2024년 03월    17   144    84    76    34   197  C경찰서  552  46.000000\n",
            "35  2022년 02월    11   111    73    60    31   211  B경찰서  497  41.416667\n",
            "36  2022년 10월    25   134    71    75    33   189  C경찰서  527  43.916667\n",
            "37  2020년 10월    21   114    89    61    32   212  E경찰서  529  44.083333\n",
            "38  2021년 02월    19   145    88    60    30   204  B경찰서  546  45.500000\n",
            "39  2021년 07월    12   116    79    65    31   202  D경찰서  505  42.083333\n",
            "40  2023년 05월    11   138    70    75    35   190  B경찰서  519  43.250000\n",
            "41  2023년 09월    11   117    86    65    33   192  C경찰서  504  42.000000\n",
            "42  2021년 08월    25   129    77    69    33   185  A경찰서  518  43.166667\n",
            "43  2022년 06월    24   139    87    77    29   192  E경찰서  548  45.666667\n",
            "44  2021년 11월    12   140    82    73    32   187  A경찰서  526  43.833333\n",
            "45  2023년 01월    28   127    90    73    33   202  B경찰서  553  46.083333\n",
            "46  2022년 09월    25   108    76    66    28   182  B경찰서  485  40.416667\n",
            "47  2021년 01월    16   104    82    60    25   206  C경찰서  493  41.083333\n",
            "48  2020년 08월    27   101    71    67    31   198  B경찰서  495  41.250000\n",
            "49  2022년 07월    19   107    79    80    30   193  E경찰서  508  42.333333\n"
          ]
        }
      ],
      "source": [
        "df['총범죄'] = df.iloc[:,1:-2].sum(axis=1)\n",
        "df['평균'] = df['총범죄'] / 12\n",
        "\n",
        "# print(df.iloc[:,1:-2])"
      ]
    },
    {
      "cell_type": "code",
      "execution_count": 81,
      "metadata": {
        "id": "jOnhf3j_hW98"
      },
      "outputs": [
        {
          "name": "stdout",
          "output_type": "stream",
          "text": [
            "<class 'pandas.core.frame.DataFrame'>\n",
            "RangeIndex: 50 entries, 0 to 49\n",
            "Data columns (total 10 columns):\n",
            " #   Column  Non-Null Count  Dtype  \n",
            "---  ------  --------------  -----  \n",
            " 0   날짜      50 non-null     object \n",
            " 1   강력범죄    50 non-null     int64  \n",
            " 2   절도범죄    50 non-null     int64  \n",
            " 3   폭력범죄    50 non-null     int64  \n",
            " 4   지능범죄    50 non-null     int64  \n",
            " 5   풍속범죄    50 non-null     int64  \n",
            " 6   교통범죄    50 non-null     int64  \n",
            " 7   경찰서명    50 non-null     object \n",
            " 8   총범죄     50 non-null     int64  \n",
            " 9   평균      50 non-null     float64\n",
            "dtypes: float64(1), int64(7), object(2)\n",
            "memory usage: 4.0+ KB\n",
            "None\n"
          ]
        }
      ],
      "source": [
        "print(df.info())"
      ]
    },
    {
      "cell_type": "code",
      "execution_count": 94,
      "metadata": {},
      "outputs": [
        {
          "name": "stdout",
          "output_type": "stream",
          "text": [
            "515\n"
          ]
        }
      ],
      "source": [
        "df['year'] = df['날짜'].str[0:4]\n",
        "result = df.groupby('year')['총범죄'].sum()\n",
        "result = result.sort_values(ascending=False)\n",
        "print(round(result.iloc[0]/12))"
      ]
    },
    {
      "cell_type": "code",
      "execution_count": null,
      "metadata": {},
      "outputs": [],
      "source": []
    }
  ],
  "metadata": {
    "colab": {
      "include_colab_link": true,
      "provenance": []
    },
    "kernelspec": {
      "display_name": "Python 3",
      "name": "python3"
    },
    "language_info": {
      "codemirror_mode": {
        "name": "ipython",
        "version": 3
      },
      "file_extension": ".py",
      "mimetype": "text/x-python",
      "name": "python",
      "nbconvert_exporter": "python",
      "pygments_lexer": "ipython3",
      "version": "3.12.3"
    }
  },
  "nbformat": 4,
  "nbformat_minor": 0
}
