{
  "cells": [
    {
      "cell_type": "markdown",
      "metadata": {
        "colab_type": "text",
        "id": "view-in-github"
      },
      "source": [
        "<a href=\"https://colab.research.google.com/github/takuxp/bigdata_study/blob/main/6%ED%9A%8C_%EA%B8%B0%EC%B6%9C_%EC%9C%A0%ED%98%95(%EC%9E%91%EC%97%85%ED%98%952)_%EB%AC%B8%EC%A0%9C.ipynb\" target=\"_parent\"><img src=\"https://colab.research.google.com/assets/colab-badge.svg\" alt=\"Open In Colab\"/></a>"
      ]
    },
    {
      "cell_type": "markdown",
      "metadata": {
        "id": "JiFc-11Gk38n"
      },
      "source": [
        "## 다중 분류 문제\n",
        "- 난방 부하 단계를 예측해주세요!\n",
        "\n",
        "- 예측할 값(y): Heat_Load (Very Low, Low, Medium, High, Very High)\n",
        "- 평가: f1-macro\n",
        "- data: train.csv, test.csv\n",
        "- 제출 형식: result.csv파일을 아래와 같은 형식으로 제출\n",
        "~~~\n",
        "pred\n",
        "Very Low\n",
        "Low\n",
        "High\n",
        "...\n",
        "Very High\n",
        "~~~\n",
        "\n",
        "### 답안 제출 참고\n",
        "- pd.read_csv('result.csv') 로 제출 코드 확인"
      ]
    },
    {
      "cell_type": "code",
      "execution_count": 1,
      "metadata": {
        "id": "DO-sHoMUL7mN"
      },
      "outputs": [
        {
          "name": "stdout",
          "output_type": "stream",
          "text": [
            "(537, 10) (231, 9)\n",
            "<class 'pandas.core.frame.DataFrame'>\n",
            "RangeIndex: 537 entries, 0 to 536\n",
            "Data columns (total 10 columns):\n",
            " #   Column       Non-Null Count  Dtype  \n",
            "---  ------       --------------  -----  \n",
            " 0   Compac       537 non-null    float64\n",
            " 1   Surf_Area    537 non-null    float64\n",
            " 2   Wall_Area    537 non-null    float64\n",
            " 3   Roof         537 non-null    object \n",
            " 4   Height       537 non-null    object \n",
            " 5   Orient       537 non-null    object \n",
            " 6   Glaze_Area   537 non-null    float64\n",
            " 7   Glaze_Distr  537 non-null    int64  \n",
            " 8   Cool_Load    537 non-null    float64\n",
            " 9   Heat_Load    537 non-null    object \n",
            "dtypes: float64(5), int64(1), object(4)\n",
            "memory usage: 42.1+ KB\n",
            "None\n"
          ]
        }
      ],
      "source": [
        "import pandas as pd\n",
        "train = pd.read_csv('energy_train.csv')\n",
        "test = pd.read_csv('energy_test.csv')\n",
        "print(train.shape, test.shape)\n",
        "print(train.info())"
      ]
    },
    {
      "cell_type": "code",
      "execution_count": 4,
      "metadata": {
        "id": "il2i1B8YnZI3"
      },
      "outputs": [
        {
          "name": "stdout",
          "output_type": "stream",
          "text": [
            "   Compac  Surf_Area  Wall_Area  Glaze_Area  Glaze_Distr  Cool_Load  \\\n",
            "0    0.74      686.0      245.0        0.25            3      14.72   \n",
            "1    0.98      514.5      294.0        0.40            2      33.94   \n",
            "2    0.90      563.5      318.5        0.25            1      37.58   \n",
            "3    0.74      686.0      245.0        0.25            2      15.18   \n",
            "4    0.98      514.5      294.0        0.25            2      29.69   \n",
            "\n",
            "   Roof_220.5  Roof_Large  Roof_Medium  Roof_Small  Height_Short  Height_Tall  \\\n",
            "0        True       False        False       False          True        False   \n",
            "1       False       False        False        True         False         True   \n",
            "2       False       False         True       False         False         True   \n",
            "3        True       False        False       False          True        False   \n",
            "4       False       False        False        True         False         True   \n",
            "\n",
            "   Orient_East  Orient_North  Orient_South  Orient_West  \n",
            "0        False         False          True        False  \n",
            "1        False         False          True        False  \n",
            "2        False         False         False         True  \n",
            "3        False         False          True        False  \n",
            "4         True         False         False        False  \n"
          ]
        }
      ],
      "source": [
        "train_target = train.pop('Heat_Load')\n",
        "train = pd.get_dummies(train)\n",
        "test = pd.get_dummies(test)\n",
        "print(train.head())"
      ]
    },
    {
      "cell_type": "code",
      "execution_count": 5,
      "metadata": {
        "id": "_kkLqKabnZLW"
      },
      "outputs": [
        {
          "name": "stdout",
          "output_type": "stream",
          "text": [
            "(429, 16) (108, 16) (429,) (108,)\n"
          ]
        }
      ],
      "source": [
        "from sklearn.model_selection import train_test_split\n",
        "X_tr, X_val, y_tr, y_val = train_test_split(train, train_target, test_size=0.2, random_state=0)\n",
        "print(X_tr.shape, X_val.shape, y_tr.shape, y_val.shape)"
      ]
    },
    {
      "cell_type": "code",
      "execution_count": 6,
      "metadata": {
        "id": "ZAj62-qxnZNn"
      },
      "outputs": [],
      "source": [
        "from sklearn.ensemble import RandomForestClassifier\n",
        "rf = RandomForestClassifier()\n",
        "model = rf.fit(X_tr, y_tr)\n",
        "pred = model.predict(X_val)"
      ]
    },
    {
      "cell_type": "code",
      "execution_count": 8,
      "metadata": {
        "id": "Rwt-0srlnZQj"
      },
      "outputs": [
        {
          "name": "stdout",
          "output_type": "stream",
          "text": [
            "0.9385709538052509\n"
          ]
        }
      ],
      "source": [
        "from sklearn.metrics import f1_score\n",
        "print(f1_score(y_val, pred, average='macro'))"
      ]
    },
    {
      "cell_type": "code",
      "execution_count": 9,
      "metadata": {},
      "outputs": [
        {
          "name": "stdout",
          "output_type": "stream",
          "text": [
            "          pred\n",
            "0          Low\n",
            "1         High\n",
            "2         High\n",
            "3          Low\n",
            "4          Low\n",
            "..         ...\n",
            "226   Very Low\n",
            "227     Medium\n",
            "228   Very Low\n",
            "229        Low\n",
            "230  Very High\n",
            "\n",
            "[231 rows x 1 columns]\n"
          ]
        }
      ],
      "source": [
        "pred = model.predict(test)\n",
        "\n",
        "result = pd.DataFrame({\n",
        "    'pred': pred\n",
        "})\n",
        "\n",
        "result.to_csv('result.csv', index=False)\n",
        "print(pd.read_csv('result.csv'))"
      ]
    },
    {
      "cell_type": "code",
      "execution_count": null,
      "metadata": {},
      "outputs": [],
      "source": []
    }
  ],
  "metadata": {
    "colab": {
      "include_colab_link": true,
      "provenance": []
    },
    "kernelspec": {
      "display_name": "Python 3",
      "name": "python3"
    },
    "language_info": {
      "codemirror_mode": {
        "name": "ipython",
        "version": 3
      },
      "file_extension": ".py",
      "mimetype": "text/x-python",
      "name": "python",
      "nbconvert_exporter": "python",
      "pygments_lexer": "ipython3",
      "version": "3.12.3"
    }
  },
  "nbformat": 4,
  "nbformat_minor": 0
}
