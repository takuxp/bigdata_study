{
  "cells": [
    {
      "cell_type": "markdown",
      "metadata": {
        "colab_type": "text",
        "id": "view-in-github"
      },
      "source": [
        "<a href=\"https://colab.research.google.com/github/takuxp/bigdata_study/blob/main/%EB%B6%84%EC%82%B0%EB%B6%84%EC%84%9D(%EB%B9%88%EC%B9%B8).ipynb\" target=\"_parent\"><img src=\"https://colab.research.google.com/assets/colab-badge.svg\" alt=\"Open In Colab\"/></a>"
      ]
    },
    {
      "cell_type": "markdown",
      "metadata": {
        "id": "noR3fjbYSw1_"
      },
      "source": [
        "# 일원 분산 분석"
      ]
    },
    {
      "cell_type": "markdown",
      "metadata": {
        "id": "JsELXtKgvRkK"
      },
      "source": [
        "주어진 데이터는 4가지 다른 교육 방법을 적용한 대학생들의 학점 결과이다. 이 실험에서는 비슷한 실력을 가진 학생 40명을 무작위로 4개(A, B, C, D)그룹으로 나누었고, 각 그룹은 다른 교육 방법을 적용했다. 학생들의 학점 결과에는 교육 방법에 따른 차이가 있는지 유의수준 0.5하에서 검정하시오.\n",
        "- 귀무가설(H0): 네 가지 교육 방법에 의한 학생들의 학점 평균은 동일하다.\n",
        "- 대립가설(H1): 적어도 두 그룹의 학점 평균은 다르다."
      ]
    },
    {
      "cell_type": "markdown",
      "metadata": {
        "id": "80IBaqHZS1JH"
      },
      "source": [
        "## 1. 기초"
      ]
    },
    {
      "cell_type": "code",
      "execution_count": 1,
      "metadata": {
        "id": "8Tix8IOgjleA"
      },
      "outputs": [
        {
          "name": "stdout",
          "output_type": "stream",
          "text": [
            "     A    B    C    D\n",
            "0  3.5  3.9  3.2  3.8\n",
            "1  4.3  4.4  3.7  3.4\n"
          ]
        }
      ],
      "source": [
        "import pandas as pd\n",
        "df = pd.DataFrame({\n",
        "    'A': [3.5, 4.3, 3.8, 3.6, 4.1, 3.2, 3.9, 4.4, 3.5, 3.3],\n",
        "    'B': [3.9, 4.4, 4.1, 4.2, 4.5, 3.8, 4.2, 3.9, 4.4, 4.3],\n",
        "    'C': [3.2, 3.7, 3.6, 3.9, 4.3, 4.1, 3.8, 3.5, 4.4, 4.0],\n",
        "    'D': [3.8, 3.4, 3.1, 3.5, 3.6, 3.9, 3.2, 3.7, 3.3, 3.4]\n",
        "})\n",
        "print(df.head(2))"
      ]
    },
    {
      "cell_type": "markdown",
      "metadata": {
        "id": "w3x85qp5mGRA"
      },
      "source": [
        "### 일원 분산 분석"
      ]
    },
    {
      "cell_type": "code",
      "execution_count": 2,
      "metadata": {
        "id": "ujMdJExGl5oK"
      },
      "outputs": [
        {
          "data": {
            "text/plain": [
              "F_onewayResult(statistic=7.2969837587007, pvalue=0.0006053225519892207)"
            ]
          },
          "execution_count": 2,
          "metadata": {},
          "output_type": "execute_result"
        }
      ],
      "source": [
        "# 일원 분산 분석\n",
        "from scipy import stats\n",
        "stats.f_oneway(df['A'], df['B'], df['C'], df['D'])"
      ]
    },
    {
      "cell_type": "code",
      "execution_count": 6,
      "metadata": {
        "id": "ie4pxfxlWEvK"
      },
      "outputs": [
        {
          "name": "stdout",
          "output_type": "stream",
          "text": [
            "ShapiroResult(statistic=0.9498823422157768, pvalue=0.667108682193412)\n",
            "ShapiroResult(statistic=0.9346447100990081, pvalue=0.495096931740429)\n",
            "ShapiroResult(statistic=0.9871342658078467, pvalue=0.9919546177620264)\n",
            "ShapiroResult(statistic=0.9752339025839639, pvalue=0.9346854448707619)\n",
            "LeveneResult(statistic=1.5433829973707245, pvalue=0.22000894224209636)\n",
            "F_onewayResult(statistic=7.2969837587007, pvalue=0.0006053225519892207)\n"
          ]
        }
      ],
      "source": [
        "# 정규성, 등분산, 일원 분산 분석\n",
        "\n",
        "# Shapiro-Wilk(샤피로-윌크) 정규성 검정\n",
        "print(stats.shapiro(df['A']))\n",
        "print(stats.shapiro(df['B']))\n",
        "print(stats.shapiro(df['C']))\n",
        "print(stats.shapiro(df['D']))\n",
        "\n",
        "# Levene(레빈) 등분산 검정\n",
        "print(stats.levene(df['A'], df['B'], df['C'], df['D']))\n",
        "\n",
        "# 일원 분산 분석\n",
        "print(stats.f_oneway(df['A'], df['B'], df['C'], df['D']))"
      ]
    },
    {
      "cell_type": "markdown",
      "metadata": {
        "id": "X6IW2XKNTCHh"
      },
      "source": [
        "## 2. 심화"
      ]
    },
    {
      "cell_type": "code",
      "execution_count": 9,
      "metadata": {
        "id": "0V10CT1KjvHv"
      },
      "outputs": [
        {
          "data": {
            "text/html": [
              "<div>\n",
              "<style scoped>\n",
              "    .dataframe tbody tr th:only-of-type {\n",
              "        vertical-align: middle;\n",
              "    }\n",
              "\n",
              "    .dataframe tbody tr th {\n",
              "        vertical-align: top;\n",
              "    }\n",
              "\n",
              "    .dataframe thead th {\n",
              "        text-align: right;\n",
              "    }\n",
              "</style>\n",
              "<table border=\"1\" class=\"dataframe\">\n",
              "  <thead>\n",
              "    <tr style=\"text-align: right;\">\n",
              "      <th></th>\n",
              "      <th>variable</th>\n",
              "      <th>value</th>\n",
              "    </tr>\n",
              "  </thead>\n",
              "  <tbody>\n",
              "    <tr>\n",
              "      <th>0</th>\n",
              "      <td>A</td>\n",
              "      <td>3.5</td>\n",
              "    </tr>\n",
              "    <tr>\n",
              "      <th>1</th>\n",
              "      <td>A</td>\n",
              "      <td>4.3</td>\n",
              "    </tr>\n",
              "    <tr>\n",
              "      <th>2</th>\n",
              "      <td>A</td>\n",
              "      <td>3.8</td>\n",
              "    </tr>\n",
              "    <tr>\n",
              "      <th>3</th>\n",
              "      <td>A</td>\n",
              "      <td>3.6</td>\n",
              "    </tr>\n",
              "    <tr>\n",
              "      <th>4</th>\n",
              "      <td>A</td>\n",
              "      <td>4.1</td>\n",
              "    </tr>\n",
              "  </tbody>\n",
              "</table>\n",
              "</div>"
            ],
            "text/plain": [
              "  variable  value\n",
              "0        A    3.5\n",
              "1        A    4.3\n",
              "2        A    3.8\n",
              "3        A    3.6\n",
              "4        A    4.1"
            ]
          },
          "execution_count": 9,
          "metadata": {},
          "output_type": "execute_result"
        }
      ],
      "source": [
        "# 데이터 재구조화 (긴 형태)\n",
        "df_melt = df.melt()\n",
        "df_melt.head()"
      ]
    },
    {
      "cell_type": "markdown",
      "metadata": {
        "id": "l1OyVuNornNT"
      },
      "source": [
        "### 분산분석 테이블"
      ]
    },
    {
      "cell_type": "code",
      "execution_count": 12,
      "metadata": {
        "id": "3PH02qzdEPXZ"
      },
      "outputs": [
        {
          "data": {
            "text/html": [
              "<div>\n",
              "<style scoped>\n",
              "    .dataframe tbody tr th:only-of-type {\n",
              "        vertical-align: middle;\n",
              "    }\n",
              "\n",
              "    .dataframe tbody tr th {\n",
              "        vertical-align: top;\n",
              "    }\n",
              "\n",
              "    .dataframe thead th {\n",
              "        text-align: right;\n",
              "    }\n",
              "</style>\n",
              "<table border=\"1\" class=\"dataframe\">\n",
              "  <thead>\n",
              "    <tr style=\"text-align: right;\">\n",
              "      <th></th>\n",
              "      <th>df</th>\n",
              "      <th>sum_sq</th>\n",
              "      <th>mean_sq</th>\n",
              "      <th>F</th>\n",
              "      <th>PR(&gt;F)</th>\n",
              "    </tr>\n",
              "  </thead>\n",
              "  <tbody>\n",
              "    <tr>\n",
              "      <th>variable</th>\n",
              "      <td>3.0</td>\n",
              "      <td>2.35875</td>\n",
              "      <td>0.78625</td>\n",
              "      <td>7.296984</td>\n",
              "      <td>0.000605</td>\n",
              "    </tr>\n",
              "    <tr>\n",
              "      <th>Residual</th>\n",
              "      <td>36.0</td>\n",
              "      <td>3.87900</td>\n",
              "      <td>0.10775</td>\n",
              "      <td>NaN</td>\n",
              "      <td>NaN</td>\n",
              "    </tr>\n",
              "  </tbody>\n",
              "</table>\n",
              "</div>"
            ],
            "text/plain": [
              "            df   sum_sq  mean_sq         F    PR(>F)\n",
              "variable   3.0  2.35875  0.78625  7.296984  0.000605\n",
              "Residual  36.0  3.87900  0.10775       NaN       NaN"
            ]
          },
          "execution_count": 12,
          "metadata": {},
          "output_type": "execute_result"
        }
      ],
      "source": [
        "# ANOVA 테이블\n",
        "from statsmodels.formula.api import ols\n",
        "from statsmodels.stats.anova import anova_lm\n",
        "model = ols('value ~ variable', data=df_melt).fit()\n",
        "anova_lm(model)"
      ]
    },
    {
      "cell_type": "markdown",
      "metadata": {
        "id": "giIbIObjpoQS"
      },
      "source": [
        "### 사후검정\n",
        "- 목적: 어떤 그룹들 간에 통계적으로 유의미한 차이가 있는지 구체적으로 파악하는 것"
      ]
    },
    {
      "cell_type": "code",
      "execution_count": 14,
      "metadata": {
        "id": "-zJ_Eu22oH20"
      },
      "outputs": [
        {
          "name": "stdout",
          "output_type": "stream",
          "text": [
            "Multiple Comparison of Means - Tukey HSD, FWER=0.05 \n",
            "====================================================\n",
            "group1 group2 meandiff p-adj   lower   upper  reject\n",
            "----------------------------------------------------\n",
            "     A      B     0.41 0.0397  0.0146  0.8054   True\n",
            "     A      C     0.09 0.9273 -0.3054  0.4854  False\n",
            "     A      D    -0.27 0.2722 -0.6654  0.1254  False\n",
            "     B      C    -0.32 0.1483 -0.7154  0.0754  False\n",
            "     B      D    -0.68 0.0003 -1.0754 -0.2846   True\n",
            "     C      D    -0.36 0.0852 -0.7554  0.0354  False\n",
            "----------------------------------------------------\n",
            "Test Multiple Comparison ttest_ind \n",
            "FWER=0.05 method=bonf\n",
            "alphacSidak=0.01, alphacBonf=0.008\n",
            "=============================================\n",
            "group1 group2   stat   pval  pval_corr reject\n",
            "---------------------------------------------\n",
            "     A      B -2.7199  0.014    0.0843  False\n",
            "     A      C  -0.515 0.6128       1.0  False\n",
            "     A      D  1.7538 0.0965    0.5788  False\n",
            "     B      C  2.2975 0.0338    0.2028  False\n",
            "     B      D  6.0686    0.0    0.0001   True\n",
            "     C      D  2.5219 0.0213    0.1279  False\n",
            "---------------------------------------------\n"
          ]
        }
      ],
      "source": [
        "# Tukey HSD (투키)\n",
        "from statsmodels.stats.multicomp import pairwise_tukeyhsd, MultiComparison\n",
        "tukey_result = pairwise_tukeyhsd(df_melt['value'], df_melt['variable'], alpha=0.05)\n",
        "print(tukey_result.summary())\n",
        "# Bonferroni(본페로니)\n",
        "mc = MultiComparison(df_melt['value'], df_melt['variable'])\n",
        "bon_result = mc.allpairtest(stats.ttest_ind, method='bonf')\n",
        "print(bon_result[0])"
      ]
    },
    {
      "cell_type": "markdown",
      "metadata": {
        "id": "n_rI32dVrt97"
      },
      "source": [
        "### 크루스칼-왈리스 검정 (비모수 검정)"
      ]
    },
    {
      "cell_type": "code",
      "execution_count": 17,
      "metadata": {
        "id": "YqHYfIKQW607"
      },
      "outputs": [
        {
          "name": "stdout",
          "output_type": "stream",
          "text": [
            "ShapiroResult(statistic=0.9498823422157767, pvalue=0.6671086821934112)\n",
            "ShapiroResult(statistic=0.9346447100990083, pvalue=0.49509693174043135)\n",
            "ShapiroResult(statistic=0.9871342658078467, pvalue=0.9919546177620264)\n",
            "ShapiroResult(statistic=0.5759975003447693, pvalue=2.8656624682936833e-05)\n"
          ]
        },
        {
          "data": {
            "text/plain": [
              "KruskalResult(statistic=11.183607021517561, pvalue=0.010773365310213669)"
            ]
          },
          "execution_count": 17,
          "metadata": {},
          "output_type": "execute_result"
        }
      ],
      "source": [
        "import pandas as pd\n",
        "from scipy import stats\n",
        "\n",
        "# 데이터\n",
        "df = pd.DataFrame({\n",
        "    'A': [10.5, 11.3, 10.8, 10.6, 11.1, 10.2, 10.9, 11.4, 10.5, 10.3],\n",
        "    'B': [10.9, 11.4, 11.1, 11.2, 11.5, 10.8, 11.2, 10.9, 11.4, 11.3],\n",
        "    'C': [10.2, 10.7, 10.6, 10.9, 11.3, 11.1, 10.8, 10.5, 11.4, 11.0],\n",
        "    'D': [13.8, 10.4, 10.1, 10.5, 10.6, 10.9, 10.2, 10.7, 10.3, 10.4]\n",
        "})\n",
        "\n",
        "# 정규성 검정\n",
        "print(stats.shapiro(df['A']))\n",
        "print(stats.shapiro(df['B']))\n",
        "print(stats.shapiro(df['C']))\n",
        "print(stats.shapiro(df['D']))\n",
        "\n",
        "# Kruskal-Wallis 검정\n",
        "stats.kruskal(df['A'], df['B'], df['C'], df['D'])"
      ]
    },
    {
      "cell_type": "markdown",
      "metadata": {
        "id": "zE_cfuF4TJD7"
      },
      "source": [
        "# 이원 분산 분석"
      ]
    },
    {
      "cell_type": "markdown",
      "metadata": {
        "id": "0yQjsmneJJJD"
      },
      "source": [
        "가정에서 재배하고 있는 네 가지 토마토 종자(A, B, C, D)에 대해 세 가지 종류의 비료 (11, 12, 13)를 사용하여 재배된 토마토 수를 조사하였다. 종자 및 비료 종류 간의 토마토 수의 차이가 있는지 유의수준 0.05하에서 검정하시오.\n",
        "(단, 정규성, 등분산성에 만족한 데이터)\n",
        "- 종자 (주 효과)\n",
        "    - 귀무가설(H0): 종자 간의 토마토 수에 차이가 없다.\n",
        "    - 대립가설(H1): 적어도 하나의 종자에서 토마토 수에 차이가 있다.\n",
        "- 비료 (주 효과)\n",
        "    - 귀무가설(H0): 비료 종류 간의 토마토 수에 차이가 없다.\n",
        "    - 대립가설(H1): 적어도 하나의 비료 종류에서 토마토 수에 차이가 있다.\n",
        "- 상호작용 효과:\n",
        "    - 귀무가설(H0): 종자와 비료 간의 상호작용은 토마토 수에 영향을 미치지 않는다.\n",
        "    - 대립가설(H1): 종자와 비료 간의 상호작용은 토마토 수에 영향을 미친다.\n"
      ]
    },
    {
      "cell_type": "markdown",
      "metadata": {
        "id": "yQIVGQDmTVpV"
      },
      "source": [
        "## 1. 기초"
      ]
    },
    {
      "cell_type": "code",
      "execution_count": 18,
      "metadata": {
        "id": "d-87C0HTjR9d"
      },
      "outputs": [
        {
          "name": "stdout",
          "output_type": "stream",
          "text": [
            "  종자  비료  토마토수\n",
            "0  A  11    54\n",
            "1  A  11    48\n",
            "2  A  11    56\n",
            "3  A  11    65\n",
            "4  A  11    47\n",
            "(120, 3)\n"
          ]
        }
      ],
      "source": [
        "import pandas as pd\n",
        "df = pd.read_csv(\"tomato.csv\")\n",
        "print(df.head())\n",
        "print(df.shape)"
      ]
    },
    {
      "cell_type": "markdown",
      "metadata": {
        "id": "RcPQMCRM_3_c"
      },
      "source": [
        "### 이원 분산 분석"
      ]
    },
    {
      "cell_type": "code",
      "execution_count": 19,
      "metadata": {
        "id": "40ToLh4Xe0vA"
      },
      "outputs": [
        {
          "data": {
            "text/html": [
              "<div>\n",
              "<style scoped>\n",
              "    .dataframe tbody tr th:only-of-type {\n",
              "        vertical-align: middle;\n",
              "    }\n",
              "\n",
              "    .dataframe tbody tr th {\n",
              "        vertical-align: top;\n",
              "    }\n",
              "\n",
              "    .dataframe thead th {\n",
              "        text-align: right;\n",
              "    }\n",
              "</style>\n",
              "<table border=\"1\" class=\"dataframe\">\n",
              "  <thead>\n",
              "    <tr style=\"text-align: right;\">\n",
              "      <th></th>\n",
              "      <th>df</th>\n",
              "      <th>sum_sq</th>\n",
              "      <th>mean_sq</th>\n",
              "      <th>F</th>\n",
              "      <th>PR(&gt;F)</th>\n",
              "    </tr>\n",
              "  </thead>\n",
              "  <tbody>\n",
              "    <tr>\n",
              "      <th>종자</th>\n",
              "      <td>3.0</td>\n",
              "      <td>4801.000000</td>\n",
              "      <td>1600.333333</td>\n",
              "      <td>18.297521</td>\n",
              "      <td>9.892196e-10</td>\n",
              "    </tr>\n",
              "    <tr>\n",
              "      <th>비료</th>\n",
              "      <td>1.0</td>\n",
              "      <td>877.812500</td>\n",
              "      <td>877.812500</td>\n",
              "      <td>10.036530</td>\n",
              "      <td>1.978360e-03</td>\n",
              "    </tr>\n",
              "    <tr>\n",
              "      <th>종자:비료</th>\n",
              "      <td>3.0</td>\n",
              "      <td>406.137500</td>\n",
              "      <td>135.379167</td>\n",
              "      <td>1.547867</td>\n",
              "      <td>2.061233e-01</td>\n",
              "    </tr>\n",
              "    <tr>\n",
              "      <th>Residual</th>\n",
              "      <td>112.0</td>\n",
              "      <td>9795.716667</td>\n",
              "      <td>87.461756</td>\n",
              "      <td>NaN</td>\n",
              "      <td>NaN</td>\n",
              "    </tr>\n",
              "  </tbody>\n",
              "</table>\n",
              "</div>"
            ],
            "text/plain": [
              "             df       sum_sq      mean_sq          F        PR(>F)\n",
              "종자          3.0  4801.000000  1600.333333  18.297521  9.892196e-10\n",
              "비료          1.0   877.812500   877.812500  10.036530  1.978360e-03\n",
              "종자:비료       3.0   406.137500   135.379167   1.547867  2.061233e-01\n",
              "Residual  112.0  9795.716667    87.461756        NaN           NaN"
            ]
          },
          "execution_count": 19,
          "metadata": {},
          "output_type": "execute_result"
        }
      ],
      "source": [
        "# anova 테이블\n",
        "from statsmodels.formula.api import ols\n",
        "from statsmodels.stats.anova import anova_lm\n",
        "model = ols('토마토수 ~ 종자 + 비료 + 종자:비료', data=df).fit()\n",
        "anova_lm(model)"
      ]
    },
    {
      "cell_type": "code",
      "execution_count": 20,
      "metadata": {
        "id": "kE4qc4wtkbj9"
      },
      "outputs": [
        {
          "data": {
            "text/html": [
              "<div>\n",
              "<style scoped>\n",
              "    .dataframe tbody tr th:only-of-type {\n",
              "        vertical-align: middle;\n",
              "    }\n",
              "\n",
              "    .dataframe tbody tr th {\n",
              "        vertical-align: top;\n",
              "    }\n",
              "\n",
              "    .dataframe thead th {\n",
              "        text-align: right;\n",
              "    }\n",
              "</style>\n",
              "<table border=\"1\" class=\"dataframe\">\n",
              "  <thead>\n",
              "    <tr style=\"text-align: right;\">\n",
              "      <th></th>\n",
              "      <th>df</th>\n",
              "      <th>sum_sq</th>\n",
              "      <th>mean_sq</th>\n",
              "      <th>F</th>\n",
              "      <th>PR(&gt;F)</th>\n",
              "    </tr>\n",
              "  </thead>\n",
              "  <tbody>\n",
              "    <tr>\n",
              "      <th>C(종자)</th>\n",
              "      <td>3.0</td>\n",
              "      <td>4801.000000</td>\n",
              "      <td>1600.333333</td>\n",
              "      <td>18.757977</td>\n",
              "      <td>7.254117e-10</td>\n",
              "    </tr>\n",
              "    <tr>\n",
              "      <th>C(비료)</th>\n",
              "      <td>2.0</td>\n",
              "      <td>1140.316667</td>\n",
              "      <td>570.158333</td>\n",
              "      <td>6.682993</td>\n",
              "      <td>1.835039e-03</td>\n",
              "    </tr>\n",
              "    <tr>\n",
              "      <th>C(종자):C(비료)</th>\n",
              "      <td>6.0</td>\n",
              "      <td>725.350000</td>\n",
              "      <td>120.891667</td>\n",
              "      <td>1.417007</td>\n",
              "      <td>2.146636e-01</td>\n",
              "    </tr>\n",
              "    <tr>\n",
              "      <th>Residual</th>\n",
              "      <td>108.0</td>\n",
              "      <td>9214.000000</td>\n",
              "      <td>85.314815</td>\n",
              "      <td>NaN</td>\n",
              "      <td>NaN</td>\n",
              "    </tr>\n",
              "  </tbody>\n",
              "</table>\n",
              "</div>"
            ],
            "text/plain": [
              "                df       sum_sq      mean_sq          F        PR(>F)\n",
              "C(종자)          3.0  4801.000000  1600.333333  18.757977  7.254117e-10\n",
              "C(비료)          2.0  1140.316667   570.158333   6.682993  1.835039e-03\n",
              "C(종자):C(비료)    6.0   725.350000   120.891667   1.417007  2.146636e-01\n",
              "Residual     108.0  9214.000000    85.314815        NaN           NaN"
            ]
          },
          "execution_count": 20,
          "metadata": {},
          "output_type": "execute_result"
        }
      ],
      "source": [
        "# 범주형 데이터 처리\n",
        "from statsmodels.formula.api import ols\n",
        "from statsmodels.stats.anova import anova_lm\n",
        "model = ols('토마토수 ~ C(종자) + C(비료) + C(종자):C(비료)', data=df).fit()\n",
        "anova_lm(model)"
      ]
    },
    {
      "cell_type": "code",
      "execution_count": null,
      "metadata": {
        "id": "B6lwreZut_JA"
      },
      "outputs": [],
      "source": [
        "# 일반표기법 format(지수표기법, '.10f')\n"
      ]
    },
    {
      "cell_type": "code",
      "execution_count": null,
      "metadata": {
        "id": "zzz8pEIyjky7"
      },
      "outputs": [],
      "source": [
        "# formula * 활용\n"
      ]
    },
    {
      "cell_type": "markdown",
      "metadata": {
        "id": "FRDwpx-gjurL"
      },
      "source": [
        "## 2. 심화"
      ]
    },
    {
      "cell_type": "markdown",
      "metadata": {
        "id": "MA5eE1ceAMAE"
      },
      "source": [
        "### 사후검정"
      ]
    },
    {
      "cell_type": "code",
      "execution_count": null,
      "metadata": {
        "id": "-yqUH20Bbh0f"
      },
      "outputs": [],
      "source": [
        "# 이원 분산 분석 수행\n"
      ]
    },
    {
      "cell_type": "code",
      "execution_count": null,
      "metadata": {
        "id": "Yxjjxagsb2Vd"
      },
      "outputs": [],
      "source": [
        "\n",
        "# Tukey HSD\n"
      ]
    },
    {
      "cell_type": "code",
      "execution_count": null,
      "metadata": {
        "id": "CLYOyOE8b_15"
      },
      "outputs": [],
      "source": [
        "# Bonferroni\n"
      ]
    },
    {
      "cell_type": "markdown",
      "metadata": {
        "id": "Ru8y1HEZAWPa"
      },
      "source": [
        "### [참고] 정규성, 등분산"
      ]
    },
    {
      "cell_type": "code",
      "execution_count": null,
      "metadata": {
        "id": "IguuuWXeQGnI"
      },
      "outputs": [],
      "source": [
        "from scipy.stats import shapiro\n",
        "\n",
        "cond_tree_A = df['종자'] == 'A'\n",
        "cond_tree_B = df['종자'] == 'B'\n",
        "cond_tree_C = df['종자'] == 'C'\n",
        "cond_tree_D = df['종자'] == 'D'\n",
        "\n",
        "cond_fert_1 = df['비료'] == 11\n",
        "cond_fert_2 = df['비료'] == 12\n",
        "cond_fert_3 = df['비료'] == 13\n",
        "\n",
        "print(shapiro(df[cond_tree_A & cond_fert_1]['토마토수']))\n",
        "print(shapiro(df[cond_tree_A & cond_fert_2]['토마토수']))\n",
        "print(shapiro(df[cond_tree_A & cond_fert_3]['토마토수']))\n",
        "\n",
        "print(shapiro(df[cond_tree_B & cond_fert_1]['토마토수']))\n",
        "print(shapiro(df[cond_tree_B & cond_fert_2]['토마토수']))\n",
        "print(shapiro(df[cond_tree_B & cond_fert_3]['토마토수']))\n",
        "\n",
        "print(shapiro(df[cond_tree_C & cond_fert_1]['토마토수']))\n",
        "print(shapiro(df[cond_tree_C & cond_fert_2]['토마토수']))\n",
        "print(shapiro(df[cond_tree_C & cond_fert_3]['토마토수']))\n",
        "\n",
        "print(shapiro(df[cond_tree_D & cond_fert_1]['토마토수']))\n",
        "print(shapiro(df[cond_tree_D & cond_fert_2]['토마토수']))\n",
        "print(shapiro(df[cond_tree_D & cond_fert_3]['토마토수']))"
      ]
    },
    {
      "cell_type": "code",
      "execution_count": null,
      "metadata": {
        "id": "93pcC80YQZsO"
      },
      "outputs": [],
      "source": [
        "from scipy.stats import levene\n",
        "print(levene(df[cond_tree_A]['토마토수'],\n",
        "             df[cond_tree_B]['토마토수'],\n",
        "             df[cond_tree_C]['토마토수'],\n",
        "             df[cond_tree_D]['토마토수']))\n",
        "print(levene(df[cond_fert_1]['토마토수'],\n",
        "             df[cond_fert_2]['토마토수'],\n",
        "             df[cond_fert_3]['토마토수']))"
      ]
    }
  ],
  "metadata": {
    "colab": {
      "include_colab_link": true,
      "provenance": []
    },
    "kernelspec": {
      "display_name": "Python 3",
      "name": "python3"
    },
    "language_info": {
      "codemirror_mode": {
        "name": "ipython",
        "version": 3
      },
      "file_extension": ".py",
      "mimetype": "text/x-python",
      "name": "python",
      "nbconvert_exporter": "python",
      "pygments_lexer": "ipython3",
      "version": "3.11.7"
    }
  },
  "nbformat": 4,
  "nbformat_minor": 0
}
