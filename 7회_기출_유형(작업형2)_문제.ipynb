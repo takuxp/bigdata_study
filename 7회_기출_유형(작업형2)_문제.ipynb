{
  "nbformat": 4,
  "nbformat_minor": 0,
  "metadata": {
    "colab": {
      "provenance": [],
      "include_colab_link": true
    },
    "kernelspec": {
      "name": "python3",
      "display_name": "Python 3"
    },
    "language_info": {
      "name": "python"
    }
  },
  "cells": [
    {
      "cell_type": "markdown",
      "metadata": {
        "id": "view-in-github",
        "colab_type": "text"
      },
      "source": [
        "<a href=\"https://colab.research.google.com/github/takuxp/bigdata_study/blob/main/7%ED%9A%8C_%EA%B8%B0%EC%B6%9C_%EC%9C%A0%ED%98%95(%EC%9E%91%EC%97%85%ED%98%952)_%EB%AC%B8%EC%A0%9C.ipynb\" target=\"_parent\"><img src=\"https://colab.research.google.com/assets/colab-badge.svg\" alt=\"Open In Colab\"/></a>"
      ]
    },
    {
      "cell_type": "markdown",
      "source": [
        "### mart 판매 데이터를 기반으로 판매액을 예측하시오.\n",
        "- 제공된 데이터 목록: mart_train.csv (훈련 데이터), mart_test.csv (평가용 데이터)\n",
        "- 예측할 컬럼: total (총 판매액)\n",
        "학습용 데이터(mart_train.csv)를 이용하여 총 판매액을 예측하는 모델을 만든 후, 이를 평가용 데이터(mart_test.csv)에 적용하여 얻은 예측값을 다음과 같은 형식의 CSV 파일로 생성하시오.\n",
        "- 제출 파일은 다음 한 개의 컬럼을 포함해야 합니다.\n",
        "- pred: 예측된 총 판매액\n",
        "- 제출 파일명: 'result.csv'\n",
        "- 제출한 모델의 성능은 RMSE(Root Mean Square Error) 평가지표에 따라 채점한다.\n",
        "- 제출 CSV 파일명 및 형태: result.csv\n",
        "\n",
        "~~~\n",
        "pred\n",
        "10000\n",
        "20000\n",
        "30000\n",
        "40000\n",
        "...\n",
        "~~~\n",
        "\n",
        "### 답안 제출 참고\n",
        "- pd.read_csv('result.csv') 로 제출 코드 확인"
      ],
      "metadata": {
        "id": "KBEr9K-lV_M6"
      }
    },
    {
      "cell_type": "markdown",
      "source": [
        "# 1. 문제정의\n",
        "- RMSE\n",
        "- target: total\n",
        "- 예측 파일명: result.csv\n",
        "- 컬럼 1개(pred)"
      ],
      "metadata": {
        "id": "Ae4v-2ju1mWi"
      }
    },
    {
      "cell_type": "markdown",
      "source": [
        "# 2. 라이브러리 및 데이터 불러오기"
      ],
      "metadata": {
        "id": "qgSesVv_1qP_"
      }
    },
    {
      "cell_type": "code",
      "source": [
        "# 데이터 불러오기\n",
        "import pandas as pd\n",
        "train = pd.read_csv(\"mart_train.csv\")\n",
        "test = pd.read_csv(\"mart_test.csv\")"
      ],
      "metadata": {
        "id": "30wq46-FfSt_"
      },
      "execution_count": null,
      "outputs": []
    },
    {
      "cell_type": "markdown",
      "source": [
        "# 3. 탐색적 데이터 분석(EDA)"
      ],
      "metadata": {
        "id": "3dAHY3V1lWxV"
      }
    },
    {
      "cell_type": "code",
      "source": [
        "# 데이터 크기 확인\n"
      ],
      "metadata": {
        "id": "0YRdxQxifwf9"
      },
      "execution_count": null,
      "outputs": []
    },
    {
      "cell_type": "code",
      "source": [
        "# train 샘플 확인\n"
      ],
      "metadata": {
        "id": "F_k-MGd-f4Iw"
      },
      "execution_count": null,
      "outputs": []
    },
    {
      "cell_type": "code",
      "source": [
        "# test 샘플 확인\n"
      ],
      "metadata": {
        "id": "pKT3QURYykAP"
      },
      "execution_count": null,
      "outputs": []
    },
    {
      "cell_type": "code",
      "source": [
        "# 자료형 확인\n"
      ],
      "metadata": {
        "id": "FIRfcqHVgPxr"
      },
      "execution_count": null,
      "outputs": []
    },
    {
      "cell_type": "code",
      "source": [
        "# train 기초 통계값 확인\n"
      ],
      "metadata": {
        "id": "q1hofG4HinUJ"
      },
      "execution_count": null,
      "outputs": []
    },
    {
      "cell_type": "code",
      "source": [
        "# test 기초 통계값 확인\n"
      ],
      "metadata": {
        "id": "wsL0DtiAOnXw"
      },
      "execution_count": null,
      "outputs": []
    },
    {
      "cell_type": "code",
      "source": [
        "# train 기초 통계값 (Object)\n"
      ],
      "metadata": {
        "id": "AB_yqbISlMn-"
      },
      "execution_count": null,
      "outputs": []
    },
    {
      "cell_type": "code",
      "source": [
        "# test 기초 통계값 (Object)\n"
      ],
      "metadata": {
        "id": "xJbcsyOxlSRu"
      },
      "execution_count": null,
      "outputs": []
    },
    {
      "cell_type": "code",
      "source": [
        "# train 결측치\n"
      ],
      "metadata": {
        "id": "HD9OAVRNnd-O"
      },
      "execution_count": null,
      "outputs": []
    },
    {
      "cell_type": "code",
      "source": [
        "# test 결측치\n"
      ],
      "metadata": {
        "id": "kL6lokT5neA-"
      },
      "execution_count": null,
      "outputs": []
    },
    {
      "cell_type": "code",
      "source": [
        "# 타겟 (value_count())\n"
      ],
      "metadata": {
        "id": "nd5vn9iciu2i"
      },
      "execution_count": null,
      "outputs": []
    },
    {
      "cell_type": "code",
      "source": [
        "# target (분포)\n"
      ],
      "metadata": {
        "id": "a5WVQ2EFUCYL"
      },
      "execution_count": null,
      "outputs": []
    },
    {
      "cell_type": "code",
      "source": [
        "# target (분포, 시각화)\n"
      ],
      "metadata": {
        "id": "BjIBAFeOPCLW"
      },
      "execution_count": null,
      "outputs": []
    },
    {
      "cell_type": "markdown",
      "source": [
        "# 4. 데이터 전처리"
      ],
      "metadata": {
        "id": "UvVLoQBP1z5A"
      }
    },
    {
      "cell_type": "code",
      "source": [
        "# target\n"
      ],
      "metadata": {
        "id": "C6UGliMFcMhf"
      },
      "execution_count": null,
      "outputs": []
    },
    {
      "cell_type": "code",
      "source": [
        "# 원핫인코딩\n"
      ],
      "metadata": {
        "id": "nkWaHf1izCqr"
      },
      "execution_count": null,
      "outputs": []
    },
    {
      "cell_type": "markdown",
      "source": [
        "# 5. 검증 데이터 분할"
      ],
      "metadata": {
        "id": "6KND1n8b14uj"
      }
    },
    {
      "cell_type": "code",
      "source": [
        "# 검증데이터 분할\n"
      ],
      "metadata": {
        "id": "qvHUGFeFhyqu"
      },
      "execution_count": null,
      "outputs": []
    },
    {
      "cell_type": "markdown",
      "source": [
        "# 6. 머신러닝 학습 및 평가"
      ],
      "metadata": {
        "id": "VAhoGGf-17uM"
      }
    },
    {
      "cell_type": "code",
      "source": [
        "# RMSE\n"
      ],
      "metadata": {
        "id": "Ra2PAD0YzZJN"
      },
      "execution_count": null,
      "outputs": []
    },
    {
      "cell_type": "code",
      "source": [
        "# 선형회귀\n"
      ],
      "metadata": {
        "id": "6B_UWz_a2pTh"
      },
      "execution_count": null,
      "outputs": []
    },
    {
      "cell_type": "code",
      "source": [
        "# 랜덤포레스트\n"
      ],
      "metadata": {
        "id": "xA5lV-MXh3sZ"
      },
      "execution_count": null,
      "outputs": []
    },
    {
      "cell_type": "code",
      "source": [
        "# Xgboost\n"
      ],
      "metadata": {
        "id": "dQQLUXcb29eT"
      },
      "execution_count": null,
      "outputs": []
    },
    {
      "cell_type": "code",
      "source": [
        "# LightGBM\n"
      ],
      "metadata": {
        "id": "3Q8K93uM29ma"
      },
      "execution_count": null,
      "outputs": []
    },
    {
      "cell_type": "markdown",
      "source": [
        "# 7. 예측 및 결과 파일 생성"
      ],
      "metadata": {
        "id": "Cx5zX7W4iL4F"
      }
    },
    {
      "cell_type": "code",
      "source": [
        "# test예측 및 csv 생성\n"
      ],
      "metadata": {
        "id": "aZRKbOifiJYA"
      },
      "execution_count": null,
      "outputs": []
    },
    {
      "cell_type": "code",
      "source": [
        "# result.csv 확인\n"
      ],
      "metadata": {
        "id": "74VLjg8vv_Kw"
      },
      "execution_count": null,
      "outputs": []
    },
    {
      "cell_type": "code",
      "source": [],
      "metadata": {
        "id": "ZpZWC0jOPWqd"
      },
      "execution_count": null,
      "outputs": []
    },
    {
      "cell_type": "code",
      "source": [],
      "metadata": {
        "id": "KlSj3umvPWs6"
      },
      "execution_count": null,
      "outputs": []
    },
    {
      "cell_type": "markdown",
      "source": [
        "# [심화] 성능 개선"
      ],
      "metadata": {
        "id": "VyH2Xd_8Dh-B"
      }
    },
    {
      "cell_type": "code",
      "source": [
        "# 데이터 불러오기\n",
        "import pandas as pd\n",
        "train = pd.read_csv(\"mart_train.csv\")\n",
        "test = pd.read_csv(\"mart_test.csv\")\n",
        "\n",
        "# target 데이터\n",
        "\n",
        "\n",
        "# 레이블 인코딩\n",
        "\n",
        "\n",
        "# 검증데이터 분리\n",
        "\n",
        "\n",
        "# 선형회귀\n",
        "\n",
        "\n",
        "# 랜덤포레스트\n",
        "\n",
        "\n",
        "# Xgboost\n",
        "\n",
        "\n",
        "# LightGBM\n",
        "\n",
        "\n",
        "# 최종 제출 파일\n"
      ],
      "metadata": {
        "id": "r1ByVJ6b6q8a"
      },
      "execution_count": null,
      "outputs": []
    }
  ]
}