{
  "nbformat": 4,
  "nbformat_minor": 0,
  "metadata": {
    "colab": {
      "provenance": [],
      "include_colab_link": true
    },
    "kernelspec": {
      "name": "python3",
      "display_name": "Python 3"
    },
    "language_info": {
      "name": "python"
    }
  },
  "cells": [
    {
      "cell_type": "markdown",
      "metadata": {
        "id": "view-in-github",
        "colab_type": "text"
      },
      "source": [
        "<a href=\"https://colab.research.google.com/github/takuxp/bigdata_study/blob/main/type2_3rd(blank).ipynb\" target=\"_parent\"><img src=\"https://colab.research.google.com/assets/colab-badge.svg\" alt=\"Open In Colab\"/></a>"
      ]
    },
    {
      "cell_type": "markdown",
      "source": [
        "# 작업형2\n",
        "- 빅데이터 분석기사 3회 실기\n",
        "- 제공된 데이터\n",
        "    - train.csv\n",
        "    - test.csv\n",
        "- 예측할 컬럼 : TravelInsurance\n",
        "\n",
        "### 시험에서 제공된 코드\n",
        "~~~\n",
        "import pandas as pd\n",
        "a = pd.read_csv(\"train.csv\")\n",
        "b = pd.read_csv('test.csv')\n",
        "\n",
        "pd.DataFrame(변수).to_csv('000000000.csv')\n",
        "~~~\n",
        "\n",
        "\n",
        "### 보험가입 확률을 묻는 문제\n",
        "~~~\n",
        "# csv 형태\n",
        "# index,y_pred\n",
        "# 0,0.152467\n",
        "# 1,0.961511\n",
        "# 2,0.151313\n",
        "# 3,0.236632\n",
        "...\n",
        "# 494,0.121372\n",
        "# 495,0.965155\n",
        "# 496,0.986405\n",
        "\n",
        "~~~\n"
      ],
      "metadata": {
        "id": "yOX8hBk5gKrW"
      }
    },
    {
      "cell_type": "markdown",
      "source": [
        "## 데이터 불러오기"
      ],
      "metadata": {
        "id": "R9ZoHIuwayfL"
      }
    },
    {
      "cell_type": "code",
      "source": [
        "import pandas as pd\n",
        "train = pd.read_csv(\"train.csv\")\n",
        "test = pd.read_csv(\"test.csv\")"
      ],
      "metadata": {
        "id": "aLTgo8rZYtxs"
      },
      "execution_count": null,
      "outputs": []
    },
    {
      "cell_type": "markdown",
      "source": [
        "## EDA"
      ],
      "metadata": {
        "id": "-dVefrwPjPFJ"
      }
    },
    {
      "cell_type": "code",
      "source": [
        "# 크기 확인\n"
      ],
      "metadata": {
        "id": "PWyD54YKgo2W"
      },
      "execution_count": null,
      "outputs": []
    },
    {
      "cell_type": "code",
      "source": [
        "# 샘플 확인\n"
      ],
      "metadata": {
        "id": "e8nOHgTbULpH"
      },
      "execution_count": null,
      "outputs": []
    },
    {
      "cell_type": "code",
      "source": [
        "# 타입 확인\n"
      ],
      "metadata": {
        "id": "_ds65WrHhuL0"
      },
      "execution_count": null,
      "outputs": []
    },
    {
      "cell_type": "code",
      "source": [
        "# 결측치 확인 train\n"
      ],
      "metadata": {
        "id": "A1b58WRMhwcv"
      },
      "execution_count": null,
      "outputs": []
    },
    {
      "cell_type": "code",
      "source": [
        "# 결측치 확인 test\n"
      ],
      "metadata": {
        "id": "AqBK3RjVjdML"
      },
      "execution_count": null,
      "outputs": []
    },
    {
      "cell_type": "code",
      "source": [
        "# 기초 통계 획인\n"
      ],
      "metadata": {
        "id": "f_NXrYdojgAa"
      },
      "execution_count": null,
      "outputs": []
    },
    {
      "cell_type": "code",
      "source": [
        "# 기초 통계 획인 object\n"
      ],
      "metadata": {
        "id": "MHCAKNAEjqGq"
      },
      "execution_count": null,
      "outputs": []
    },
    {
      "cell_type": "code",
      "source": [
        "# 타겟(레이블)\n"
      ],
      "metadata": {
        "id": "2kppEcMPjVAE"
      },
      "execution_count": null,
      "outputs": []
    },
    {
      "cell_type": "markdown",
      "source": [
        "## 데이터 전처리 및 피처엔지니어링"
      ],
      "metadata": {
        "id": "KnNu9bH3kJfD"
      }
    },
    {
      "cell_type": "code",
      "source": [
        "# 수치형 데이터와 범주형 데이터 분리\n"
      ],
      "metadata": {
        "id": "JAglZ4dipalH"
      },
      "execution_count": null,
      "outputs": []
    },
    {
      "cell_type": "code",
      "source": [
        "# 수치형 변수 스케일링\n"
      ],
      "metadata": {
        "id": "Q5n67S9isN2r"
      },
      "execution_count": null,
      "outputs": []
    },
    {
      "cell_type": "code",
      "source": [
        "# 범주형 변수 인코딩\n"
      ],
      "metadata": {
        "id": "58MMwhWvWK6m"
      },
      "execution_count": null,
      "outputs": []
    },
    {
      "cell_type": "code",
      "source": [
        "# 분리한 데이터 다시 합침\n"
      ],
      "metadata": {
        "id": "4u8sKvxvWK9C"
      },
      "execution_count": null,
      "outputs": []
    },
    {
      "cell_type": "markdown",
      "source": [
        "## 검증데이터 분리"
      ],
      "metadata": {
        "id": "6xji7dInWPIt"
      }
    },
    {
      "cell_type": "code",
      "source": [
        "# 검증데이터 분리\n"
      ],
      "metadata": {
        "id": "5Tm50rN8WLCC"
      },
      "execution_count": null,
      "outputs": []
    },
    {
      "cell_type": "markdown",
      "source": [
        "## 모델 학습 및 예측"
      ],
      "metadata": {
        "id": "LyQpOqabwezg"
      }
    },
    {
      "cell_type": "code",
      "source": [
        "# 랜덤포레스트\n"
      ],
      "metadata": {
        "id": "CCcKbm3YWRqq"
      },
      "execution_count": null,
      "outputs": []
    },
    {
      "cell_type": "code",
      "source": [
        "# 평가\n"
      ],
      "metadata": {
        "id": "eRtHFtY3WRvD"
      },
      "execution_count": null,
      "outputs": []
    },
    {
      "cell_type": "markdown",
      "source": [
        "## 예측"
      ],
      "metadata": {
        "id": "uzcaytQFWbEg"
      }
    },
    {
      "cell_type": "code",
      "source": [
        "# test 예측\n"
      ],
      "metadata": {
        "id": "3cdDgmw4Wh9e"
      },
      "execution_count": null,
      "outputs": []
    },
    {
      "cell_type": "code",
      "source": [
        "# csv 파일1 생성 (예시와 다른 형태)\n"
      ],
      "metadata": {
        "id": "J_wOL-yWWYu9"
      },
      "execution_count": null,
      "outputs": []
    },
    {
      "cell_type": "code",
      "source": [
        "# csv 파일2 생성\n"
      ],
      "metadata": {
        "id": "1QLrPD6iWYxc"
      },
      "execution_count": null,
      "outputs": []
    },
    {
      "cell_type": "code",
      "source": [
        "# csv 파일1 확인\n"
      ],
      "metadata": {
        "id": "e_E1YQSjWmvD"
      },
      "execution_count": null,
      "outputs": []
    },
    {
      "cell_type": "code",
      "source": [
        "# csv 파일2 확인\n"
      ],
      "metadata": {
        "id": "zWqTvd9OWmxw"
      },
      "execution_count": null,
      "outputs": []
    },
    {
      "cell_type": "markdown",
      "source": [
        "## 체점\n",
        "- 수험자는 알 수 없는 부분임"
      ],
      "metadata": {
        "id": "9-zAKxt2uzFa"
      }
    },
    {
      "cell_type": "code",
      "source": [
        "# y_test = pd.read_csv(\"y_test.csv\")\n",
        "# roc_auc_score(y_test, pred)"
      ],
      "metadata": {
        "id": "ofAnKoNVu0At"
      },
      "execution_count": null,
      "outputs": []
    },
    {
      "cell_type": "code",
      "source": [
        "# 당신의 score는?: 0.7875693000693"
      ],
      "metadata": {
        "id": "r-L5ToHOvqWX"
      },
      "execution_count": null,
      "outputs": []
    }
  ]
}