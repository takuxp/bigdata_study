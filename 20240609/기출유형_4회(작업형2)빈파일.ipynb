{
  "cells": [
    {
      "cell_type": "markdown",
      "metadata": {
        "colab_type": "text",
        "id": "view-in-github"
      },
      "source": [
        "<a href=\"https://colab.research.google.com/github/takuxp/bigdata_study/blob/main/%EA%B8%B0%EC%B6%9C%EC%9C%A0%ED%98%95_4%ED%9A%8C(%EC%9E%91%EC%97%85%ED%98%952).ipynb\" target=\"_parent\"><img src=\"https://colab.research.google.com/assets/colab-badge.svg\" alt=\"Open In Colab\"/></a>"
      ]
    },
    {
      "cell_type": "markdown",
      "metadata": {
        "id": "oC9z3kUJZ1HB"
      },
      "source": [
        "## Q. [마케팅] 자동차 시장 세분화\n",
        "- 자동차 회사는 새로운 전략을 수립하기 위해 4개의 시장으로 세분화했습니다.\n",
        "- 기존 고객 분류 자료를 바탕으로 신규 고객이 어떤 분류에 속할지 예측해주세요!\n",
        "\n",
        "\n",
        "- 예측할 값(y): \"Segmentation\" (1,2,3,4)\n",
        "- 평가: Macro f1-score\n",
        "- data: train.csv, test.csv\n",
        "- 제출 형식:\n",
        "~~~\n",
        "ID,Segmentation\n",
        "458989,1\n",
        "458994,2\n",
        "459000,3\n",
        "459003,4\n",
        "~~~\n",
        "\n",
        "### 답안 제출 참고\n",
        "- 아래 코드 예측변수와 수험번호를 개인별로 변경하여 활용\n",
        "- pd.DataFrame({'ID': test.ID, 'Segmentation': pred}).to_csv('003000000.csv', index=False)\n",
        "\n",
        "### 노트북 구분\n",
        "- basic: 수치형 데이터만 활용 -> 학습 및 test데이터 예측\n",
        "- intermediate: 범주형 데이터도 활용 -> 학습 및 test데이터 예측\n",
        "- advanced: 학습 및 교차 검증(모델 평가) -> 하이퍼파라미터 튜닝 -> test데이터 예측"
      ]
    },
    {
      "cell_type": "code",
      "execution_count": 81,
      "metadata": {
        "id": "8nImjGCxZrfA"
      },
      "outputs": [],
      "source": [
        "# 라이브러리 불러오기\n",
        "import pandas as pd"
      ]
    },
    {
      "cell_type": "code",
      "execution_count": 82,
      "metadata": {
        "id": "7UqUbkWIZ4-B"
      },
      "outputs": [],
      "source": [
        "# 데이터 불러오기\n",
        "train = pd.read_csv(\"./4회기출작업형2/train.csv\")\n",
        "test = pd.read_csv(\"./4회기출작업형2/test.csv\")"
      ]
    },
    {
      "cell_type": "markdown",
      "metadata": {
        "id": "QyXwUKCDZ9dz"
      },
      "source": [
        "# 🍭 basic 단계 🍭  \n",
        "- 목표: 수치형 데이터만이라도 활용해 제출하자!!!👍"
      ]
    },
    {
      "cell_type": "markdown",
      "metadata": {
        "id": "ZLDSXSalaBt7"
      },
      "source": [
        "## EDA"
      ]
    },
    {
      "cell_type": "code",
      "execution_count": 83,
      "metadata": {
        "colab": {
          "base_uri": "https://localhost:8080/"
        },
        "id": "aO2Y-M7QZ77v",
        "outputId": "2ff336cf-6d61-4c61-e938-45c328cdc8e4"
      },
      "outputs": [
        {
          "name": "stdout",
          "output_type": "stream",
          "text": [
            "(6665, 11)\n",
            "(2154, 10)\n"
          ]
        }
      ],
      "source": [
        "# 데이터 크기 확인\n",
        "print(train.shape)\n",
        "print(test.shape)"
      ]
    },
    {
      "cell_type": "code",
      "execution_count": 84,
      "metadata": {
        "colab": {
          "base_uri": "https://localhost:8080/",
          "height": 270
        },
        "id": "92OCwgFCaDFa",
        "outputId": "54c045ab-ee3e-45b9-ea1b-2c944b32592b"
      },
      "outputs": [
        {
          "name": "stdout",
          "output_type": "stream",
          "text": [
            "       ID  Gender Ever_Married  Age Graduated  Profession  Work_Experience  \\\n",
            "0  462809    Male           No   22        No  Healthcare              1.0   \n",
            "1  466315  Female          Yes   67       Yes    Engineer              1.0   \n",
            "2  461735    Male          Yes   67       Yes      Lawyer              0.0   \n",
            "3  461319    Male          Yes   56        No      Artist              0.0   \n",
            "4  460156    Male           No   32       Yes  Healthcare              1.0   \n",
            "\n",
            "  Spending_Score  Family_Size  Var_1  Segmentation  \n",
            "0            Low          4.0  Cat_4             4  \n",
            "1            Low          1.0  Cat_6             2  \n",
            "2           High          2.0  Cat_6             2  \n",
            "3        Average          2.0  Cat_6             3  \n",
            "4            Low          3.0  Cat_6             3  \n"
          ]
        }
      ],
      "source": [
        "# train 샘플 확인\n",
        "print(train.head())"
      ]
    },
    {
      "cell_type": "code",
      "execution_count": 85,
      "metadata": {
        "colab": {
          "base_uri": "https://localhost:8080/",
          "height": 270
        },
        "id": "gfLvsut4aEBa",
        "outputId": "23363325-2701-4b23-9339-eb6e6557861c"
      },
      "outputs": [
        {
          "name": "stdout",
          "output_type": "stream",
          "text": [
            "       ID  Gender Ever_Married  Age Graduated  Profession  Work_Experience  \\\n",
            "0  458989  Female          Yes   36       Yes    Engineer              0.0   \n",
            "1  458994    Male          Yes   37       Yes  Healthcare              8.0   \n",
            "2  459000    Male          Yes   59        No   Executive             11.0   \n",
            "3  459003    Male          Yes   47       Yes      Doctor              0.0   \n",
            "4  459005    Male          Yes   61       Yes      Doctor              5.0   \n",
            "\n",
            "  Spending_Score  Family_Size  Var_1  \n",
            "0            Low          1.0  Cat_6  \n",
            "1        Average          4.0  Cat_6  \n",
            "2           High          2.0  Cat_6  \n",
            "3           High          5.0  Cat_4  \n",
            "4            Low          3.0  Cat_6  \n"
          ]
        }
      ],
      "source": [
        "# test 샘플 확인\n",
        "print(test.head())"
      ]
    },
    {
      "cell_type": "code",
      "execution_count": 86,
      "metadata": {
        "colab": {
          "base_uri": "https://localhost:8080/"
        },
        "id": "3hf5kmbEaFRd",
        "outputId": "167712b0-ff56-4611-f7c1-63135a5d8fdb"
      },
      "outputs": [
        {
          "data": {
            "text/plain": [
              "0    4\n",
              "1    2\n",
              "2    2\n",
              "3    3\n",
              "4    3\n",
              "Name: Segmentation, dtype: int64"
            ]
          },
          "execution_count": 86,
          "metadata": {},
          "output_type": "execute_result"
        }
      ],
      "source": [
        "# target 확인\n",
        "train.Segmentation.head()"
      ]
    },
    {
      "cell_type": "code",
      "execution_count": 87,
      "metadata": {
        "colab": {
          "base_uri": "https://localhost:8080/"
        },
        "id": "JVTrgDBWaGct",
        "outputId": "c9dbbcef-ff1d-4412-9128-1df6d28c4fa6"
      },
      "outputs": [
        {
          "data": {
            "text/plain": [
              "ID                 0\n",
              "Gender             0\n",
              "Ever_Married       0\n",
              "Age                0\n",
              "Graduated          0\n",
              "Profession         0\n",
              "Work_Experience    0\n",
              "Spending_Score     0\n",
              "Family_Size        0\n",
              "Var_1              0\n",
              "Segmentation       0\n",
              "dtype: int64"
            ]
          },
          "execution_count": 87,
          "metadata": {},
          "output_type": "execute_result"
        }
      ],
      "source": [
        "# 결측치 확인(train)\n",
        "train.isnull().sum()"
      ]
    },
    {
      "cell_type": "code",
      "execution_count": 88,
      "metadata": {
        "colab": {
          "base_uri": "https://localhost:8080/"
        },
        "id": "UCeNDtcYaJOs",
        "outputId": "8d850705-0bc3-47de-e16a-ed6d8260116e"
      },
      "outputs": [
        {
          "data": {
            "text/plain": [
              "ID                 0\n",
              "Gender             0\n",
              "Ever_Married       0\n",
              "Age                0\n",
              "Graduated          0\n",
              "Profession         0\n",
              "Work_Experience    0\n",
              "Spending_Score     0\n",
              "Family_Size        0\n",
              "Var_1              0\n",
              "dtype: int64"
            ]
          },
          "execution_count": 88,
          "metadata": {},
          "output_type": "execute_result"
        }
      ],
      "source": [
        "# 결측치 확인(test)\n",
        "test.isnull().sum()"
      ]
    },
    {
      "cell_type": "code",
      "execution_count": 89,
      "metadata": {
        "colab": {
          "base_uri": "https://localhost:8080/"
        },
        "id": "fqO3eEM-aKjV",
        "outputId": "27cadcf2-0a66-4028-8a28-1bdde718b23d"
      },
      "outputs": [
        {
          "name": "stdout",
          "output_type": "stream",
          "text": [
            "<class 'pandas.core.frame.DataFrame'>\n",
            "RangeIndex: 6665 entries, 0 to 6664\n",
            "Data columns (total 11 columns):\n",
            " #   Column           Non-Null Count  Dtype  \n",
            "---  ------           --------------  -----  \n",
            " 0   ID               6665 non-null   int64  \n",
            " 1   Gender           6665 non-null   object \n",
            " 2   Ever_Married     6665 non-null   object \n",
            " 3   Age              6665 non-null   int64  \n",
            " 4   Graduated        6665 non-null   object \n",
            " 5   Profession       6665 non-null   object \n",
            " 6   Work_Experience  6665 non-null   float64\n",
            " 7   Spending_Score   6665 non-null   object \n",
            " 8   Family_Size      6665 non-null   float64\n",
            " 9   Var_1            6665 non-null   object \n",
            " 10  Segmentation     6665 non-null   int64  \n",
            "dtypes: float64(2), int64(3), object(6)\n",
            "memory usage: 572.9+ KB\n"
          ]
        }
      ],
      "source": [
        "# type 확인\n",
        "train.info()"
      ]
    },
    {
      "cell_type": "markdown",
      "metadata": {
        "id": "Aq-55148aN2j"
      },
      "source": [
        "## 전처리"
      ]
    },
    {
      "cell_type": "code",
      "execution_count": 90,
      "metadata": {
        "colab": {
          "base_uri": "https://localhost:8080/"
        },
        "id": "dS7HIdptaL9k",
        "outputId": "7cc0eb97-7cfb-49f1-93a8-7bea345c0535"
      },
      "outputs": [
        {
          "name": "stdout",
          "output_type": "stream",
          "text": [
            "0       4\n",
            "1       2\n",
            "2       2\n",
            "3       3\n",
            "4       3\n",
            "       ..\n",
            "6660    2\n",
            "6661    4\n",
            "6662    4\n",
            "6663    2\n",
            "6664    2\n",
            "Name: Segmentation, Length: 6665, dtype: int64 0       462809\n",
            "1       466315\n",
            "2       461735\n",
            "3       461319\n",
            "4       460156\n",
            "         ...  \n",
            "6660    463002\n",
            "6661    464685\n",
            "6662    465406\n",
            "6663    467299\n",
            "6664    461879\n",
            "Name: ID, Length: 6665, dtype: int64\n"
          ]
        }
      ],
      "source": [
        "# target(y, label) 값 복사\n",
        "train_target = train.pop('Segmentation')\n",
        "train_id = train.pop('ID')\n",
        "print(train_target, train_id)"
      ]
    },
    {
      "cell_type": "code",
      "execution_count": 91,
      "metadata": {
        "id": "UJXIqETwaNUg"
      },
      "outputs": [],
      "source": [
        "# test데이터 ID 복사\n",
        "test_id = test.pop('ID')"
      ]
    },
    {
      "cell_type": "code",
      "execution_count": 92,
      "metadata": {
        "colab": {
          "base_uri": "https://localhost:8080/",
          "height": 112
        },
        "id": "MhI6CmqLaQqK",
        "outputId": "bad3c602-7886-4758-9ee1-f2d005ed186c"
      },
      "outputs": [],
      "source": [
        "# 수치형 컬럼(train)\n",
        "cols = ['Age', 'Work_Experience', 'Family_Size']"
      ]
    },
    {
      "cell_type": "code",
      "execution_count": 93,
      "metadata": {
        "colab": {
          "base_uri": "https://localhost:8080/",
          "height": 112
        },
        "id": "TUh-EfexaRyU",
        "outputId": "b6f5dba3-f9fe-4b08-cb06-fd69da7c59fb"
      },
      "outputs": [
        {
          "name": "stdout",
          "output_type": "stream",
          "text": [
            "<class 'pandas.core.frame.DataFrame'>\n",
            "RangeIndex: 2154 entries, 0 to 2153\n",
            "Data columns (total 9 columns):\n",
            " #   Column           Non-Null Count  Dtype  \n",
            "---  ------           --------------  -----  \n",
            " 0   Gender           2154 non-null   object \n",
            " 1   Ever_Married     2154 non-null   object \n",
            " 2   Age              2154 non-null   int64  \n",
            " 3   Graduated        2154 non-null   object \n",
            " 4   Profession       2154 non-null   object \n",
            " 5   Work_Experience  2154 non-null   float64\n",
            " 6   Spending_Score   2154 non-null   object \n",
            " 7   Family_Size      2154 non-null   float64\n",
            " 8   Var_1            2154 non-null   object \n",
            "dtypes: float64(2), int64(1), object(6)\n",
            "memory usage: 151.6+ KB\n"
          ]
        }
      ],
      "source": [
        "# 수치형 컬럼(test)\n",
        "test.info()\n",
        "test_cols = ['Age', 'Work_Experience', 'Family_Size']"
      ]
    },
    {
      "cell_type": "markdown",
      "metadata": {
        "id": "Owi4s49caU2Q"
      },
      "source": [
        "## model 학습 및 예측"
      ]
    },
    {
      "cell_type": "code",
      "execution_count": 94,
      "metadata": {
        "colab": {
          "base_uri": "https://localhost:8080/"
        },
        "id": "ovhVAckXaTC9",
        "outputId": "95686276-8590-4c13-bc06-69f0c178eed4"
      },
      "outputs": [
        {
          "data": {
            "text/plain": [
              "array([2, 3, 3, ..., 4, 3, 1])"
            ]
          },
          "execution_count": 94,
          "metadata": {},
          "output_type": "execute_result"
        }
      ],
      "source": [
        "# 모델 선택 및 학습\n",
        "from sklearn.ensemble import RandomForestClassifier\n",
        "rf = RandomForestClassifier()\n",
        "model = rf.fit(train[cols], train_target)\n",
        "pred = model.predict(test[cols])\n",
        "pred"
      ]
    },
    {
      "cell_type": "code",
      "execution_count": 95,
      "metadata": {
        "colab": {
          "base_uri": "https://localhost:8080/",
          "height": 424
        },
        "id": "Q3lfEPS4aVJ6",
        "outputId": "6ab1ce50-873b-42a7-b0a9-248e41c8581f"
      },
      "outputs": [],
      "source": [
        "# 예측 결과 -> 데이터 프레임\n",
        "result = pd.DataFrame({\n",
        "    'ID': test_id,\n",
        "    'Segmentation': pred\n",
        "})"
      ]
    },
    {
      "cell_type": "code",
      "execution_count": 96,
      "metadata": {
        "id": "Y79W76maaXu3"
      },
      "outputs": [],
      "source": [
        "result.to_csv('000000.csv', index=False)"
      ]
    },
    {
      "cell_type": "markdown",
      "metadata": {
        "id": "NOe-Vsv1actA"
      },
      "source": [
        "# 🍭 intermediate 단계 🍭\n",
        "- 목표: 범주형(카테고리)데이터 활용하기"
      ]
    },
    {
      "cell_type": "code",
      "execution_count": 97,
      "metadata": {
        "id": "q0HYLn6waZL5"
      },
      "outputs": [],
      "source": [
        "# 라이브러리 불러오기\n",
        "import pandas as pd"
      ]
    },
    {
      "cell_type": "code",
      "execution_count": 98,
      "metadata": {
        "id": "Bby-oJyfafQs"
      },
      "outputs": [],
      "source": [
        "# 데이터 불러오기\n",
        "train = pd.read_csv(\"./4회기출작업형2/train.csv\")\n",
        "test = pd.read_csv(\"./4회기출작업형2/test.csv\")"
      ]
    },
    {
      "cell_type": "markdown",
      "metadata": {
        "id": "JojF4Gt4aj58"
      },
      "source": [
        "## EDA"
      ]
    },
    {
      "cell_type": "code",
      "execution_count": 99,
      "metadata": {
        "colab": {
          "base_uri": "https://localhost:8080/",
          "height": 270
        },
        "id": "umpEQ1QraiG8",
        "outputId": "912a3e83-e5a5-417b-f3a4-7fc38bfe93bc"
      },
      "outputs": [
        {
          "data": {
            "text/html": [
              "<div>\n",
              "<style scoped>\n",
              "    .dataframe tbody tr th:only-of-type {\n",
              "        vertical-align: middle;\n",
              "    }\n",
              "\n",
              "    .dataframe tbody tr th {\n",
              "        vertical-align: top;\n",
              "    }\n",
              "\n",
              "    .dataframe thead th {\n",
              "        text-align: right;\n",
              "    }\n",
              "</style>\n",
              "<table border=\"1\" class=\"dataframe\">\n",
              "  <thead>\n",
              "    <tr style=\"text-align: right;\">\n",
              "      <th></th>\n",
              "      <th>ID</th>\n",
              "      <th>Gender</th>\n",
              "      <th>Ever_Married</th>\n",
              "      <th>Age</th>\n",
              "      <th>Graduated</th>\n",
              "      <th>Profession</th>\n",
              "      <th>Work_Experience</th>\n",
              "      <th>Spending_Score</th>\n",
              "      <th>Family_Size</th>\n",
              "      <th>Var_1</th>\n",
              "      <th>Segmentation</th>\n",
              "    </tr>\n",
              "  </thead>\n",
              "  <tbody>\n",
              "    <tr>\n",
              "      <th>0</th>\n",
              "      <td>462809</td>\n",
              "      <td>Male</td>\n",
              "      <td>No</td>\n",
              "      <td>22</td>\n",
              "      <td>No</td>\n",
              "      <td>Healthcare</td>\n",
              "      <td>1.0</td>\n",
              "      <td>Low</td>\n",
              "      <td>4.0</td>\n",
              "      <td>Cat_4</td>\n",
              "      <td>4</td>\n",
              "    </tr>\n",
              "    <tr>\n",
              "      <th>1</th>\n",
              "      <td>466315</td>\n",
              "      <td>Female</td>\n",
              "      <td>Yes</td>\n",
              "      <td>67</td>\n",
              "      <td>Yes</td>\n",
              "      <td>Engineer</td>\n",
              "      <td>1.0</td>\n",
              "      <td>Low</td>\n",
              "      <td>1.0</td>\n",
              "      <td>Cat_6</td>\n",
              "      <td>2</td>\n",
              "    </tr>\n",
              "    <tr>\n",
              "      <th>2</th>\n",
              "      <td>461735</td>\n",
              "      <td>Male</td>\n",
              "      <td>Yes</td>\n",
              "      <td>67</td>\n",
              "      <td>Yes</td>\n",
              "      <td>Lawyer</td>\n",
              "      <td>0.0</td>\n",
              "      <td>High</td>\n",
              "      <td>2.0</td>\n",
              "      <td>Cat_6</td>\n",
              "      <td>2</td>\n",
              "    </tr>\n",
              "    <tr>\n",
              "      <th>3</th>\n",
              "      <td>461319</td>\n",
              "      <td>Male</td>\n",
              "      <td>Yes</td>\n",
              "      <td>56</td>\n",
              "      <td>No</td>\n",
              "      <td>Artist</td>\n",
              "      <td>0.0</td>\n",
              "      <td>Average</td>\n",
              "      <td>2.0</td>\n",
              "      <td>Cat_6</td>\n",
              "      <td>3</td>\n",
              "    </tr>\n",
              "    <tr>\n",
              "      <th>4</th>\n",
              "      <td>460156</td>\n",
              "      <td>Male</td>\n",
              "      <td>No</td>\n",
              "      <td>32</td>\n",
              "      <td>Yes</td>\n",
              "      <td>Healthcare</td>\n",
              "      <td>1.0</td>\n",
              "      <td>Low</td>\n",
              "      <td>3.0</td>\n",
              "      <td>Cat_6</td>\n",
              "      <td>3</td>\n",
              "    </tr>\n",
              "  </tbody>\n",
              "</table>\n",
              "</div>"
            ],
            "text/plain": [
              "       ID  Gender Ever_Married  Age Graduated  Profession  Work_Experience  \\\n",
              "0  462809    Male           No   22        No  Healthcare              1.0   \n",
              "1  466315  Female          Yes   67       Yes    Engineer              1.0   \n",
              "2  461735    Male          Yes   67       Yes      Lawyer              0.0   \n",
              "3  461319    Male          Yes   56        No      Artist              0.0   \n",
              "4  460156    Male           No   32       Yes  Healthcare              1.0   \n",
              "\n",
              "  Spending_Score  Family_Size  Var_1  Segmentation  \n",
              "0            Low          4.0  Cat_4             4  \n",
              "1            Low          1.0  Cat_6             2  \n",
              "2           High          2.0  Cat_6             2  \n",
              "3        Average          2.0  Cat_6             3  \n",
              "4            Low          3.0  Cat_6             3  "
            ]
          },
          "execution_count": 99,
          "metadata": {},
          "output_type": "execute_result"
        }
      ],
      "source": [
        "# train 샘플 확인\n",
        "train.head()"
      ]
    },
    {
      "cell_type": "code",
      "execution_count": 100,
      "metadata": {
        "colab": {
          "base_uri": "https://localhost:8080/"
        },
        "id": "tAnQBjymakYy",
        "outputId": "e3275b7b-7ab4-4c1e-85f5-097cb9a8c6e2"
      },
      "outputs": [
        {
          "name": "stdout",
          "output_type": "stream",
          "text": [
            "<class 'pandas.core.frame.DataFrame'>\n",
            "RangeIndex: 6665 entries, 0 to 6664\n",
            "Data columns (total 11 columns):\n",
            " #   Column           Non-Null Count  Dtype  \n",
            "---  ------           --------------  -----  \n",
            " 0   ID               6665 non-null   int64  \n",
            " 1   Gender           6665 non-null   object \n",
            " 2   Ever_Married     6665 non-null   object \n",
            " 3   Age              6665 non-null   int64  \n",
            " 4   Graduated        6665 non-null   object \n",
            " 5   Profession       6665 non-null   object \n",
            " 6   Work_Experience  6665 non-null   float64\n",
            " 7   Spending_Score   6665 non-null   object \n",
            " 8   Family_Size      6665 non-null   float64\n",
            " 9   Var_1            6665 non-null   object \n",
            " 10  Segmentation     6665 non-null   int64  \n",
            "dtypes: float64(2), int64(3), object(6)\n",
            "memory usage: 572.9+ KB\n"
          ]
        }
      ],
      "source": [
        "train.info()"
      ]
    },
    {
      "cell_type": "code",
      "execution_count": 101,
      "metadata": {
        "colab": {
          "base_uri": "https://localhost:8080/",
          "height": 175
        },
        "id": "a9m0_m4kan-X",
        "outputId": "a63ec6cb-afe2-4718-8f13-ba470ca0e8eb"
      },
      "outputs": [
        {
          "data": {
            "text/html": [
              "<div>\n",
              "<style scoped>\n",
              "    .dataframe tbody tr th:only-of-type {\n",
              "        vertical-align: middle;\n",
              "    }\n",
              "\n",
              "    .dataframe tbody tr th {\n",
              "        vertical-align: top;\n",
              "    }\n",
              "\n",
              "    .dataframe thead th {\n",
              "        text-align: right;\n",
              "    }\n",
              "</style>\n",
              "<table border=\"1\" class=\"dataframe\">\n",
              "  <thead>\n",
              "    <tr style=\"text-align: right;\">\n",
              "      <th></th>\n",
              "      <th>Gender</th>\n",
              "      <th>Ever_Married</th>\n",
              "      <th>Graduated</th>\n",
              "      <th>Profession</th>\n",
              "      <th>Spending_Score</th>\n",
              "      <th>Var_1</th>\n",
              "    </tr>\n",
              "  </thead>\n",
              "  <tbody>\n",
              "    <tr>\n",
              "      <th>count</th>\n",
              "      <td>6665</td>\n",
              "      <td>6665</td>\n",
              "      <td>6665</td>\n",
              "      <td>6665</td>\n",
              "      <td>6665</td>\n",
              "      <td>6665</td>\n",
              "    </tr>\n",
              "    <tr>\n",
              "      <th>unique</th>\n",
              "      <td>2</td>\n",
              "      <td>2</td>\n",
              "      <td>2</td>\n",
              "      <td>9</td>\n",
              "      <td>3</td>\n",
              "      <td>7</td>\n",
              "    </tr>\n",
              "    <tr>\n",
              "      <th>top</th>\n",
              "      <td>Male</td>\n",
              "      <td>Yes</td>\n",
              "      <td>Yes</td>\n",
              "      <td>Artist</td>\n",
              "      <td>Low</td>\n",
              "      <td>Cat_6</td>\n",
              "    </tr>\n",
              "    <tr>\n",
              "      <th>freq</th>\n",
              "      <td>3677</td>\n",
              "      <td>3944</td>\n",
              "      <td>4249</td>\n",
              "      <td>2192</td>\n",
              "      <td>3999</td>\n",
              "      <td>4476</td>\n",
              "    </tr>\n",
              "  </tbody>\n",
              "</table>\n",
              "</div>"
            ],
            "text/plain": [
              "       Gender Ever_Married Graduated Profession Spending_Score  Var_1\n",
              "count    6665         6665      6665       6665           6665   6665\n",
              "unique      2            2         2          9              3      7\n",
              "top      Male          Yes       Yes     Artist            Low  Cat_6\n",
              "freq     3677         3944      4249       2192           3999   4476"
            ]
          },
          "execution_count": 101,
          "metadata": {},
          "output_type": "execute_result"
        }
      ],
      "source": [
        "train.describe(include=\"O\")"
      ]
    },
    {
      "cell_type": "markdown",
      "metadata": {
        "id": "5s29BZCaarce"
      },
      "source": [
        "## 전처리"
      ]
    },
    {
      "cell_type": "code",
      "execution_count": 102,
      "metadata": {
        "id": "LDqKe80_apNe"
      },
      "outputs": [],
      "source": [
        "# 원핫 인코딩\n",
        "train = pd.get_dummies(train)\n",
        "test = pd.get_dummies(test)"
      ]
    },
    {
      "cell_type": "code",
      "execution_count": 103,
      "metadata": {
        "colab": {
          "base_uri": "https://localhost:8080/"
        },
        "id": "oQGgkufWarsJ",
        "outputId": "c151e65a-f0ab-4a21-95d6-de6353d773ef"
      },
      "outputs": [
        {
          "name": "stdout",
          "output_type": "stream",
          "text": [
            "<class 'pandas.core.frame.DataFrame'>\n",
            "RangeIndex: 6665 entries, 0 to 6664\n",
            "Data columns (total 30 columns):\n",
            " #   Column                    Non-Null Count  Dtype  \n",
            "---  ------                    --------------  -----  \n",
            " 0   ID                        6665 non-null   int64  \n",
            " 1   Age                       6665 non-null   int64  \n",
            " 2   Work_Experience           6665 non-null   float64\n",
            " 3   Family_Size               6665 non-null   float64\n",
            " 4   Segmentation              6665 non-null   int64  \n",
            " 5   Gender_Female             6665 non-null   bool   \n",
            " 6   Gender_Male               6665 non-null   bool   \n",
            " 7   Ever_Married_No           6665 non-null   bool   \n",
            " 8   Ever_Married_Yes          6665 non-null   bool   \n",
            " 9   Graduated_No              6665 non-null   bool   \n",
            " 10  Graduated_Yes             6665 non-null   bool   \n",
            " 11  Profession_Artist         6665 non-null   bool   \n",
            " 12  Profession_Doctor         6665 non-null   bool   \n",
            " 13  Profession_Engineer       6665 non-null   bool   \n",
            " 14  Profession_Entertainment  6665 non-null   bool   \n",
            " 15  Profession_Executive      6665 non-null   bool   \n",
            " 16  Profession_Healthcare     6665 non-null   bool   \n",
            " 17  Profession_Homemaker      6665 non-null   bool   \n",
            " 18  Profession_Lawyer         6665 non-null   bool   \n",
            " 19  Profession_Marketing      6665 non-null   bool   \n",
            " 20  Spending_Score_Average    6665 non-null   bool   \n",
            " 21  Spending_Score_High       6665 non-null   bool   \n",
            " 22  Spending_Score_Low        6665 non-null   bool   \n",
            " 23  Var_1_Cat_1               6665 non-null   bool   \n",
            " 24  Var_1_Cat_2               6665 non-null   bool   \n",
            " 25  Var_1_Cat_3               6665 non-null   bool   \n",
            " 26  Var_1_Cat_4               6665 non-null   bool   \n",
            " 27  Var_1_Cat_5               6665 non-null   bool   \n",
            " 28  Var_1_Cat_6               6665 non-null   bool   \n",
            " 29  Var_1_Cat_7               6665 non-null   bool   \n",
            "dtypes: bool(25), float64(2), int64(3)\n",
            "memory usage: 423.2 KB\n"
          ]
        }
      ],
      "source": [
        "# type 확인\n",
        "train.info()"
      ]
    },
    {
      "cell_type": "code",
      "execution_count": 104,
      "metadata": {
        "colab": {
          "base_uri": "https://localhost:8080/"
        },
        "id": "SXehifraauRM",
        "outputId": "90f5c6e4-a99b-4c0c-be02-6283ae53a293"
      },
      "outputs": [
        {
          "data": {
            "text/plain": [
              "0       4\n",
              "1       2\n",
              "2       2\n",
              "3       3\n",
              "4       3\n",
              "       ..\n",
              "6660    2\n",
              "6661    4\n",
              "6662    4\n",
              "6663    2\n",
              "6664    2\n",
              "Name: Segmentation, Length: 6665, dtype: int64"
            ]
          },
          "execution_count": 104,
          "metadata": {},
          "output_type": "execute_result"
        }
      ],
      "source": [
        "# target(y, label) 값 복사\n",
        "target = train.pop('Segmentation')\n",
        "target"
      ]
    },
    {
      "cell_type": "code",
      "execution_count": 105,
      "metadata": {
        "colab": {
          "base_uri": "https://localhost:8080/",
          "height": 174
        },
        "id": "0zji6HeUavO_",
        "outputId": "c0b856a7-7a49-47d4-a8cb-0557bf30b524"
      },
      "outputs": [],
      "source": [
        "train_id = train.pop('ID')\n"
      ]
    },
    {
      "cell_type": "code",
      "execution_count": 106,
      "metadata": {
        "colab": {
          "base_uri": "https://localhost:8080/"
        },
        "id": "vHoioFGjbFyb",
        "outputId": "4234b3dc-5b9b-45bc-f8db-34750087b2a0"
      },
      "outputs": [],
      "source": [
        "# test데이터 ID 복사\n",
        "test_id = test.pop('ID')"
      ]
    },
    {
      "cell_type": "markdown",
      "metadata": {
        "id": "VoU-dmP5axEo"
      },
      "source": [
        "## model 학습 및 예측"
      ]
    },
    {
      "cell_type": "code",
      "execution_count": 107,
      "metadata": {
        "colab": {
          "base_uri": "https://localhost:8080/"
        },
        "id": "NtA0rpVJawNZ",
        "outputId": "e10b5cac-8729-4de7-ffc4-5eb50d6ae572"
      },
      "outputs": [
        {
          "data": {
            "text/plain": [
              "array([2, 3, 3, ..., 2, 3, 4])"
            ]
          },
          "execution_count": 107,
          "metadata": {},
          "output_type": "execute_result"
        }
      ],
      "source": [
        "# 모델 선택 및 학습\n",
        "from sklearn.ensemble import RandomForestClassifier\n",
        "rf = RandomForestClassifier(random_state=2024)\n",
        "model = rf.fit(train, target)\n",
        "pred = model.predict(test)\n",
        "pred"
      ]
    },
    {
      "cell_type": "code",
      "execution_count": 109,
      "metadata": {
        "colab": {
          "base_uri": "https://localhost:8080/",
          "height": 424
        },
        "id": "r1JHCEqMa0gs",
        "outputId": "ed022a64-1039-4dd6-f87a-fcd43b0837ac"
      },
      "outputs": [],
      "source": [
        "# 예측 결과 -> 데이터 프레임\n",
        "submit = pd.DataFrame({\n",
        "    'ID': test_id,\n",
        "    'Segmentation': pred\n",
        "})"
      ]
    },
    {
      "cell_type": "code",
      "execution_count": 110,
      "metadata": {
        "id": "X8SXVU84a1nm"
      },
      "outputs": [],
      "source": [
        "submit.to_csv(\"000000-1.csv\", index=False)"
      ]
    },
    {
      "cell_type": "markdown",
      "metadata": {
        "id": "zqxQDwUFbPQV"
      },
      "source": [
        "# 🍭 advanced 단계 🍭\n",
        "- 목표: 교차검증 및 평가 후 제출하기"
      ]
    },
    {
      "cell_type": "code",
      "execution_count": null,
      "metadata": {
        "id": "eZq8NvvibSbl"
      },
      "outputs": [],
      "source": [
        "# 데이터 불러오기\n",
        "train = pd.read_csv(\"./4회기출작업형2/train.csv\")\n",
        "test = pd.read_csv(\"./4회기출작업형2/test.csv\")"
      ]
    },
    {
      "cell_type": "code",
      "execution_count": null,
      "metadata": {
        "id": "PhMo81M2bUlj"
      },
      "outputs": [],
      "source": [
        "# 범주형 변수"
      ]
    },
    {
      "cell_type": "code",
      "execution_count": null,
      "metadata": {
        "colab": {
          "base_uri": "https://localhost:8080/",
          "height": 488
        },
        "id": "JWI5jevobXNO",
        "outputId": "a5966bef-105a-4c23-8fed-f334c1fb105a"
      },
      "outputs": [],
      "source": [
        "## label encoding"
      ]
    },
    {
      "cell_type": "code",
      "execution_count": null,
      "metadata": {
        "colab": {
          "base_uri": "https://localhost:8080/"
        },
        "id": "WuNUoC8AbZH0",
        "outputId": "f2618999-7008-45b0-93e0-fb2b157be18f"
      },
      "outputs": [],
      "source": [
        "## cat.codes의 label 인코딩은 ABC 순대로 되는 것을 확인할 수 있다"
      ]
    },
    {
      "cell_type": "code",
      "execution_count": null,
      "metadata": {
        "colab": {
          "base_uri": "https://localhost:8080/",
          "height": 488
        },
        "id": "1ah1WbcZbahB",
        "outputId": "7b9d1a6f-b9b7-4fbd-8237-43a44174ee94"
      },
      "outputs": [],
      "source": [
        "## label encoding"
      ]
    },
    {
      "cell_type": "code",
      "execution_count": null,
      "metadata": {
        "id": "M7r1lL0Xbbu_"
      },
      "outputs": [],
      "source": [
        "# ID, target 처리"
      ]
    },
    {
      "cell_type": "code",
      "execution_count": null,
      "metadata": {
        "id": "QBiIYq6GbeYb"
      },
      "outputs": [],
      "source": [
        "# 모델 선택\n",
        "# 하이퍼파라미터 튜닝: max_depth, n_estimators"
      ]
    },
    {
      "cell_type": "code",
      "execution_count": null,
      "metadata": {
        "id": "Z5zcx0Jybf9P"
      },
      "outputs": [],
      "source": [
        "# 모델 선택\n",
        "# 하이퍼파라미터 튜닝: max_depth, n_estimators"
      ]
    },
    {
      "cell_type": "code",
      "execution_count": null,
      "metadata": {
        "colab": {
          "base_uri": "https://localhost:8080/"
        },
        "id": "tRqk6NVSbhUP",
        "outputId": "54e27968-aba4-40f2-de9b-20b4960738ed"
      },
      "outputs": [],
      "source": [
        "# 학습"
      ]
    },
    {
      "cell_type": "code",
      "execution_count": null,
      "metadata": {
        "id": "tUlvWS92biaT"
      },
      "outputs": [],
      "source": [
        "# 예측 결과 -> 데이터 프레임"
      ]
    },
    {
      "cell_type": "code",
      "execution_count": null,
      "metadata": {
        "id": "IIgwd1b4bjcL"
      },
      "outputs": [],
      "source": []
    }
  ],
  "metadata": {
    "colab": {
      "include_colab_link": true,
      "provenance": []
    },
    "kernelspec": {
      "display_name": "Python 3",
      "name": "python3"
    },
    "language_info": {
      "codemirror_mode": {
        "name": "ipython",
        "version": 3
      },
      "file_extension": ".py",
      "mimetype": "text/x-python",
      "name": "python",
      "nbconvert_exporter": "python",
      "pygments_lexer": "ipython3",
      "version": "3.11.7"
    }
  },
  "nbformat": 4,
  "nbformat_minor": 0
}
