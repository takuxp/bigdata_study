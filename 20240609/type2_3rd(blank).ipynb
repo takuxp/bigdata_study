{
  "cells": [
    {
      "cell_type": "markdown",
      "metadata": {
        "colab_type": "text",
        "id": "view-in-github"
      },
      "source": [
        "<a href=\"https://colab.research.google.com/github/takuxp/bigdata_study/blob/main/type2_3rd(blank).ipynb\" target=\"_parent\"><img src=\"https://colab.research.google.com/assets/colab-badge.svg\" alt=\"Open In Colab\"/></a>"
      ]
    },
    {
      "cell_type": "markdown",
      "metadata": {
        "id": "yOX8hBk5gKrW"
      },
      "source": [
        "# 작업형2\n",
        "- 빅데이터 분석기사 3회 실기\n",
        "- 제공된 데이터\n",
        "    - train.csv\n",
        "    - test.csv\n",
        "- 예측할 컬럼 : TravelInsurance\n",
        "\n",
        "### 시험에서 제공된 코드\n",
        "~~~\n",
        "import pandas as pd\n",
        "a = pd.read_csv(\"train.csv\")\n",
        "b = pd.read_csv('test.csv')\n",
        "\n",
        "pd.DataFrame(변수).to_csv('000000000.csv')\n",
        "~~~\n",
        "\n",
        "\n",
        "### 보험가입 확률을 묻는 문제\n",
        "~~~\n",
        "# csv 형태\n",
        "# index,y_pred\n",
        "# 0,0.152467\n",
        "# 1,0.961511\n",
        "# 2,0.151313\n",
        "# 3,0.236632\n",
        "...\n",
        "# 494,0.121372\n",
        "# 495,0.965155\n",
        "# 496,0.986405\n",
        "\n",
        "~~~\n"
      ]
    },
    {
      "cell_type": "markdown",
      "metadata": {
        "id": "R9ZoHIuwayfL"
      },
      "source": [
        "## 데이터 불러오기"
      ]
    },
    {
      "cell_type": "code",
      "execution_count": 2,
      "metadata": {
        "id": "aLTgo8rZYtxs"
      },
      "outputs": [],
      "source": [
        "import pandas as pd\n",
        "train = pd.read_csv(\"train.csv\")\n",
        "test = pd.read_csv(\"test.csv\")"
      ]
    },
    {
      "cell_type": "markdown",
      "metadata": {
        "id": "-dVefrwPjPFJ"
      },
      "source": [
        "## EDA"
      ]
    },
    {
      "cell_type": "code",
      "execution_count": 3,
      "metadata": {
        "id": "PWyD54YKgo2W"
      },
      "outputs": [
        {
          "name": "stdout",
          "output_type": "stream",
          "text": [
            "(1490, 10) (497, 9)\n"
          ]
        }
      ],
      "source": [
        "# 크기 확인\n",
        "print(train.shape, test.shape)"
      ]
    },
    {
      "cell_type": "code",
      "execution_count": 4,
      "metadata": {
        "id": "e8nOHgTbULpH"
      },
      "outputs": [
        {
          "data": {
            "text/html": [
              "<div>\n",
              "<style scoped>\n",
              "    .dataframe tbody tr th:only-of-type {\n",
              "        vertical-align: middle;\n",
              "    }\n",
              "\n",
              "    .dataframe tbody tr th {\n",
              "        vertical-align: top;\n",
              "    }\n",
              "\n",
              "    .dataframe thead th {\n",
              "        text-align: right;\n",
              "    }\n",
              "</style>\n",
              "<table border=\"1\" class=\"dataframe\">\n",
              "  <thead>\n",
              "    <tr style=\"text-align: right;\">\n",
              "      <th></th>\n",
              "      <th>Unnamed: 0</th>\n",
              "      <th>Age</th>\n",
              "      <th>Employment Type</th>\n",
              "      <th>GraduateOrNot</th>\n",
              "      <th>AnnualIncome</th>\n",
              "      <th>FamilyMembers</th>\n",
              "      <th>ChronicDiseases</th>\n",
              "      <th>FrequentFlyer</th>\n",
              "      <th>EverTravelledAbroad</th>\n",
              "      <th>TravelInsurance</th>\n",
              "    </tr>\n",
              "  </thead>\n",
              "  <tbody>\n",
              "    <tr>\n",
              "      <th>0</th>\n",
              "      <td>888</td>\n",
              "      <td>28</td>\n",
              "      <td>Private Sector/Self Employed</td>\n",
              "      <td>Yes</td>\n",
              "      <td>1250000</td>\n",
              "      <td>6</td>\n",
              "      <td>1</td>\n",
              "      <td>No</td>\n",
              "      <td>No</td>\n",
              "      <td>0</td>\n",
              "    </tr>\n",
              "    <tr>\n",
              "      <th>1</th>\n",
              "      <td>1308</td>\n",
              "      <td>31</td>\n",
              "      <td>Private Sector/Self Employed</td>\n",
              "      <td>Yes</td>\n",
              "      <td>1250000</td>\n",
              "      <td>7</td>\n",
              "      <td>1</td>\n",
              "      <td>No</td>\n",
              "      <td>No</td>\n",
              "      <td>0</td>\n",
              "    </tr>\n",
              "    <tr>\n",
              "      <th>2</th>\n",
              "      <td>151</td>\n",
              "      <td>29</td>\n",
              "      <td>Private Sector/Self Employed</td>\n",
              "      <td>Yes</td>\n",
              "      <td>1200000</td>\n",
              "      <td>7</td>\n",
              "      <td>0</td>\n",
              "      <td>No</td>\n",
              "      <td>No</td>\n",
              "      <td>1</td>\n",
              "    </tr>\n",
              "    <tr>\n",
              "      <th>3</th>\n",
              "      <td>396</td>\n",
              "      <td>33</td>\n",
              "      <td>Government Sector</td>\n",
              "      <td>Yes</td>\n",
              "      <td>650000</td>\n",
              "      <td>6</td>\n",
              "      <td>1</td>\n",
              "      <td>No</td>\n",
              "      <td>No</td>\n",
              "      <td>1</td>\n",
              "    </tr>\n",
              "    <tr>\n",
              "      <th>4</th>\n",
              "      <td>135</td>\n",
              "      <td>28</td>\n",
              "      <td>Private Sector/Self Employed</td>\n",
              "      <td>Yes</td>\n",
              "      <td>800000</td>\n",
              "      <td>6</td>\n",
              "      <td>0</td>\n",
              "      <td>No</td>\n",
              "      <td>Yes</td>\n",
              "      <td>1</td>\n",
              "    </tr>\n",
              "  </tbody>\n",
              "</table>\n",
              "</div>"
            ],
            "text/plain": [
              "   Unnamed: 0  Age               Employment Type GraduateOrNot  AnnualIncome  \\\n",
              "0         888   28  Private Sector/Self Employed           Yes       1250000   \n",
              "1        1308   31  Private Sector/Self Employed           Yes       1250000   \n",
              "2         151   29  Private Sector/Self Employed           Yes       1200000   \n",
              "3         396   33             Government Sector           Yes        650000   \n",
              "4         135   28  Private Sector/Self Employed           Yes        800000   \n",
              "\n",
              "   FamilyMembers  ChronicDiseases FrequentFlyer EverTravelledAbroad  \\\n",
              "0              6                1            No                  No   \n",
              "1              7                1            No                  No   \n",
              "2              7                0            No                  No   \n",
              "3              6                1            No                  No   \n",
              "4              6                0            No                 Yes   \n",
              "\n",
              "   TravelInsurance  \n",
              "0                0  \n",
              "1                0  \n",
              "2                1  \n",
              "3                1  \n",
              "4                1  "
            ]
          },
          "execution_count": 4,
          "metadata": {},
          "output_type": "execute_result"
        }
      ],
      "source": [
        "# 샘플 확인\n",
        "train.head()"
      ]
    },
    {
      "cell_type": "code",
      "execution_count": null,
      "metadata": {
        "id": "_ds65WrHhuL0"
      },
      "outputs": [],
      "source": [
        "# 타입 확인\n",
        "train.info()"
      ]
    },
    {
      "cell_type": "code",
      "execution_count": 5,
      "metadata": {
        "id": "A1b58WRMhwcv"
      },
      "outputs": [
        {
          "data": {
            "text/plain": [
              "Unnamed: 0             0\n",
              "Age                    0\n",
              "Employment Type        0\n",
              "GraduateOrNot          0\n",
              "AnnualIncome           0\n",
              "FamilyMembers          0\n",
              "ChronicDiseases        0\n",
              "FrequentFlyer          0\n",
              "EverTravelledAbroad    0\n",
              "TravelInsurance        0\n",
              "dtype: int64"
            ]
          },
          "execution_count": 5,
          "metadata": {},
          "output_type": "execute_result"
        }
      ],
      "source": [
        "# 결측치 확인 train\n",
        "train.isnull().sum()"
      ]
    },
    {
      "cell_type": "code",
      "execution_count": 6,
      "metadata": {
        "id": "AqBK3RjVjdML"
      },
      "outputs": [
        {
          "data": {
            "text/plain": [
              "Unnamed: 0             0\n",
              "Age                    0\n",
              "Employment Type        0\n",
              "GraduateOrNot          0\n",
              "AnnualIncome           0\n",
              "FamilyMembers          0\n",
              "ChronicDiseases        0\n",
              "FrequentFlyer          0\n",
              "EverTravelledAbroad    0\n",
              "dtype: int64"
            ]
          },
          "execution_count": 6,
          "metadata": {},
          "output_type": "execute_result"
        }
      ],
      "source": [
        "# 결측치 확인 test\n",
        "test.isnull().sum()"
      ]
    },
    {
      "cell_type": "code",
      "execution_count": 7,
      "metadata": {
        "id": "f_NXrYdojgAa"
      },
      "outputs": [
        {
          "data": {
            "text/html": [
              "<div>\n",
              "<style scoped>\n",
              "    .dataframe tbody tr th:only-of-type {\n",
              "        vertical-align: middle;\n",
              "    }\n",
              "\n",
              "    .dataframe tbody tr th {\n",
              "        vertical-align: top;\n",
              "    }\n",
              "\n",
              "    .dataframe thead th {\n",
              "        text-align: right;\n",
              "    }\n",
              "</style>\n",
              "<table border=\"1\" class=\"dataframe\">\n",
              "  <thead>\n",
              "    <tr style=\"text-align: right;\">\n",
              "      <th></th>\n",
              "      <th>Unnamed: 0</th>\n",
              "      <th>Age</th>\n",
              "      <th>AnnualIncome</th>\n",
              "      <th>FamilyMembers</th>\n",
              "      <th>ChronicDiseases</th>\n",
              "      <th>TravelInsurance</th>\n",
              "    </tr>\n",
              "  </thead>\n",
              "  <tbody>\n",
              "    <tr>\n",
              "      <th>count</th>\n",
              "      <td>1490.000000</td>\n",
              "      <td>1490.000000</td>\n",
              "      <td>1.490000e+03</td>\n",
              "      <td>1490.000000</td>\n",
              "      <td>1490.000000</td>\n",
              "      <td>1490.000000</td>\n",
              "    </tr>\n",
              "    <tr>\n",
              "      <th>mean</th>\n",
              "      <td>992.277181</td>\n",
              "      <td>29.600000</td>\n",
              "      <td>9.310738e+05</td>\n",
              "      <td>4.755705</td>\n",
              "      <td>0.280537</td>\n",
              "      <td>0.352349</td>\n",
              "    </tr>\n",
              "    <tr>\n",
              "      <th>std</th>\n",
              "      <td>566.637006</td>\n",
              "      <td>2.887829</td>\n",
              "      <td>3.763057e+05</td>\n",
              "      <td>1.603613</td>\n",
              "      <td>0.449412</td>\n",
              "      <td>0.477862</td>\n",
              "    </tr>\n",
              "    <tr>\n",
              "      <th>min</th>\n",
              "      <td>0.000000</td>\n",
              "      <td>25.000000</td>\n",
              "      <td>3.000000e+05</td>\n",
              "      <td>2.000000</td>\n",
              "      <td>0.000000</td>\n",
              "      <td>0.000000</td>\n",
              "    </tr>\n",
              "    <tr>\n",
              "      <th>25%</th>\n",
              "      <td>502.250000</td>\n",
              "      <td>28.000000</td>\n",
              "      <td>6.000000e+05</td>\n",
              "      <td>4.000000</td>\n",
              "      <td>0.000000</td>\n",
              "      <td>0.000000</td>\n",
              "    </tr>\n",
              "    <tr>\n",
              "      <th>50%</th>\n",
              "      <td>994.500000</td>\n",
              "      <td>29.000000</td>\n",
              "      <td>9.000000e+05</td>\n",
              "      <td>5.000000</td>\n",
              "      <td>0.000000</td>\n",
              "      <td>0.000000</td>\n",
              "    </tr>\n",
              "    <tr>\n",
              "      <th>75%</th>\n",
              "      <td>1479.750000</td>\n",
              "      <td>32.000000</td>\n",
              "      <td>1.250000e+06</td>\n",
              "      <td>6.000000</td>\n",
              "      <td>1.000000</td>\n",
              "      <td>1.000000</td>\n",
              "    </tr>\n",
              "    <tr>\n",
              "      <th>max</th>\n",
              "      <td>1983.000000</td>\n",
              "      <td>35.000000</td>\n",
              "      <td>1.800000e+06</td>\n",
              "      <td>9.000000</td>\n",
              "      <td>1.000000</td>\n",
              "      <td>1.000000</td>\n",
              "    </tr>\n",
              "  </tbody>\n",
              "</table>\n",
              "</div>"
            ],
            "text/plain": [
              "        Unnamed: 0          Age  AnnualIncome  FamilyMembers  ChronicDiseases  \\\n",
              "count  1490.000000  1490.000000  1.490000e+03    1490.000000      1490.000000   \n",
              "mean    992.277181    29.600000  9.310738e+05       4.755705         0.280537   \n",
              "std     566.637006     2.887829  3.763057e+05       1.603613         0.449412   \n",
              "min       0.000000    25.000000  3.000000e+05       2.000000         0.000000   \n",
              "25%     502.250000    28.000000  6.000000e+05       4.000000         0.000000   \n",
              "50%     994.500000    29.000000  9.000000e+05       5.000000         0.000000   \n",
              "75%    1479.750000    32.000000  1.250000e+06       6.000000         1.000000   \n",
              "max    1983.000000    35.000000  1.800000e+06       9.000000         1.000000   \n",
              "\n",
              "       TravelInsurance  \n",
              "count      1490.000000  \n",
              "mean          0.352349  \n",
              "std           0.477862  \n",
              "min           0.000000  \n",
              "25%           0.000000  \n",
              "50%           0.000000  \n",
              "75%           1.000000  \n",
              "max           1.000000  "
            ]
          },
          "execution_count": 7,
          "metadata": {},
          "output_type": "execute_result"
        }
      ],
      "source": [
        "# 기초 통계 획인\n",
        "train.describe()"
      ]
    },
    {
      "cell_type": "code",
      "execution_count": 8,
      "metadata": {
        "id": "MHCAKNAEjqGq"
      },
      "outputs": [
        {
          "data": {
            "text/html": [
              "<div>\n",
              "<style scoped>\n",
              "    .dataframe tbody tr th:only-of-type {\n",
              "        vertical-align: middle;\n",
              "    }\n",
              "\n",
              "    .dataframe tbody tr th {\n",
              "        vertical-align: top;\n",
              "    }\n",
              "\n",
              "    .dataframe thead th {\n",
              "        text-align: right;\n",
              "    }\n",
              "</style>\n",
              "<table border=\"1\" class=\"dataframe\">\n",
              "  <thead>\n",
              "    <tr style=\"text-align: right;\">\n",
              "      <th></th>\n",
              "      <th>Employment Type</th>\n",
              "      <th>GraduateOrNot</th>\n",
              "      <th>FrequentFlyer</th>\n",
              "      <th>EverTravelledAbroad</th>\n",
              "    </tr>\n",
              "  </thead>\n",
              "  <tbody>\n",
              "    <tr>\n",
              "      <th>count</th>\n",
              "      <td>1490</td>\n",
              "      <td>1490</td>\n",
              "      <td>1490</td>\n",
              "      <td>1490</td>\n",
              "    </tr>\n",
              "    <tr>\n",
              "      <th>unique</th>\n",
              "      <td>2</td>\n",
              "      <td>2</td>\n",
              "      <td>2</td>\n",
              "      <td>2</td>\n",
              "    </tr>\n",
              "    <tr>\n",
              "      <th>top</th>\n",
              "      <td>Private Sector/Self Employed</td>\n",
              "      <td>Yes</td>\n",
              "      <td>No</td>\n",
              "      <td>No</td>\n",
              "    </tr>\n",
              "    <tr>\n",
              "      <th>freq</th>\n",
              "      <td>1056</td>\n",
              "      <td>1270</td>\n",
              "      <td>1175</td>\n",
              "      <td>1209</td>\n",
              "    </tr>\n",
              "  </tbody>\n",
              "</table>\n",
              "</div>"
            ],
            "text/plain": [
              "                     Employment Type GraduateOrNot FrequentFlyer  \\\n",
              "count                           1490          1490          1490   \n",
              "unique                             2             2             2   \n",
              "top     Private Sector/Self Employed           Yes            No   \n",
              "freq                            1056          1270          1175   \n",
              "\n",
              "       EverTravelledAbroad  \n",
              "count                 1490  \n",
              "unique                   2  \n",
              "top                     No  \n",
              "freq                  1209  "
            ]
          },
          "execution_count": 8,
          "metadata": {},
          "output_type": "execute_result"
        }
      ],
      "source": [
        "# 기초 통계 획인 object\n",
        "train.describe(include='object')"
      ]
    },
    {
      "cell_type": "code",
      "execution_count": 9,
      "metadata": {
        "id": "2kppEcMPjVAE"
      },
      "outputs": [
        {
          "data": {
            "text/plain": [
              "TravelInsurance\n",
              "0    965\n",
              "1    525\n",
              "Name: count, dtype: int64"
            ]
          },
          "execution_count": 9,
          "metadata": {},
          "output_type": "execute_result"
        }
      ],
      "source": [
        "# 타겟(레이블)\n",
        "train['TravelInsurance'].value_counts()"
      ]
    },
    {
      "cell_type": "markdown",
      "metadata": {
        "id": "KnNu9bH3kJfD"
      },
      "source": [
        "## 데이터 전처리 및 피처엔지니어링"
      ]
    },
    {
      "cell_type": "code",
      "execution_count": 11,
      "metadata": {
        "id": "JAglZ4dipalH"
      },
      "outputs": [],
      "source": [
        "# 수치형 데이터와 범주형 데이터 분리\n",
        "n_train = train.select_dtypes(exclude='object').copy()\n",
        "c_train = train.select_dtypes(include='object').copy()\n",
        "n_test = test.select_dtypes(exclude='object').copy()\n",
        "c_test = test.select_dtypes(include='object').copy()"
      ]
    },
    {
      "cell_type": "code",
      "execution_count": 14,
      "metadata": {
        "id": "Q5n67S9isN2r"
      },
      "outputs": [
        {
          "data": {
            "text/html": [
              "<div>\n",
              "<style scoped>\n",
              "    .dataframe tbody tr th:only-of-type {\n",
              "        vertical-align: middle;\n",
              "    }\n",
              "\n",
              "    .dataframe tbody tr th {\n",
              "        vertical-align: top;\n",
              "    }\n",
              "\n",
              "    .dataframe thead th {\n",
              "        text-align: right;\n",
              "    }\n",
              "</style>\n",
              "<table border=\"1\" class=\"dataframe\">\n",
              "  <thead>\n",
              "    <tr style=\"text-align: right;\">\n",
              "      <th></th>\n",
              "      <th>Unnamed: 0</th>\n",
              "      <th>Age</th>\n",
              "      <th>AnnualIncome</th>\n",
              "      <th>FamilyMembers</th>\n",
              "      <th>ChronicDiseases</th>\n",
              "      <th>TravelInsurance</th>\n",
              "    </tr>\n",
              "  </thead>\n",
              "  <tbody>\n",
              "    <tr>\n",
              "      <th>0</th>\n",
              "      <td>888</td>\n",
              "      <td>28</td>\n",
              "      <td>1250000</td>\n",
              "      <td>6</td>\n",
              "      <td>1</td>\n",
              "      <td>0</td>\n",
              "    </tr>\n",
              "    <tr>\n",
              "      <th>1</th>\n",
              "      <td>1308</td>\n",
              "      <td>31</td>\n",
              "      <td>1250000</td>\n",
              "      <td>7</td>\n",
              "      <td>1</td>\n",
              "      <td>0</td>\n",
              "    </tr>\n",
              "    <tr>\n",
              "      <th>2</th>\n",
              "      <td>151</td>\n",
              "      <td>29</td>\n",
              "      <td>1200000</td>\n",
              "      <td>7</td>\n",
              "      <td>0</td>\n",
              "      <td>1</td>\n",
              "    </tr>\n",
              "    <tr>\n",
              "      <th>3</th>\n",
              "      <td>396</td>\n",
              "      <td>33</td>\n",
              "      <td>650000</td>\n",
              "      <td>6</td>\n",
              "      <td>1</td>\n",
              "      <td>1</td>\n",
              "    </tr>\n",
              "    <tr>\n",
              "      <th>4</th>\n",
              "      <td>135</td>\n",
              "      <td>28</td>\n",
              "      <td>800000</td>\n",
              "      <td>6</td>\n",
              "      <td>0</td>\n",
              "      <td>1</td>\n",
              "    </tr>\n",
              "  </tbody>\n",
              "</table>\n",
              "</div>"
            ],
            "text/plain": [
              "   Unnamed: 0  Age  AnnualIncome  FamilyMembers  ChronicDiseases  \\\n",
              "0         888   28       1250000              6                1   \n",
              "1        1308   31       1250000              7                1   \n",
              "2         151   29       1200000              7                0   \n",
              "3         396   33        650000              6                1   \n",
              "4         135   28        800000              6                0   \n",
              "\n",
              "   TravelInsurance  \n",
              "0                0  \n",
              "1                0  \n",
              "2                1  \n",
              "3                1  \n",
              "4                1  "
            ]
          },
          "metadata": {},
          "output_type": "display_data"
        },
        {
          "data": {
            "text/html": [
              "<div>\n",
              "<style scoped>\n",
              "    .dataframe tbody tr th:only-of-type {\n",
              "        vertical-align: middle;\n",
              "    }\n",
              "\n",
              "    .dataframe tbody tr th {\n",
              "        vertical-align: top;\n",
              "    }\n",
              "\n",
              "    .dataframe thead th {\n",
              "        text-align: right;\n",
              "    }\n",
              "</style>\n",
              "<table border=\"1\" class=\"dataframe\">\n",
              "  <thead>\n",
              "    <tr style=\"text-align: right;\">\n",
              "      <th></th>\n",
              "      <th>Unnamed: 0</th>\n",
              "      <th>Age</th>\n",
              "      <th>AnnualIncome</th>\n",
              "      <th>FamilyMembers</th>\n",
              "      <th>ChronicDiseases</th>\n",
              "      <th>TravelInsurance</th>\n",
              "    </tr>\n",
              "  </thead>\n",
              "  <tbody>\n",
              "    <tr>\n",
              "      <th>0</th>\n",
              "      <td>888</td>\n",
              "      <td>-0.25</td>\n",
              "      <td>0.538462</td>\n",
              "      <td>0.5</td>\n",
              "      <td>1.0</td>\n",
              "      <td>0</td>\n",
              "    </tr>\n",
              "    <tr>\n",
              "      <th>1</th>\n",
              "      <td>1308</td>\n",
              "      <td>0.50</td>\n",
              "      <td>0.538462</td>\n",
              "      <td>1.0</td>\n",
              "      <td>1.0</td>\n",
              "      <td>0</td>\n",
              "    </tr>\n",
              "    <tr>\n",
              "      <th>2</th>\n",
              "      <td>151</td>\n",
              "      <td>0.00</td>\n",
              "      <td>0.461538</td>\n",
              "      <td>1.0</td>\n",
              "      <td>0.0</td>\n",
              "      <td>1</td>\n",
              "    </tr>\n",
              "    <tr>\n",
              "      <th>3</th>\n",
              "      <td>396</td>\n",
              "      <td>1.00</td>\n",
              "      <td>-0.384615</td>\n",
              "      <td>0.5</td>\n",
              "      <td>1.0</td>\n",
              "      <td>1</td>\n",
              "    </tr>\n",
              "    <tr>\n",
              "      <th>4</th>\n",
              "      <td>135</td>\n",
              "      <td>-0.25</td>\n",
              "      <td>-0.153846</td>\n",
              "      <td>0.5</td>\n",
              "      <td>0.0</td>\n",
              "      <td>1</td>\n",
              "    </tr>\n",
              "  </tbody>\n",
              "</table>\n",
              "</div>"
            ],
            "text/plain": [
              "   Unnamed: 0   Age  AnnualIncome  FamilyMembers  ChronicDiseases  \\\n",
              "0         888 -0.25      0.538462            0.5              1.0   \n",
              "1        1308  0.50      0.538462            1.0              1.0   \n",
              "2         151  0.00      0.461538            1.0              0.0   \n",
              "3         396  1.00     -0.384615            0.5              1.0   \n",
              "4         135 -0.25     -0.153846            0.5              0.0   \n",
              "\n",
              "   TravelInsurance  \n",
              "0                0  \n",
              "1                0  \n",
              "2                1  \n",
              "3                1  \n",
              "4                1  "
            ]
          },
          "execution_count": 14,
          "metadata": {},
          "output_type": "execute_result"
        }
      ],
      "source": [
        "# 수치형 변수 스케일링\n",
        "from sklearn.preprocessing import RobustScaler\n",
        "scaler = RobustScaler()\n",
        "cols = ['Age', 'AnnualIncome', 'FamilyMembers', 'ChronicDiseases']\n",
        "\n",
        "display(n_train.head())\n",
        "n_train[cols] = scaler.fit_transform(n_train[cols])\n",
        "n_test[cols] = scaler.fit_transform(n_test[cols])\n",
        "n_train.head()"
      ]
    },
    {
      "cell_type": "code",
      "execution_count": 17,
      "metadata": {
        "id": "58MMwhWvWK6m"
      },
      "outputs": [
        {
          "data": {
            "text/html": [
              "<div>\n",
              "<style scoped>\n",
              "    .dataframe tbody tr th:only-of-type {\n",
              "        vertical-align: middle;\n",
              "    }\n",
              "\n",
              "    .dataframe tbody tr th {\n",
              "        vertical-align: top;\n",
              "    }\n",
              "\n",
              "    .dataframe thead th {\n",
              "        text-align: right;\n",
              "    }\n",
              "</style>\n",
              "<table border=\"1\" class=\"dataframe\">\n",
              "  <thead>\n",
              "    <tr style=\"text-align: right;\">\n",
              "      <th></th>\n",
              "      <th>Employment Type_Government Sector</th>\n",
              "      <th>Employment Type_Private Sector/Self Employed</th>\n",
              "      <th>GraduateOrNot_No</th>\n",
              "      <th>GraduateOrNot_Yes</th>\n",
              "      <th>FrequentFlyer_No</th>\n",
              "      <th>FrequentFlyer_Yes</th>\n",
              "      <th>EverTravelledAbroad_No</th>\n",
              "      <th>EverTravelledAbroad_Yes</th>\n",
              "    </tr>\n",
              "  </thead>\n",
              "  <tbody>\n",
              "    <tr>\n",
              "      <th>0</th>\n",
              "      <td>False</td>\n",
              "      <td>True</td>\n",
              "      <td>False</td>\n",
              "      <td>True</td>\n",
              "      <td>True</td>\n",
              "      <td>False</td>\n",
              "      <td>True</td>\n",
              "      <td>False</td>\n",
              "    </tr>\n",
              "    <tr>\n",
              "      <th>1</th>\n",
              "      <td>False</td>\n",
              "      <td>True</td>\n",
              "      <td>False</td>\n",
              "      <td>True</td>\n",
              "      <td>True</td>\n",
              "      <td>False</td>\n",
              "      <td>True</td>\n",
              "      <td>False</td>\n",
              "    </tr>\n",
              "    <tr>\n",
              "      <th>2</th>\n",
              "      <td>False</td>\n",
              "      <td>True</td>\n",
              "      <td>False</td>\n",
              "      <td>True</td>\n",
              "      <td>True</td>\n",
              "      <td>False</td>\n",
              "      <td>True</td>\n",
              "      <td>False</td>\n",
              "    </tr>\n",
              "    <tr>\n",
              "      <th>3</th>\n",
              "      <td>True</td>\n",
              "      <td>False</td>\n",
              "      <td>False</td>\n",
              "      <td>True</td>\n",
              "      <td>True</td>\n",
              "      <td>False</td>\n",
              "      <td>True</td>\n",
              "      <td>False</td>\n",
              "    </tr>\n",
              "    <tr>\n",
              "      <th>4</th>\n",
              "      <td>False</td>\n",
              "      <td>True</td>\n",
              "      <td>False</td>\n",
              "      <td>True</td>\n",
              "      <td>True</td>\n",
              "      <td>False</td>\n",
              "      <td>False</td>\n",
              "      <td>True</td>\n",
              "    </tr>\n",
              "  </tbody>\n",
              "</table>\n",
              "</div>"
            ],
            "text/plain": [
              "   Employment Type_Government Sector  \\\n",
              "0                              False   \n",
              "1                              False   \n",
              "2                              False   \n",
              "3                               True   \n",
              "4                              False   \n",
              "\n",
              "   Employment Type_Private Sector/Self Employed  GraduateOrNot_No  \\\n",
              "0                                          True             False   \n",
              "1                                          True             False   \n",
              "2                                          True             False   \n",
              "3                                         False             False   \n",
              "4                                          True             False   \n",
              "\n",
              "   GraduateOrNot_Yes  FrequentFlyer_No  FrequentFlyer_Yes  \\\n",
              "0               True              True              False   \n",
              "1               True              True              False   \n",
              "2               True              True              False   \n",
              "3               True              True              False   \n",
              "4               True              True              False   \n",
              "\n",
              "   EverTravelledAbroad_No  EverTravelledAbroad_Yes  \n",
              "0                    True                    False  \n",
              "1                    True                    False  \n",
              "2                    True                    False  \n",
              "3                    True                    False  \n",
              "4                   False                     True  "
            ]
          },
          "metadata": {},
          "output_type": "display_data"
        },
        {
          "data": {
            "text/html": [
              "<div>\n",
              "<style scoped>\n",
              "    .dataframe tbody tr th:only-of-type {\n",
              "        vertical-align: middle;\n",
              "    }\n",
              "\n",
              "    .dataframe tbody tr th {\n",
              "        vertical-align: top;\n",
              "    }\n",
              "\n",
              "    .dataframe thead th {\n",
              "        text-align: right;\n",
              "    }\n",
              "</style>\n",
              "<table border=\"1\" class=\"dataframe\">\n",
              "  <thead>\n",
              "    <tr style=\"text-align: right;\">\n",
              "      <th></th>\n",
              "      <th>Employment Type_Government Sector</th>\n",
              "      <th>Employment Type_Private Sector/Self Employed</th>\n",
              "      <th>GraduateOrNot_No</th>\n",
              "      <th>GraduateOrNot_Yes</th>\n",
              "      <th>FrequentFlyer_No</th>\n",
              "      <th>FrequentFlyer_Yes</th>\n",
              "      <th>EverTravelledAbroad_No</th>\n",
              "      <th>EverTravelledAbroad_Yes</th>\n",
              "    </tr>\n",
              "  </thead>\n",
              "  <tbody>\n",
              "    <tr>\n",
              "      <th>0</th>\n",
              "      <td>False</td>\n",
              "      <td>True</td>\n",
              "      <td>False</td>\n",
              "      <td>True</td>\n",
              "      <td>True</td>\n",
              "      <td>False</td>\n",
              "      <td>True</td>\n",
              "      <td>False</td>\n",
              "    </tr>\n",
              "    <tr>\n",
              "      <th>1</th>\n",
              "      <td>False</td>\n",
              "      <td>True</td>\n",
              "      <td>False</td>\n",
              "      <td>True</td>\n",
              "      <td>True</td>\n",
              "      <td>False</td>\n",
              "      <td>True</td>\n",
              "      <td>False</td>\n",
              "    </tr>\n",
              "    <tr>\n",
              "      <th>2</th>\n",
              "      <td>False</td>\n",
              "      <td>True</td>\n",
              "      <td>False</td>\n",
              "      <td>True</td>\n",
              "      <td>True</td>\n",
              "      <td>False</td>\n",
              "      <td>True</td>\n",
              "      <td>False</td>\n",
              "    </tr>\n",
              "    <tr>\n",
              "      <th>3</th>\n",
              "      <td>True</td>\n",
              "      <td>False</td>\n",
              "      <td>False</td>\n",
              "      <td>True</td>\n",
              "      <td>True</td>\n",
              "      <td>False</td>\n",
              "      <td>True</td>\n",
              "      <td>False</td>\n",
              "    </tr>\n",
              "    <tr>\n",
              "      <th>4</th>\n",
              "      <td>False</td>\n",
              "      <td>True</td>\n",
              "      <td>False</td>\n",
              "      <td>True</td>\n",
              "      <td>True</td>\n",
              "      <td>False</td>\n",
              "      <td>False</td>\n",
              "      <td>True</td>\n",
              "    </tr>\n",
              "  </tbody>\n",
              "</table>\n",
              "</div>"
            ],
            "text/plain": [
              "   Employment Type_Government Sector  \\\n",
              "0                              False   \n",
              "1                              False   \n",
              "2                              False   \n",
              "3                               True   \n",
              "4                              False   \n",
              "\n",
              "   Employment Type_Private Sector/Self Employed  GraduateOrNot_No  \\\n",
              "0                                          True             False   \n",
              "1                                          True             False   \n",
              "2                                          True             False   \n",
              "3                                         False             False   \n",
              "4                                          True             False   \n",
              "\n",
              "   GraduateOrNot_Yes  FrequentFlyer_No  FrequentFlyer_Yes  \\\n",
              "0               True              True              False   \n",
              "1               True              True              False   \n",
              "2               True              True              False   \n",
              "3               True              True              False   \n",
              "4               True              True              False   \n",
              "\n",
              "   EverTravelledAbroad_No  EverTravelledAbroad_Yes  \n",
              "0                    True                    False  \n",
              "1                    True                    False  \n",
              "2                    True                    False  \n",
              "3                    True                    False  \n",
              "4                   False                     True  "
            ]
          },
          "execution_count": 17,
          "metadata": {},
          "output_type": "execute_result"
        }
      ],
      "source": [
        "# 범주형 변수 인코딩\n",
        "display(c_train.head())\n",
        "c_train = pd.get_dummies(c_train)\n",
        "c_test = pd.get_dummies(c_test)\n",
        "c_train.head()"
      ]
    },
    {
      "cell_type": "code",
      "execution_count": 19,
      "metadata": {
        "id": "4u8sKvxvWK9C"
      },
      "outputs": [
        {
          "name": "stdout",
          "output_type": "stream",
          "text": [
            "(1490, 14) (497, 13)\n"
          ]
        },
        {
          "data": {
            "text/html": [
              "<div>\n",
              "<style scoped>\n",
              "    .dataframe tbody tr th:only-of-type {\n",
              "        vertical-align: middle;\n",
              "    }\n",
              "\n",
              "    .dataframe tbody tr th {\n",
              "        vertical-align: top;\n",
              "    }\n",
              "\n",
              "    .dataframe thead th {\n",
              "        text-align: right;\n",
              "    }\n",
              "</style>\n",
              "<table border=\"1\" class=\"dataframe\">\n",
              "  <thead>\n",
              "    <tr style=\"text-align: right;\">\n",
              "      <th></th>\n",
              "      <th>Unnamed: 0</th>\n",
              "      <th>Age</th>\n",
              "      <th>AnnualIncome</th>\n",
              "      <th>FamilyMembers</th>\n",
              "      <th>ChronicDiseases</th>\n",
              "      <th>TravelInsurance</th>\n",
              "      <th>Employment Type_Government Sector</th>\n",
              "      <th>Employment Type_Private Sector/Self Employed</th>\n",
              "      <th>GraduateOrNot_No</th>\n",
              "      <th>GraduateOrNot_Yes</th>\n",
              "      <th>FrequentFlyer_No</th>\n",
              "      <th>FrequentFlyer_Yes</th>\n",
              "      <th>EverTravelledAbroad_No</th>\n",
              "      <th>EverTravelledAbroad_Yes</th>\n",
              "    </tr>\n",
              "  </thead>\n",
              "  <tbody>\n",
              "    <tr>\n",
              "      <th>0</th>\n",
              "      <td>888</td>\n",
              "      <td>-0.25</td>\n",
              "      <td>0.538462</td>\n",
              "      <td>0.5</td>\n",
              "      <td>1.0</td>\n",
              "      <td>0</td>\n",
              "      <td>False</td>\n",
              "      <td>True</td>\n",
              "      <td>False</td>\n",
              "      <td>True</td>\n",
              "      <td>True</td>\n",
              "      <td>False</td>\n",
              "      <td>True</td>\n",
              "      <td>False</td>\n",
              "    </tr>\n",
              "    <tr>\n",
              "      <th>1</th>\n",
              "      <td>1308</td>\n",
              "      <td>0.50</td>\n",
              "      <td>0.538462</td>\n",
              "      <td>1.0</td>\n",
              "      <td>1.0</td>\n",
              "      <td>0</td>\n",
              "      <td>False</td>\n",
              "      <td>True</td>\n",
              "      <td>False</td>\n",
              "      <td>True</td>\n",
              "      <td>True</td>\n",
              "      <td>False</td>\n",
              "      <td>True</td>\n",
              "      <td>False</td>\n",
              "    </tr>\n",
              "    <tr>\n",
              "      <th>2</th>\n",
              "      <td>151</td>\n",
              "      <td>0.00</td>\n",
              "      <td>0.461538</td>\n",
              "      <td>1.0</td>\n",
              "      <td>0.0</td>\n",
              "      <td>1</td>\n",
              "      <td>False</td>\n",
              "      <td>True</td>\n",
              "      <td>False</td>\n",
              "      <td>True</td>\n",
              "      <td>True</td>\n",
              "      <td>False</td>\n",
              "      <td>True</td>\n",
              "      <td>False</td>\n",
              "    </tr>\n",
              "    <tr>\n",
              "      <th>3</th>\n",
              "      <td>396</td>\n",
              "      <td>1.00</td>\n",
              "      <td>-0.384615</td>\n",
              "      <td>0.5</td>\n",
              "      <td>1.0</td>\n",
              "      <td>1</td>\n",
              "      <td>True</td>\n",
              "      <td>False</td>\n",
              "      <td>False</td>\n",
              "      <td>True</td>\n",
              "      <td>True</td>\n",
              "      <td>False</td>\n",
              "      <td>True</td>\n",
              "      <td>False</td>\n",
              "    </tr>\n",
              "    <tr>\n",
              "      <th>4</th>\n",
              "      <td>135</td>\n",
              "      <td>-0.25</td>\n",
              "      <td>-0.153846</td>\n",
              "      <td>0.5</td>\n",
              "      <td>0.0</td>\n",
              "      <td>1</td>\n",
              "      <td>False</td>\n",
              "      <td>True</td>\n",
              "      <td>False</td>\n",
              "      <td>True</td>\n",
              "      <td>True</td>\n",
              "      <td>False</td>\n",
              "      <td>False</td>\n",
              "      <td>True</td>\n",
              "    </tr>\n",
              "  </tbody>\n",
              "</table>\n",
              "</div>"
            ],
            "text/plain": [
              "   Unnamed: 0   Age  AnnualIncome  FamilyMembers  ChronicDiseases  \\\n",
              "0         888 -0.25      0.538462            0.5              1.0   \n",
              "1        1308  0.50      0.538462            1.0              1.0   \n",
              "2         151  0.00      0.461538            1.0              0.0   \n",
              "3         396  1.00     -0.384615            0.5              1.0   \n",
              "4         135 -0.25     -0.153846            0.5              0.0   \n",
              "\n",
              "   TravelInsurance  Employment Type_Government Sector  \\\n",
              "0                0                              False   \n",
              "1                0                              False   \n",
              "2                1                              False   \n",
              "3                1                               True   \n",
              "4                1                              False   \n",
              "\n",
              "   Employment Type_Private Sector/Self Employed  GraduateOrNot_No  \\\n",
              "0                                          True             False   \n",
              "1                                          True             False   \n",
              "2                                          True             False   \n",
              "3                                         False             False   \n",
              "4                                          True             False   \n",
              "\n",
              "   GraduateOrNot_Yes  FrequentFlyer_No  FrequentFlyer_Yes  \\\n",
              "0               True              True              False   \n",
              "1               True              True              False   \n",
              "2               True              True              False   \n",
              "3               True              True              False   \n",
              "4               True              True              False   \n",
              "\n",
              "   EverTravelledAbroad_No  EverTravelledAbroad_Yes  \n",
              "0                    True                    False  \n",
              "1                    True                    False  \n",
              "2                    True                    False  \n",
              "3                    True                    False  \n",
              "4                   False                     True  "
            ]
          },
          "execution_count": 19,
          "metadata": {},
          "output_type": "execute_result"
        }
      ],
      "source": [
        "# 분리한 데이터 다시 합침\n",
        "train = pd.concat([n_train, c_train], axis=1)\n",
        "test = pd.concat([n_test, c_test], axis=1)\n",
        "print(train.shape, test.shape)\n",
        "train.head()"
      ]
    },
    {
      "cell_type": "markdown",
      "metadata": {
        "id": "6xji7dInWPIt"
      },
      "source": [
        "## 검증데이터 분리"
      ]
    },
    {
      "cell_type": "code",
      "execution_count": 21,
      "metadata": {
        "id": "5Tm50rN8WLCC"
      },
      "outputs": [
        {
          "data": {
            "text/plain": [
              "((1341, 13), (149, 13), (1341,), (149,))"
            ]
          },
          "execution_count": 21,
          "metadata": {},
          "output_type": "execute_result"
        }
      ],
      "source": [
        "# 검증데이터 분리\n",
        "from sklearn.model_selection import train_test_split\n",
        "X_tr, X_val, y_tr, y_val = train_test_split(\n",
        "    train.drop('TravelInsurance', axis=1),\n",
        "    train['TravelInsurance'],\n",
        "    test_size=0.1,\n",
        "    random_state=1204\n",
        ")\n",
        "X_tr.shape, X_val.shape, y_tr.shape, y_val.shape"
      ]
    },
    {
      "cell_type": "markdown",
      "metadata": {
        "id": "LyQpOqabwezg"
      },
      "source": [
        "## 모델 학습 및 예측"
      ]
    },
    {
      "cell_type": "code",
      "execution_count": 22,
      "metadata": {
        "id": "CCcKbm3YWRqq"
      },
      "outputs": [],
      "source": [
        "# 랜덤포레스트\n",
        "from sklearn.ensemble import RandomForestClassifier\n",
        "rf = RandomForestClassifier(n_estimators=400, max_depth=9, random_state=1024)\n",
        "rf.fit(X_tr, y_tr)\n",
        "pred = rf.predict_proba(X_val)[:,1]"
      ]
    },
    {
      "cell_type": "code",
      "execution_count": 23,
      "metadata": {
        "id": "eRtHFtY3WRvD"
      },
      "outputs": [
        {
          "data": {
            "text/plain": [
              "0.8295918367346939"
            ]
          },
          "execution_count": 23,
          "metadata": {},
          "output_type": "execute_result"
        }
      ],
      "source": [
        "# 평가\n",
        "from sklearn.metrics import roc_auc_score\n",
        "roc_auc_score(y_val, pred)"
      ]
    },
    {
      "cell_type": "markdown",
      "metadata": {
        "id": "uzcaytQFWbEg"
      },
      "source": [
        "## 예측"
      ]
    },
    {
      "cell_type": "code",
      "execution_count": 27,
      "metadata": {
        "id": "3cdDgmw4Wh9e"
      },
      "outputs": [],
      "source": [
        "# test 예측\n",
        "pred = rf.predict_proba(test)[:,1]"
      ]
    },
    {
      "cell_type": "code",
      "execution_count": 28,
      "metadata": {
        "id": "J_wOL-yWWYu9"
      },
      "outputs": [],
      "source": [
        "# csv 파일1 생성 (예시와 다른 형태)\n",
        "pd.DataFrame({\n",
        "    'index': test.index,\n",
        "    'y_pred': pred\n",
        "}).to_csv('0000.csv', index=False)"
      ]
    },
    {
      "cell_type": "code",
      "execution_count": null,
      "metadata": {
        "id": "1QLrPD6iWYxc"
      },
      "outputs": [],
      "source": [
        "# csv 파일2 생성\n"
      ]
    },
    {
      "cell_type": "code",
      "execution_count": 29,
      "metadata": {
        "id": "e_E1YQSjWmvD"
      },
      "outputs": [
        {
          "data": {
            "text/html": [
              "<div>\n",
              "<style scoped>\n",
              "    .dataframe tbody tr th:only-of-type {\n",
              "        vertical-align: middle;\n",
              "    }\n",
              "\n",
              "    .dataframe tbody tr th {\n",
              "        vertical-align: top;\n",
              "    }\n",
              "\n",
              "    .dataframe thead th {\n",
              "        text-align: right;\n",
              "    }\n",
              "</style>\n",
              "<table border=\"1\" class=\"dataframe\">\n",
              "  <thead>\n",
              "    <tr style=\"text-align: right;\">\n",
              "      <th></th>\n",
              "      <th>index</th>\n",
              "      <th>y_pred</th>\n",
              "    </tr>\n",
              "  </thead>\n",
              "  <tbody>\n",
              "    <tr>\n",
              "      <th>0</th>\n",
              "      <td>0</td>\n",
              "      <td>0.124348</td>\n",
              "    </tr>\n",
              "    <tr>\n",
              "      <th>1</th>\n",
              "      <td>1</td>\n",
              "      <td>0.124608</td>\n",
              "    </tr>\n",
              "    <tr>\n",
              "      <th>2</th>\n",
              "      <td>2</td>\n",
              "      <td>0.075106</td>\n",
              "    </tr>\n",
              "    <tr>\n",
              "      <th>3</th>\n",
              "      <td>3</td>\n",
              "      <td>0.953995</td>\n",
              "    </tr>\n",
              "    <tr>\n",
              "      <th>4</th>\n",
              "      <td>4</td>\n",
              "      <td>0.159757</td>\n",
              "    </tr>\n",
              "    <tr>\n",
              "      <th>...</th>\n",
              "      <td>...</td>\n",
              "      <td>...</td>\n",
              "    </tr>\n",
              "    <tr>\n",
              "      <th>492</th>\n",
              "      <td>492</td>\n",
              "      <td>0.178779</td>\n",
              "    </tr>\n",
              "    <tr>\n",
              "      <th>493</th>\n",
              "      <td>493</td>\n",
              "      <td>0.937793</td>\n",
              "    </tr>\n",
              "    <tr>\n",
              "      <th>494</th>\n",
              "      <td>494</td>\n",
              "      <td>0.140822</td>\n",
              "    </tr>\n",
              "    <tr>\n",
              "      <th>495</th>\n",
              "      <td>495</td>\n",
              "      <td>0.945977</td>\n",
              "    </tr>\n",
              "    <tr>\n",
              "      <th>496</th>\n",
              "      <td>496</td>\n",
              "      <td>0.964555</td>\n",
              "    </tr>\n",
              "  </tbody>\n",
              "</table>\n",
              "<p>497 rows × 2 columns</p>\n",
              "</div>"
            ],
            "text/plain": [
              "     index    y_pred\n",
              "0        0  0.124348\n",
              "1        1  0.124608\n",
              "2        2  0.075106\n",
              "3        3  0.953995\n",
              "4        4  0.159757\n",
              "..     ...       ...\n",
              "492    492  0.178779\n",
              "493    493  0.937793\n",
              "494    494  0.140822\n",
              "495    495  0.945977\n",
              "496    496  0.964555\n",
              "\n",
              "[497 rows x 2 columns]"
            ]
          },
          "execution_count": 29,
          "metadata": {},
          "output_type": "execute_result"
        }
      ],
      "source": [
        "# csv 파일1 확인\n",
        "pd.read_csv('0000.csv')"
      ]
    },
    {
      "cell_type": "code",
      "execution_count": null,
      "metadata": {
        "id": "zWqTvd9OWmxw"
      },
      "outputs": [],
      "source": [
        "# csv 파일2 확인\n"
      ]
    },
    {
      "cell_type": "markdown",
      "metadata": {
        "id": "9-zAKxt2uzFa"
      },
      "source": [
        "## 체점\n",
        "- 수험자는 알 수 없는 부분임"
      ]
    },
    {
      "cell_type": "code",
      "execution_count": null,
      "metadata": {
        "id": "ofAnKoNVu0At"
      },
      "outputs": [],
      "source": [
        "# y_test = pd.read_csv(\"y_test.csv\")\n",
        "# roc_auc_score(y_test, pred)"
      ]
    },
    {
      "cell_type": "code",
      "execution_count": null,
      "metadata": {
        "id": "r-L5ToHOvqWX"
      },
      "outputs": [],
      "source": [
        "# 당신의 score는?: 0.7875693000693"
      ]
    }
  ],
  "metadata": {
    "colab": {
      "include_colab_link": true,
      "provenance": []
    },
    "kernelspec": {
      "display_name": "Python 3",
      "name": "python3"
    },
    "language_info": {
      "codemirror_mode": {
        "name": "ipython",
        "version": 3
      },
      "file_extension": ".py",
      "mimetype": "text/x-python",
      "name": "python",
      "nbconvert_exporter": "python",
      "pygments_lexer": "ipython3",
      "version": "3.11.7"
    }
  },
  "nbformat": 4,
  "nbformat_minor": 0
}
