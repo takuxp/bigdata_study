{
  "cells": [
    {
      "cell_type": "markdown",
      "metadata": {
        "colab_type": "text",
        "id": "view-in-github"
      },
      "source": [
        "<a href=\"https://colab.research.google.com/github/takuxp/bigdata_study/blob/main/type1_3rd.ipynb\" target=\"_parent\"><img src=\"https://colab.research.google.com/assets/colab-badge.svg\" alt=\"Open In Colab\"/></a>"
      ]
    },
    {
      "cell_type": "markdown",
      "metadata": {
        "id": "47HsBjEbBBPA"
      },
      "source": [
        "# 작업형1\n",
        "- 빅데이터 분석기사 3회 실기\n",
        "- 데이터: members.csv 또는 임의 데이터 생성"
      ]
    },
    {
      "cell_type": "markdown",
      "metadata": {
        "id": "WaSPmIHXojbx"
      },
      "source": [
        "## 문제1\n",
        "- 결측치 데이터(행)을 제거하고, 앞에서부터 70% 데이터만 활용해, 'f1' 컬럼 1사분위 값을 구하시오\n",
        "- 데이터: members.csv"
      ]
    },
    {
      "cell_type": "code",
      "execution_count": 21,
      "metadata": {
        "id": "rX5s6Ujhojl-"
      },
      "outputs": [
        {
          "name": "stdout",
          "output_type": "stream",
          "text": [
            "id             0\n",
            "age            0\n",
            "city           0\n",
            "f1            31\n",
            "f2             0\n",
            "f3            28\n",
            "f4             0\n",
            "f5             0\n",
            "subscribed     0\n",
            "views          4\n",
            "dtype: int64\n",
            "35\n"
          ]
        },
        {
          "data": {
            "text/plain": [
              "57.0"
            ]
          },
          "execution_count": 21,
          "metadata": {},
          "output_type": "execute_result"
        }
      ],
      "source": [
        "#결측치 제거\n",
        "import pandas as pd\n",
        "df = pd.read_csv(\"members.csv\")\n",
        "print(df.isnull().sum())\n",
        "df = df.dropna()\n",
        "df.shape\n",
        "print(int(len(df) * 0.7))\n",
        "df = df.iloc[:int(len(df) * 0.7)]\n",
        "df = df.sort_values('f1')\n",
        "\n",
        "print(df['f1'].quantile(.25))"
      ]
    },
    {
      "cell_type": "markdown",
      "metadata": {
        "id": "b1QCUZLFoj5k"
      },
      "source": [
        "## 문제2\n",
        "- index는 년도임. 2000년 데이터 중 2000년 평균보다 큰 값의 데이터 수\n",
        "- 데이터: 아래 셀 실행"
      ]
    },
    {
      "cell_type": "code",
      "execution_count": null,
      "metadata": {
        "id": "Kb3gQAwPoqmV"
      },
      "outputs": [],
      "source": [
        "# 데이터 생성(먼저 실행해 주세요)\n",
        "import pandas as pd\n",
        "import random\n",
        "random.seed(2022)\n",
        "df = pd.DataFrame()\n",
        "for i in range(0, 3):\n",
        "    list_box = []\n",
        "    for k in range(0, 200):\n",
        "        ran_num = random.randint(1,200)\n",
        "        list_box.append(ran_num)\n",
        "    df[i+1999] = list_box\n",
        "df = df.T\n",
        "df"
      ]
    },
    {
      "cell_type": "code",
      "execution_count": null,
      "metadata": {
        "id": "HQvSFNkNokCN"
      },
      "outputs": [],
      "source": []
    },
    {
      "cell_type": "markdown",
      "metadata": {
        "id": "B-At2JOqokPY"
      },
      "source": [
        "## 문제3\n",
        "- 결측치가 제일 큰 값의 컬럼명\n",
        "- 데이터: members.csv"
      ]
    },
    {
      "cell_type": "code",
      "execution_count": null,
      "metadata": {
        "id": "L5JUMZMvokXo"
      },
      "outputs": [],
      "source": []
    },
    {
      "cell_type": "markdown",
      "metadata": {
        "id": "6E6EW3mooz47"
      },
      "source": [
        "# 풀이"
      ]
    },
    {
      "cell_type": "markdown",
      "metadata": {
        "id": "amC4XdUCNDz9"
      },
      "source": [
        "## 문제1\n",
        "- 결측치 데이터(행)을 제거하고, 앞에서부터 70% 데이터만 활용해, 'f1' 컬럼 1사분위 값을 구하시오\n",
        "- 데이터: members.csv"
      ]
    },
    {
      "cell_type": "code",
      "execution_count": null,
      "metadata": {
        "colab": {
          "base_uri": "https://localhost:8080/"
        },
        "id": "hQiwbMwIHMqY",
        "outputId": "56ad3ef5-b98b-429d-ac40-8480bb5d8e7a"
      },
      "outputs": [
        {
          "name": "stdout",
          "output_type": "stream",
          "text": [
            "57.0\n"
          ]
        }
      ],
      "source": [
        "import pandas as pd\n",
        "df = pd.read_csv(\"members.csv\")\n",
        "# print(df.isnull().sum())\n",
        "# print(df.shape)\n",
        "df = df.dropna()\n",
        "# print(df.shape)\n",
        "\n",
        "# print(int(len(df)*0.7))\n",
        "df = df.iloc[:int(len(df)*0.7)]\n",
        "# print(df.shape)\n",
        "\n",
        "print(df['f1'].quantile(.25))"
      ]
    },
    {
      "cell_type": "markdown",
      "metadata": {
        "id": "cnkubHLYIvA_"
      },
      "source": [
        "## 문제2\n",
        "- index는 년도임. 2000년 데이터 중 2000년 평균보다 큰 값의 데이터 수\n",
        "- 데이터: 아래 셀 실행"
      ]
    },
    {
      "cell_type": "code",
      "execution_count": 22,
      "metadata": {
        "colab": {
          "base_uri": "https://localhost:8080/",
          "height": 235
        },
        "id": "umbbaTFdI41o",
        "outputId": "ba504e07-32b0-41e1-bfcc-561184ef7898"
      },
      "outputs": [
        {
          "data": {
            "text/html": [
              "<div>\n",
              "<style scoped>\n",
              "    .dataframe tbody tr th:only-of-type {\n",
              "        vertical-align: middle;\n",
              "    }\n",
              "\n",
              "    .dataframe tbody tr th {\n",
              "        vertical-align: top;\n",
              "    }\n",
              "\n",
              "    .dataframe thead th {\n",
              "        text-align: right;\n",
              "    }\n",
              "</style>\n",
              "<table border=\"1\" class=\"dataframe\">\n",
              "  <thead>\n",
              "    <tr style=\"text-align: right;\">\n",
              "      <th></th>\n",
              "      <th>0</th>\n",
              "      <th>1</th>\n",
              "      <th>2</th>\n",
              "      <th>3</th>\n",
              "      <th>4</th>\n",
              "      <th>5</th>\n",
              "      <th>6</th>\n",
              "      <th>7</th>\n",
              "      <th>8</th>\n",
              "      <th>9</th>\n",
              "      <th>...</th>\n",
              "      <th>190</th>\n",
              "      <th>191</th>\n",
              "      <th>192</th>\n",
              "      <th>193</th>\n",
              "      <th>194</th>\n",
              "      <th>195</th>\n",
              "      <th>196</th>\n",
              "      <th>197</th>\n",
              "      <th>198</th>\n",
              "      <th>199</th>\n",
              "    </tr>\n",
              "  </thead>\n",
              "  <tbody>\n",
              "    <tr>\n",
              "      <th>1999</th>\n",
              "      <td>137</td>\n",
              "      <td>74</td>\n",
              "      <td>114</td>\n",
              "      <td>140</td>\n",
              "      <td>80</td>\n",
              "      <td>150</td>\n",
              "      <td>16</td>\n",
              "      <td>133</td>\n",
              "      <td>178</td>\n",
              "      <td>181</td>\n",
              "      <td>...</td>\n",
              "      <td>124</td>\n",
              "      <td>94</td>\n",
              "      <td>118</td>\n",
              "      <td>12</td>\n",
              "      <td>50</td>\n",
              "      <td>191</td>\n",
              "      <td>137</td>\n",
              "      <td>174</td>\n",
              "      <td>56</td>\n",
              "      <td>128</td>\n",
              "    </tr>\n",
              "    <tr>\n",
              "      <th>2000</th>\n",
              "      <td>176</td>\n",
              "      <td>87</td>\n",
              "      <td>64</td>\n",
              "      <td>110</td>\n",
              "      <td>128</td>\n",
              "      <td>16</td>\n",
              "      <td>8</td>\n",
              "      <td>4</td>\n",
              "      <td>123</td>\n",
              "      <td>87</td>\n",
              "      <td>...</td>\n",
              "      <td>59</td>\n",
              "      <td>22</td>\n",
              "      <td>3</td>\n",
              "      <td>108</td>\n",
              "      <td>17</td>\n",
              "      <td>104</td>\n",
              "      <td>101</td>\n",
              "      <td>161</td>\n",
              "      <td>156</td>\n",
              "      <td>43</td>\n",
              "    </tr>\n",
              "    <tr>\n",
              "      <th>2001</th>\n",
              "      <td>128</td>\n",
              "      <td>132</td>\n",
              "      <td>123</td>\n",
              "      <td>112</td>\n",
              "      <td>134</td>\n",
              "      <td>160</td>\n",
              "      <td>180</td>\n",
              "      <td>47</td>\n",
              "      <td>115</td>\n",
              "      <td>155</td>\n",
              "      <td>...</td>\n",
              "      <td>160</td>\n",
              "      <td>111</td>\n",
              "      <td>116</td>\n",
              "      <td>75</td>\n",
              "      <td>48</td>\n",
              "      <td>51</td>\n",
              "      <td>81</td>\n",
              "      <td>101</td>\n",
              "      <td>194</td>\n",
              "      <td>73</td>\n",
              "    </tr>\n",
              "  </tbody>\n",
              "</table>\n",
              "<p>3 rows × 200 columns</p>\n",
              "</div>"
            ],
            "text/plain": [
              "      0    1    2    3    4    5    6    7    8    9    ...  190  191  192  \\\n",
              "1999  137   74  114  140   80  150   16  133  178  181  ...  124   94  118   \n",
              "2000  176   87   64  110  128   16    8    4  123   87  ...   59   22    3   \n",
              "2001  128  132  123  112  134  160  180   47  115  155  ...  160  111  116   \n",
              "\n",
              "      193  194  195  196  197  198  199  \n",
              "1999   12   50  191  137  174   56  128  \n",
              "2000  108   17  104  101  161  156   43  \n",
              "2001   75   48   51   81  101  194   73  \n",
              "\n",
              "[3 rows x 200 columns]"
            ]
          },
          "execution_count": 22,
          "metadata": {},
          "output_type": "execute_result"
        }
      ],
      "source": [
        "# 데이터 생성(먼저 실행해 주세요)\n",
        "import pandas as pd\n",
        "import random\n",
        "random.seed(2022)\n",
        "df = pd.DataFrame()\n",
        "for i in range(0, 3):\n",
        "    list_box = []\n",
        "    for k in range(0, 200):\n",
        "        ran_num = random.randint(1,200)\n",
        "        list_box.append(ran_num)\n",
        "    df[i+1999] = list_box\n",
        "df = df.T\n",
        "df"
      ]
    },
    {
      "cell_type": "code",
      "execution_count": null,
      "metadata": {
        "colab": {
          "base_uri": "https://localhost:8080/"
        },
        "id": "t-_rn28W_A5H",
        "outputId": "5b775e56-0b56-4c98-abb0-799a371096b9"
      },
      "outputs": [
        {
          "name": "stdout",
          "output_type": "stream",
          "text": [
            "100\n",
            "100\n"
          ]
        }
      ],
      "source": [
        "# 방법1\n",
        "m = df.loc[2000].mean()\n",
        "print(sum(df.loc[2000,:] > m))\n",
        "\n",
        "# 방법2\n",
        "df = df.T\n",
        "m = df[2000].mean()\n",
        "print(sum(df[2000] > m))"
      ]
    },
    {
      "cell_type": "markdown",
      "metadata": {
        "id": "JdpTHqpTI8hO"
      },
      "source": [
        "## 문제3\n",
        "- 결측치가 제일 큰 값의 컬럼명\n",
        "- 데이터: members.csv"
      ]
    },
    {
      "cell_type": "code",
      "execution_count": null,
      "metadata": {
        "colab": {
          "base_uri": "https://localhost:8080/",
          "height": 38
        },
        "id": "hXxCFs7wJW-F",
        "outputId": "ef00ca4c-7d2a-42bf-d13c-d026f4786584"
      },
      "outputs": [
        {
          "data": {
            "application/vnd.google.colaboratory.intrinsic+json": {
              "type": "string"
            },
            "text/plain": [
              "'f1'"
            ]
          },
          "execution_count": 58,
          "metadata": {},
          "output_type": "execute_result"
        }
      ],
      "source": [
        "import pandas as pd\n",
        "df = pd.read_csv(\"members.csv\")\n",
        "\n",
        "# 방법1\n",
        "# df = df.isnull().sum()\n",
        "# df = df.sort_values(ascending=False)\n",
        "# print(df.index[0])\n",
        "\n",
        "# 방법2\n",
        "df = df.isnull().sum()\n",
        "df = df.reset_index()\n",
        "print(df.loc[3, 'index'])"
      ]
    }
  ],
  "metadata": {
    "colab": {
      "include_colab_link": true,
      "provenance": [],
      "toc_visible": true
    },
    "kernelspec": {
      "display_name": "Python 3",
      "name": "python3"
    },
    "language_info": {
      "codemirror_mode": {
        "name": "ipython",
        "version": 3
      },
      "file_extension": ".py",
      "mimetype": "text/x-python",
      "name": "python",
      "nbconvert_exporter": "python",
      "pygments_lexer": "ipython3",
      "version": "3.11.7"
    }
  },
  "nbformat": 4,
  "nbformat_minor": 0
}
