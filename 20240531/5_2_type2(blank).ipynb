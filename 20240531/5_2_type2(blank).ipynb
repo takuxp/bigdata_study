{
  "cells": [
    {
      "cell_type": "markdown",
      "metadata": {
        "colab_type": "text",
        "id": "view-in-github"
      },
      "source": [
        "<a href=\"https://colab.research.google.com/github/takuxp/bigdata_study/blob/main/5_2_type2(blank).ipynb\" target=\"_parent\"><img src=\"https://colab.research.google.com/assets/colab-badge.svg\" alt=\"Open In Colab\"/></a>"
      ]
    },
    {
      "cell_type": "markdown",
      "metadata": {
        "id": "k5Z7yULvzpsF"
      },
      "source": [
        "## 에어비엔비 가격?\n",
        "- 평가: R-Squared, MAE, MSE, RMSE, RMSLE, MAPE\n",
        "- target : price(가격)\n",
        "- csv파일 생성 : 수험번호.csv (예시 아래 참조)\n",
        "~~~\n",
        "id,price\n",
        "34323697,238\n",
        "29927138,183\n",
        "120362,234\n",
        "~~~\n",
        "\n"
      ]
    },
    {
      "cell_type": "markdown",
      "metadata": {
        "id": "1qZteLJKC6or"
      },
      "source": [
        "## 데이터 불러오기"
      ]
    },
    {
      "cell_type": "code",
      "execution_count": 71,
      "metadata": {
        "id": "79P4zcpB0CHw"
      },
      "outputs": [
        {
          "name": "stdout",
          "output_type": "stream",
          "text": [
            "(39116, 16) (9779, 15)\n"
          ]
        }
      ],
      "source": [
        "import pandas as pd\n",
        "train = pd.read_csv(\"train.csv\")\n",
        "test = pd.read_csv(\"test.csv\")\n",
        "print(train.shape, test.shape)"
      ]
    },
    {
      "cell_type": "markdown",
      "metadata": {
        "id": "ziiQ-hrGqm5C"
      },
      "source": [
        "##EDA"
      ]
    },
    {
      "cell_type": "code",
      "execution_count": 72,
      "metadata": {
        "id": "HrbG49RDXBXh"
      },
      "outputs": [
        {
          "data": {
            "text/html": [
              "<div>\n",
              "<style scoped>\n",
              "    .dataframe tbody tr th:only-of-type {\n",
              "        vertical-align: middle;\n",
              "    }\n",
              "\n",
              "    .dataframe tbody tr th {\n",
              "        vertical-align: top;\n",
              "    }\n",
              "\n",
              "    .dataframe thead th {\n",
              "        text-align: right;\n",
              "    }\n",
              "</style>\n",
              "<table border=\"1\" class=\"dataframe\">\n",
              "  <thead>\n",
              "    <tr style=\"text-align: right;\">\n",
              "      <th></th>\n",
              "      <th>id</th>\n",
              "      <th>name</th>\n",
              "      <th>host_id</th>\n",
              "      <th>host_name</th>\n",
              "      <th>neighbourhood_group</th>\n",
              "      <th>neighbourhood</th>\n",
              "      <th>latitude</th>\n",
              "      <th>longitude</th>\n",
              "      <th>room_type</th>\n",
              "      <th>minimum_nights</th>\n",
              "      <th>number_of_reviews</th>\n",
              "      <th>last_review</th>\n",
              "      <th>reviews_per_month</th>\n",
              "      <th>calculated_host_listings_count</th>\n",
              "      <th>availability_365</th>\n",
              "      <th>price</th>\n",
              "    </tr>\n",
              "  </thead>\n",
              "  <tbody>\n",
              "    <tr>\n",
              "      <th>0</th>\n",
              "      <td>35742633</td>\n",
              "      <td>Luxury new 1 bed apartment in East Williamsburg</td>\n",
              "      <td>265866685</td>\n",
              "      <td>Mindy</td>\n",
              "      <td>Brooklyn</td>\n",
              "      <td>Bushwick</td>\n",
              "      <td>40.69796</td>\n",
              "      <td>-73.92915</td>\n",
              "      <td>Entire home/apt</td>\n",
              "      <td>30</td>\n",
              "      <td>0</td>\n",
              "      <td>NaN</td>\n",
              "      <td>NaN</td>\n",
              "      <td>2</td>\n",
              "      <td>179</td>\n",
              "      <td>198</td>\n",
              "    </tr>\n",
              "    <tr>\n",
              "      <th>1</th>\n",
              "      <td>15840089</td>\n",
              "      <td>Kid- (and Adult-) Friendly Uptown 2-Bedroom</td>\n",
              "      <td>99602138</td>\n",
              "      <td>Yolanda</td>\n",
              "      <td>Manhattan</td>\n",
              "      <td>Washington Heights</td>\n",
              "      <td>40.83490</td>\n",
              "      <td>-73.94829</td>\n",
              "      <td>Entire home/apt</td>\n",
              "      <td>3</td>\n",
              "      <td>36</td>\n",
              "      <td>2019-01-01</td>\n",
              "      <td>1.13</td>\n",
              "      <td>1</td>\n",
              "      <td>5</td>\n",
              "      <td>150</td>\n",
              "    </tr>\n",
              "    <tr>\n",
              "      <th>2</th>\n",
              "      <td>24495605</td>\n",
              "      <td>Brooklyn Art Residence</td>\n",
              "      <td>75173477</td>\n",
              "      <td>Lara</td>\n",
              "      <td>Brooklyn</td>\n",
              "      <td>Bushwick</td>\n",
              "      <td>40.69932</td>\n",
              "      <td>-73.91191</td>\n",
              "      <td>Entire home/apt</td>\n",
              "      <td>3</td>\n",
              "      <td>7</td>\n",
              "      <td>2019-05-05</td>\n",
              "      <td>0.48</td>\n",
              "      <td>1</td>\n",
              "      <td>6</td>\n",
              "      <td>200</td>\n",
              "    </tr>\n",
              "  </tbody>\n",
              "</table>\n",
              "</div>"
            ],
            "text/plain": [
              "         id                                             name    host_id  \\\n",
              "0  35742633  Luxury new 1 bed apartment in East Williamsburg  265866685   \n",
              "1  15840089      Kid- (and Adult-) Friendly Uptown 2-Bedroom   99602138   \n",
              "2  24495605                           Brooklyn Art Residence   75173477   \n",
              "\n",
              "  host_name neighbourhood_group       neighbourhood  latitude  longitude  \\\n",
              "0     Mindy            Brooklyn            Bushwick  40.69796  -73.92915   \n",
              "1   Yolanda           Manhattan  Washington Heights  40.83490  -73.94829   \n",
              "2      Lara            Brooklyn            Bushwick  40.69932  -73.91191   \n",
              "\n",
              "         room_type  minimum_nights  number_of_reviews last_review  \\\n",
              "0  Entire home/apt              30                  0         NaN   \n",
              "1  Entire home/apt               3                 36  2019-01-01   \n",
              "2  Entire home/apt               3                  7  2019-05-05   \n",
              "\n",
              "   reviews_per_month  calculated_host_listings_count  availability_365  price  \n",
              "0                NaN                               2               179    198  \n",
              "1               1.13                               1                 5    150  \n",
              "2               0.48                               1                 6    200  "
            ]
          },
          "execution_count": 72,
          "metadata": {},
          "output_type": "execute_result"
        }
      ],
      "source": [
        "train.head(3)"
      ]
    },
    {
      "cell_type": "code",
      "execution_count": 73,
      "metadata": {
        "id": "Rk4hiVXHXBaD"
      },
      "outputs": [
        {
          "data": {
            "text/html": [
              "<div>\n",
              "<style scoped>\n",
              "    .dataframe tbody tr th:only-of-type {\n",
              "        vertical-align: middle;\n",
              "    }\n",
              "\n",
              "    .dataframe tbody tr th {\n",
              "        vertical-align: top;\n",
              "    }\n",
              "\n",
              "    .dataframe thead th {\n",
              "        text-align: right;\n",
              "    }\n",
              "</style>\n",
              "<table border=\"1\" class=\"dataframe\">\n",
              "  <thead>\n",
              "    <tr style=\"text-align: right;\">\n",
              "      <th></th>\n",
              "      <th>id</th>\n",
              "      <th>name</th>\n",
              "      <th>host_id</th>\n",
              "      <th>host_name</th>\n",
              "      <th>neighbourhood_group</th>\n",
              "      <th>neighbourhood</th>\n",
              "      <th>latitude</th>\n",
              "      <th>longitude</th>\n",
              "      <th>room_type</th>\n",
              "      <th>minimum_nights</th>\n",
              "      <th>number_of_reviews</th>\n",
              "      <th>last_review</th>\n",
              "      <th>reviews_per_month</th>\n",
              "      <th>calculated_host_listings_count</th>\n",
              "      <th>availability_365</th>\n",
              "    </tr>\n",
              "  </thead>\n",
              "  <tbody>\n",
              "    <tr>\n",
              "      <th>0</th>\n",
              "      <td>34323697</td>\n",
              "      <td>Sonder | The Biltmore | Bright 1BR + Sofa Bed</td>\n",
              "      <td>219517861</td>\n",
              "      <td>Sonder (NYC)</td>\n",
              "      <td>Manhattan</td>\n",
              "      <td>Theater District</td>\n",
              "      <td>40.75965</td>\n",
              "      <td>-73.98652</td>\n",
              "      <td>Entire home/apt</td>\n",
              "      <td>29</td>\n",
              "      <td>0</td>\n",
              "      <td>NaN</td>\n",
              "      <td>NaN</td>\n",
              "      <td>327</td>\n",
              "      <td>338</td>\n",
              "    </tr>\n",
              "    <tr>\n",
              "      <th>1</th>\n",
              "      <td>29927138</td>\n",
              "      <td>A great space in NYC</td>\n",
              "      <td>158461160</td>\n",
              "      <td>Sophia</td>\n",
              "      <td>Brooklyn</td>\n",
              "      <td>Bedford-Stuyvesant</td>\n",
              "      <td>40.68062</td>\n",
              "      <td>-73.94418</td>\n",
              "      <td>Entire home/apt</td>\n",
              "      <td>30</td>\n",
              "      <td>1</td>\n",
              "      <td>2019-05-31</td>\n",
              "      <td>0.75</td>\n",
              "      <td>6</td>\n",
              "      <td>284</td>\n",
              "    </tr>\n",
              "  </tbody>\n",
              "</table>\n",
              "</div>"
            ],
            "text/plain": [
              "         id                                           name    host_id  \\\n",
              "0  34323697  Sonder | The Biltmore | Bright 1BR + Sofa Bed  219517861   \n",
              "1  29927138                           A great space in NYC  158461160   \n",
              "\n",
              "      host_name neighbourhood_group       neighbourhood  latitude  longitude  \\\n",
              "0  Sonder (NYC)           Manhattan    Theater District  40.75965  -73.98652   \n",
              "1        Sophia            Brooklyn  Bedford-Stuyvesant  40.68062  -73.94418   \n",
              "\n",
              "         room_type  minimum_nights  number_of_reviews last_review  \\\n",
              "0  Entire home/apt              29                  0         NaN   \n",
              "1  Entire home/apt              30                  1  2019-05-31   \n",
              "\n",
              "   reviews_per_month  calculated_host_listings_count  availability_365  \n",
              "0                NaN                             327               338  \n",
              "1               0.75                               6               284  "
            ]
          },
          "execution_count": 73,
          "metadata": {},
          "output_type": "execute_result"
        }
      ],
      "source": [
        "test.head(2)"
      ]
    },
    {
      "cell_type": "code",
      "execution_count": 74,
      "metadata": {
        "id": "WCVf___rXBcr"
      },
      "outputs": [
        {
          "data": {
            "text/plain": [
              "id                                   0\n",
              "name                                14\n",
              "host_id                              0\n",
              "host_name                           16\n",
              "neighbourhood_group                  0\n",
              "neighbourhood                        0\n",
              "latitude                             0\n",
              "longitude                            0\n",
              "room_type                            0\n",
              "minimum_nights                       0\n",
              "number_of_reviews                    0\n",
              "last_review                       8053\n",
              "reviews_per_month                 8053\n",
              "calculated_host_listings_count       0\n",
              "availability_365                     0\n",
              "price                                0\n",
              "dtype: int64"
            ]
          },
          "execution_count": 74,
          "metadata": {},
          "output_type": "execute_result"
        }
      ],
      "source": [
        "train.isnull().sum()"
      ]
    },
    {
      "cell_type": "code",
      "execution_count": 75,
      "metadata": {
        "id": "fmVmeQweXBfd"
      },
      "outputs": [
        {
          "data": {
            "text/plain": [
              "id                                   0\n",
              "name                                 2\n",
              "host_id                              0\n",
              "host_name                            5\n",
              "neighbourhood_group                  0\n",
              "neighbourhood                        0\n",
              "latitude                             0\n",
              "longitude                            0\n",
              "room_type                            0\n",
              "minimum_nights                       0\n",
              "number_of_reviews                    0\n",
              "last_review                       1999\n",
              "reviews_per_month                 1999\n",
              "calculated_host_listings_count       0\n",
              "availability_365                     0\n",
              "dtype: int64"
            ]
          },
          "execution_count": 75,
          "metadata": {},
          "output_type": "execute_result"
        }
      ],
      "source": [
        "test.isnull().sum()"
      ]
    },
    {
      "cell_type": "code",
      "execution_count": 76,
      "metadata": {
        "id": "E4DsLbbVXBiC"
      },
      "outputs": [
        {
          "data": {
            "text/plain": [
              "<Axes: >"
            ]
          },
          "execution_count": 76,
          "metadata": {},
          "output_type": "execute_result"
        },
        {
          "data": {
            "image/png": "[encoded data removed]",
            "text/plain": [
              "<Figure size 640x480 with 1 Axes>"
            ]
          },
          "metadata": {},
          "output_type": "display_data"
        }
      ],
      "source": [
        "train['price'].hist()"
      ]
    },
    {
      "cell_type": "code",
      "execution_count": 77,
      "metadata": {
        "id": "sIwHTD3vXBka"
      },
      "outputs": [
        {
          "data": {
            "text/plain": [
              "count    39116.000000\n",
              "mean       153.057547\n",
              "std        248.758522\n",
              "min          0.000000\n",
              "25%         69.000000\n",
              "50%        105.000000\n",
              "75%        175.000000\n",
              "max      10000.000000\n",
              "Name: price, dtype: float64"
            ]
          },
          "execution_count": 77,
          "metadata": {},
          "output_type": "execute_result"
        }
      ],
      "source": [
        "train['price'].describe()"
      ]
    },
    {
      "cell_type": "code",
      "execution_count": 78,
      "metadata": {
        "id": "t719hBwYXCIX"
      },
      "outputs": [
        {
          "name": "stdout",
          "output_type": "stream",
          "text": [
            "<class 'pandas.core.frame.DataFrame'>\n",
            "RangeIndex: 39116 entries, 0 to 39115\n",
            "Data columns (total 16 columns):\n",
            " #   Column                          Non-Null Count  Dtype  \n",
            "---  ------                          --------------  -----  \n",
            " 0   id                              39116 non-null  int64  \n",
            " 1   name                            39102 non-null  object \n",
            " 2   host_id                         39116 non-null  int64  \n",
            " 3   host_name                       39100 non-null  object \n",
            " 4   neighbourhood_group             39116 non-null  object \n",
            " 5   neighbourhood                   39116 non-null  object \n",
            " 6   latitude                        39116 non-null  float64\n",
            " 7   longitude                       39116 non-null  float64\n",
            " 8   room_type                       39116 non-null  object \n",
            " 9   minimum_nights                  39116 non-null  int64  \n",
            " 10  number_of_reviews               39116 non-null  int64  \n",
            " 11  last_review                     31063 non-null  object \n",
            " 12  reviews_per_month               31063 non-null  float64\n",
            " 13  calculated_host_listings_count  39116 non-null  int64  \n",
            " 14  availability_365                39116 non-null  int64  \n",
            " 15  price                           39116 non-null  int64  \n",
            "dtypes: float64(3), int64(7), object(6)\n",
            "memory usage: 4.8+ MB\n"
          ]
        }
      ],
      "source": [
        "train.info()"
      ]
    },
    {
      "cell_type": "code",
      "execution_count": null,
      "metadata": {
        "id": "RJY4YPcRXCKr"
      },
      "outputs": [],
      "source": []
    },
    {
      "cell_type": "markdown",
      "metadata": {
        "id": "DiUkXUO16g-G"
      },
      "source": [
        "## 데이터 전처리 & 피처엔지니어링"
      ]
    },
    {
      "cell_type": "code",
      "execution_count": 79,
      "metadata": {
        "id": "LTt0bg85XHGI"
      },
      "outputs": [
        {
          "data": {
            "text/plain": [
              "id                                39116\n",
              "name                              38447\n",
              "host_id                           30821\n",
              "host_name                          9943\n",
              "neighbourhood_group                   5\n",
              "neighbourhood                       221\n",
              "latitude                          17378\n",
              "longitude                         13607\n",
              "room_type                             3\n",
              "minimum_nights                       94\n",
              "number_of_reviews                   377\n",
              "last_review                        1720\n",
              "reviews_per_month                   903\n",
              "calculated_host_listings_count       47\n",
              "availability_365                    366\n",
              "price                               638\n",
              "dtype: int64"
            ]
          },
          "execution_count": 79,
          "metadata": {},
          "output_type": "execute_result"
        }
      ],
      "source": [
        "# 결측치 처리\n",
        "train.nunique()\n",
        "#name, host_name, last_review 삭제 reviews_per_month-> 0"
      ]
    },
    {
      "cell_type": "code",
      "execution_count": 80,
      "metadata": {
        "id": "2LBrRTC4XHIo"
      },
      "outputs": [
        {
          "name": "stdout",
          "output_type": "stream",
          "text": [
            "(39116, 16)\n",
            "(39116, 12)\n"
          ]
        }
      ],
      "source": [
        "cols = [\"name\", \"host_name\", \"last_review\", \"host_id\"]\n",
        "print(train.shape)\n",
        "train = train.drop(cols, axis=1)\n",
        "test = test.drop(cols, axis=1)\n",
        "print(train.shape)"
      ]
    },
    {
      "cell_type": "code",
      "execution_count": 81,
      "metadata": {
        "id": "YFK5yYcEXHLa"
      },
      "outputs": [
        {
          "data": {
            "text/plain": [
              "id                                0\n",
              "neighbourhood_group               0\n",
              "neighbourhood                     0\n",
              "latitude                          0\n",
              "longitude                         0\n",
              "room_type                         0\n",
              "minimum_nights                    0\n",
              "number_of_reviews                 0\n",
              "reviews_per_month                 0\n",
              "calculated_host_listings_count    0\n",
              "availability_365                  0\n",
              "price                             0\n",
              "dtype: int64"
            ]
          },
          "execution_count": 81,
          "metadata": {},
          "output_type": "execute_result"
        }
      ],
      "source": [
        "train['reviews_per_month'] = train['reviews_per_month'].fillna(0)\n",
        "test['reviews_per_month'] = test['reviews_per_month'].fillna(0)\n",
        "train.isnull().sum()"
      ]
    },
    {
      "cell_type": "code",
      "execution_count": 82,
      "metadata": {
        "id": "LhDmnkjeXHN_"
      },
      "outputs": [
        {
          "data": {
            "text/html": [
              "<div>\n",
              "<style scoped>\n",
              "    .dataframe tbody tr th:only-of-type {\n",
              "        vertical-align: middle;\n",
              "    }\n",
              "\n",
              "    .dataframe tbody tr th {\n",
              "        vertical-align: top;\n",
              "    }\n",
              "\n",
              "    .dataframe thead th {\n",
              "        text-align: right;\n",
              "    }\n",
              "</style>\n",
              "<table border=\"1\" class=\"dataframe\">\n",
              "  <thead>\n",
              "    <tr style=\"text-align: right;\">\n",
              "      <th></th>\n",
              "      <th>neighbourhood_group</th>\n",
              "      <th>neighbourhood</th>\n",
              "      <th>latitude</th>\n",
              "      <th>longitude</th>\n",
              "      <th>room_type</th>\n",
              "      <th>minimum_nights</th>\n",
              "      <th>number_of_reviews</th>\n",
              "      <th>reviews_per_month</th>\n",
              "      <th>calculated_host_listings_count</th>\n",
              "      <th>availability_365</th>\n",
              "    </tr>\n",
              "  </thead>\n",
              "  <tbody>\n",
              "    <tr>\n",
              "      <th>0</th>\n",
              "      <td>Manhattan</td>\n",
              "      <td>Theater District</td>\n",
              "      <td>40.75965</td>\n",
              "      <td>-73.98652</td>\n",
              "      <td>Entire home/apt</td>\n",
              "      <td>29</td>\n",
              "      <td>0</td>\n",
              "      <td>0.00</td>\n",
              "      <td>327</td>\n",
              "      <td>338</td>\n",
              "    </tr>\n",
              "    <tr>\n",
              "      <th>1</th>\n",
              "      <td>Brooklyn</td>\n",
              "      <td>Bedford-Stuyvesant</td>\n",
              "      <td>40.68062</td>\n",
              "      <td>-73.94418</td>\n",
              "      <td>Entire home/apt</td>\n",
              "      <td>30</td>\n",
              "      <td>1</td>\n",
              "      <td>0.75</td>\n",
              "      <td>6</td>\n",
              "      <td>284</td>\n",
              "    </tr>\n",
              "    <tr>\n",
              "      <th>2</th>\n",
              "      <td>Brooklyn</td>\n",
              "      <td>Williamsburg</td>\n",
              "      <td>40.70665</td>\n",
              "      <td>-73.94061</td>\n",
              "      <td>Entire home/apt</td>\n",
              "      <td>4</td>\n",
              "      <td>50</td>\n",
              "      <td>0.51</td>\n",
              "      <td>1</td>\n",
              "      <td>331</td>\n",
              "    </tr>\n",
              "    <tr>\n",
              "      <th>3</th>\n",
              "      <td>Brooklyn</td>\n",
              "      <td>Bedford-Stuyvesant</td>\n",
              "      <td>40.68427</td>\n",
              "      <td>-73.95460</td>\n",
              "      <td>Private room</td>\n",
              "      <td>1</td>\n",
              "      <td>18</td>\n",
              "      <td>3.33</td>\n",
              "      <td>1</td>\n",
              "      <td>16</td>\n",
              "    </tr>\n",
              "    <tr>\n",
              "      <th>4</th>\n",
              "      <td>Manhattan</td>\n",
              "      <td>Harlem</td>\n",
              "      <td>40.82028</td>\n",
              "      <td>-73.95381</td>\n",
              "      <td>Private room</td>\n",
              "      <td>1</td>\n",
              "      <td>3</td>\n",
              "      <td>0.08</td>\n",
              "      <td>1</td>\n",
              "      <td>0</td>\n",
              "    </tr>\n",
              "  </tbody>\n",
              "</table>\n",
              "</div>"
            ],
            "text/plain": [
              "  neighbourhood_group       neighbourhood  latitude  longitude  \\\n",
              "0           Manhattan    Theater District  40.75965  -73.98652   \n",
              "1            Brooklyn  Bedford-Stuyvesant  40.68062  -73.94418   \n",
              "2            Brooklyn        Williamsburg  40.70665  -73.94061   \n",
              "3            Brooklyn  Bedford-Stuyvesant  40.68427  -73.95460   \n",
              "4           Manhattan              Harlem  40.82028  -73.95381   \n",
              "\n",
              "         room_type  minimum_nights  number_of_reviews  reviews_per_month  \\\n",
              "0  Entire home/apt              29                  0               0.00   \n",
              "1  Entire home/apt              30                  1               0.75   \n",
              "2  Entire home/apt               4                 50               0.51   \n",
              "3     Private room               1                 18               3.33   \n",
              "4     Private room               1                  3               0.08   \n",
              "\n",
              "   calculated_host_listings_count  availability_365  \n",
              "0                             327               338  \n",
              "1                               6               284  \n",
              "2                               1               331  \n",
              "3                               1                16  \n",
              "4                               1                 0  "
            ]
          },
          "execution_count": 82,
          "metadata": {},
          "output_type": "execute_result"
        }
      ],
      "source": [
        "train = train.drop('id', axis=1)\n",
        "test_id = test.pop('id')\n",
        "test.head()"
      ]
    },
    {
      "cell_type": "code",
      "execution_count": 83,
      "metadata": {
        "id": "dH7YtgZOXHQk"
      },
      "outputs": [
        {
          "name": "stdout",
          "output_type": "stream",
          "text": [
            "<class 'pandas.core.frame.DataFrame'>\n",
            "RangeIndex: 39116 entries, 0 to 39115\n",
            "Data columns (total 11 columns):\n",
            " #   Column                          Non-Null Count  Dtype  \n",
            "---  ------                          --------------  -----  \n",
            " 0   neighbourhood_group             39116 non-null  object \n",
            " 1   neighbourhood                   39116 non-null  object \n",
            " 2   latitude                        39116 non-null  float64\n",
            " 3   longitude                       39116 non-null  float64\n",
            " 4   room_type                       39116 non-null  object \n",
            " 5   minimum_nights                  39116 non-null  int64  \n",
            " 6   number_of_reviews               39116 non-null  int64  \n",
            " 7   reviews_per_month               39116 non-null  float64\n",
            " 8   calculated_host_listings_count  39116 non-null  int64  \n",
            " 9   availability_365                39116 non-null  int64  \n",
            " 10  price                           39116 non-null  int64  \n",
            "dtypes: float64(3), int64(5), object(3)\n",
            "memory usage: 3.3+ MB\n"
          ]
        }
      ],
      "source": [
        "train.info()"
      ]
    },
    {
      "cell_type": "code",
      "execution_count": 84,
      "metadata": {
        "id": "-VgRESe7aWSs"
      },
      "outputs": [
        {
          "data": {
            "text/html": [
              "<div>\n",
              "<style scoped>\n",
              "    .dataframe tbody tr th:only-of-type {\n",
              "        vertical-align: middle;\n",
              "    }\n",
              "\n",
              "    .dataframe tbody tr th {\n",
              "        vertical-align: top;\n",
              "    }\n",
              "\n",
              "    .dataframe thead th {\n",
              "        text-align: right;\n",
              "    }\n",
              "</style>\n",
              "<table border=\"1\" class=\"dataframe\">\n",
              "  <thead>\n",
              "    <tr style=\"text-align: right;\">\n",
              "      <th></th>\n",
              "      <th>neighbourhood_group</th>\n",
              "      <th>neighbourhood</th>\n",
              "      <th>room_type</th>\n",
              "    </tr>\n",
              "  </thead>\n",
              "  <tbody>\n",
              "    <tr>\n",
              "      <th>0</th>\n",
              "      <td>1</td>\n",
              "      <td>28</td>\n",
              "      <td>0</td>\n",
              "    </tr>\n",
              "    <tr>\n",
              "      <th>1</th>\n",
              "      <td>2</td>\n",
              "      <td>206</td>\n",
              "      <td>0</td>\n",
              "    </tr>\n",
              "    <tr>\n",
              "      <th>2</th>\n",
              "      <td>1</td>\n",
              "      <td>28</td>\n",
              "      <td>0</td>\n",
              "    </tr>\n",
              "    <tr>\n",
              "      <th>3</th>\n",
              "      <td>1</td>\n",
              "      <td>214</td>\n",
              "      <td>0</td>\n",
              "    </tr>\n",
              "    <tr>\n",
              "      <th>4</th>\n",
              "      <td>1</td>\n",
              "      <td>13</td>\n",
              "      <td>0</td>\n",
              "    </tr>\n",
              "    <tr>\n",
              "      <th>...</th>\n",
              "      <td>...</td>\n",
              "      <td>...</td>\n",
              "      <td>...</td>\n",
              "    </tr>\n",
              "    <tr>\n",
              "      <th>39111</th>\n",
              "      <td>1</td>\n",
              "      <td>214</td>\n",
              "      <td>1</td>\n",
              "    </tr>\n",
              "    <tr>\n",
              "      <th>39112</th>\n",
              "      <td>2</td>\n",
              "      <td>94</td>\n",
              "      <td>1</td>\n",
              "    </tr>\n",
              "    <tr>\n",
              "      <th>39113</th>\n",
              "      <td>1</td>\n",
              "      <td>19</td>\n",
              "      <td>0</td>\n",
              "    </tr>\n",
              "    <tr>\n",
              "      <th>39114</th>\n",
              "      <td>1</td>\n",
              "      <td>41</td>\n",
              "      <td>0</td>\n",
              "    </tr>\n",
              "    <tr>\n",
              "      <th>39115</th>\n",
              "      <td>2</td>\n",
              "      <td>202</td>\n",
              "      <td>0</td>\n",
              "    </tr>\n",
              "  </tbody>\n",
              "</table>\n",
              "<p>39116 rows × 3 columns</p>\n",
              "</div>"
            ],
            "text/plain": [
              "       neighbourhood_group  neighbourhood  room_type\n",
              "0                        1             28          0\n",
              "1                        2            206          0\n",
              "2                        1             28          0\n",
              "3                        1            214          0\n",
              "4                        1             13          0\n",
              "...                    ...            ...        ...\n",
              "39111                    1            214          1\n",
              "39112                    2             94          1\n",
              "39113                    1             19          0\n",
              "39114                    1             41          0\n",
              "39115                    2            202          0\n",
              "\n",
              "[39116 rows x 3 columns]"
            ]
          },
          "execution_count": 84,
          "metadata": {},
          "output_type": "execute_result"
        }
      ],
      "source": [
        "#레이블 인코딩\n",
        "from sklearn.preprocessing import LabelEncoder\n",
        "\n",
        "cols = ['neighbourhood_group', 'neighbourhood', 'room_type']\n",
        "le = LabelEncoder()\n",
        "\n",
        "for col in cols:\n",
        "    train[col] = le.fit_transform(train[col])\n",
        "    test[col] = le.transform(test[col])\n",
        "\n",
        "train[cols]"
      ]
    },
    {
      "cell_type": "code",
      "execution_count": null,
      "metadata": {
        "id": "mtJREZqcaWY_"
      },
      "outputs": [],
      "source": []
    },
    {
      "cell_type": "markdown",
      "metadata": {
        "id": "2wXHbPi9DEwb"
      },
      "source": [
        "## 검증 데이터 분리"
      ]
    },
    {
      "cell_type": "code",
      "execution_count": 85,
      "metadata": {
        "id": "NLf2OsLc38wm"
      },
      "outputs": [],
      "source": [
        "from sklearn.model_selection import train_test_split\n",
        "X_tr, X_val, y_tr, y_val = train_test_split(train.drop('price', axis=1), train['price'], test_size=0.15, random_state=2022)"
      ]
    },
    {
      "cell_type": "code",
      "execution_count": 86,
      "metadata": {
        "id": "cTr_t52X6w_Z"
      },
      "outputs": [
        {
          "data": {
            "text/html": [
              "<div>\n",
              "<style scoped>\n",
              "    .dataframe tbody tr th:only-of-type {\n",
              "        vertical-align: middle;\n",
              "    }\n",
              "\n",
              "    .dataframe tbody tr th {\n",
              "        vertical-align: top;\n",
              "    }\n",
              "\n",
              "    .dataframe thead th {\n",
              "        text-align: right;\n",
              "    }\n",
              "</style>\n",
              "<table border=\"1\" class=\"dataframe\">\n",
              "  <thead>\n",
              "    <tr style=\"text-align: right;\">\n",
              "      <th></th>\n",
              "      <th>neighbourhood_group</th>\n",
              "      <th>neighbourhood</th>\n",
              "      <th>latitude</th>\n",
              "      <th>longitude</th>\n",
              "      <th>room_type</th>\n",
              "      <th>minimum_nights</th>\n",
              "      <th>number_of_reviews</th>\n",
              "      <th>reviews_per_month</th>\n",
              "      <th>calculated_host_listings_count</th>\n",
              "      <th>availability_365</th>\n",
              "    </tr>\n",
              "  </thead>\n",
              "  <tbody>\n",
              "    <tr>\n",
              "      <th>35316</th>\n",
              "      <td>2</td>\n",
              "      <td>73</td>\n",
              "      <td>40.70417</td>\n",
              "      <td>-74.01511</td>\n",
              "      <td>0</td>\n",
              "      <td>9</td>\n",
              "      <td>0</td>\n",
              "      <td>0.00</td>\n",
              "      <td>1</td>\n",
              "      <td>15</td>\n",
              "    </tr>\n",
              "    <tr>\n",
              "      <th>8181</th>\n",
              "      <td>2</td>\n",
              "      <td>94</td>\n",
              "      <td>40.80317</td>\n",
              "      <td>-73.95559</td>\n",
              "      <td>0</td>\n",
              "      <td>1</td>\n",
              "      <td>2</td>\n",
              "      <td>1.22</td>\n",
              "      <td>1</td>\n",
              "      <td>85</td>\n",
              "    </tr>\n",
              "    <tr>\n",
              "      <th>12102</th>\n",
              "      <td>1</td>\n",
              "      <td>30</td>\n",
              "      <td>40.63672</td>\n",
              "      <td>-73.88814</td>\n",
              "      <td>0</td>\n",
              "      <td>2</td>\n",
              "      <td>43</td>\n",
              "      <td>1.18</td>\n",
              "      <td>1</td>\n",
              "      <td>309</td>\n",
              "    </tr>\n",
              "    <tr>\n",
              "      <th>17438</th>\n",
              "      <td>1</td>\n",
              "      <td>91</td>\n",
              "      <td>40.72409</td>\n",
              "      <td>-73.95039</td>\n",
              "      <td>0</td>\n",
              "      <td>5</td>\n",
              "      <td>5</td>\n",
              "      <td>1.17</td>\n",
              "      <td>4</td>\n",
              "      <td>68</td>\n",
              "    </tr>\n",
              "    <tr>\n",
              "      <th>32851</th>\n",
              "      <td>2</td>\n",
              "      <td>103</td>\n",
              "      <td>40.85961</td>\n",
              "      <td>-73.92911</td>\n",
              "      <td>1</td>\n",
              "      <td>3</td>\n",
              "      <td>1</td>\n",
              "      <td>0.12</td>\n",
              "      <td>2</td>\n",
              "      <td>107</td>\n",
              "    </tr>\n",
              "  </tbody>\n",
              "</table>\n",
              "</div>"
            ],
            "text/plain": [
              "       neighbourhood_group  neighbourhood  latitude  longitude  room_type  \\\n",
              "35316                    2             73  40.70417  -74.01511          0   \n",
              "8181                     2             94  40.80317  -73.95559          0   \n",
              "12102                    1             30  40.63672  -73.88814          0   \n",
              "17438                    1             91  40.72409  -73.95039          0   \n",
              "32851                    2            103  40.85961  -73.92911          1   \n",
              "\n",
              "       minimum_nights  number_of_reviews  reviews_per_month  \\\n",
              "35316               9                  0               0.00   \n",
              "8181                1                  2               1.22   \n",
              "12102               2                 43               1.18   \n",
              "17438               5                  5               1.17   \n",
              "32851               3                  1               0.12   \n",
              "\n",
              "       calculated_host_listings_count  availability_365  \n",
              "35316                               1                15  \n",
              "8181                                1                85  \n",
              "12102                               1               309  \n",
              "17438                               4                68  \n",
              "32851                               2               107  "
            ]
          },
          "execution_count": 86,
          "metadata": {},
          "output_type": "execute_result"
        }
      ],
      "source": [
        "X_tr.head()"
      ]
    },
    {
      "cell_type": "markdown",
      "metadata": {
        "id": "6zrIYRkcDN4j"
      },
      "source": [
        "## 모델 & 평가"
      ]
    },
    {
      "cell_type": "code",
      "execution_count": 87,
      "metadata": {
        "id": "nG0HR27zOkW5"
      },
      "outputs": [],
      "source": [
        "# 평가\n",
        "import numpy as np\n",
        "from sklearn.metrics import r2_score, mean_absolute_error, mean_squared_error\n",
        "def rmse(y_test, y_pred): #RMSE\n",
        "    return np.sqrt(mean_squared_error(y_test, y_pred))\n",
        "\n",
        "def rmsle(y_test, y_pred): #RMSLE\n",
        "    return np.sqrt(np.mean(np.power(np.log1p(y_test) - np.log1p(y_pred), 2)))\n",
        "\n",
        "def mape(y_test, y_pred): #MAPE\n",
        "    return np.mean(np.abs((y_test - y_pred) / y_test)) * 100"
      ]
    },
    {
      "cell_type": "code",
      "execution_count": 88,
      "metadata": {
        "id": "UBjzNyKpQY3p"
      },
      "outputs": [
        {
          "name": "stdout",
          "output_type": "stream",
          "text": [
            "r2 :  0.08452239774949599\n",
            "mae :  73.98120907242296\n",
            "mse :  44813.521129753644\n",
            "rmse :  211.69204314228168\n",
            "rmsle :  0.6284667216271868\n",
            "mape :  58.8987034735162\n"
          ]
        },
        {
          "name": "stderr",
          "output_type": "stream",
          "text": [
            "/var/folders/2r/cx_5l5wj1lz_gqqbt1pvk3t40000gn/T/ipykernel_7944/42457448.py:8: RuntimeWarning: invalid value encountered in log1p\n",
            "  return np.sqrt(np.mean(np.power(np.log1p(y_test) - np.log1p(y_pred), 2)))\n"
          ]
        }
      ],
      "source": [
        "from sklearn.linear_model import LinearRegression\n",
        "model = LinearRegression()\n",
        "model.fit(X_tr, y_tr)\n",
        "pred = model.predict(X_val)\n",
        "print(\"r2 : \", r2_score(y_val, pred))\n",
        "print(\"mae : \", mean_absolute_error(y_val, pred))\n",
        "print(\"mse : \", mean_squared_error(y_val, pred))\n",
        "print(\"rmse : \", rmse(y_val, pred))\n",
        "print(\"rmsle : \", rmsle(y_val, pred))\n",
        "print(\"mape : \", mape(y_val, pred))"
      ]
    },
    {
      "cell_type": "code",
      "execution_count": null,
      "metadata": {
        "id": "wdPc5qIjPAHW"
      },
      "outputs": [],
      "source": []
    },
    {
      "cell_type": "code",
      "execution_count": null,
      "metadata": {
        "id": "VXPpAghtPALJ"
      },
      "outputs": [],
      "source": []
    },
    {
      "cell_type": "code",
      "execution_count": null,
      "metadata": {
        "id": "vGK-shoSPAN4"
      },
      "outputs": [],
      "source": []
    },
    {
      "cell_type": "code",
      "execution_count": null,
      "metadata": {
        "id": "bv73gQjuUyU-"
      },
      "outputs": [],
      "source": []
    },
    {
      "cell_type": "markdown",
      "metadata": {
        "id": "vENsjupLDUF9"
      },
      "source": [
        "## 예측 및 csv 제출"
      ]
    },
    {
      "cell_type": "code",
      "execution_count": null,
      "metadata": {
        "id": "0-ycPId6ni4q"
      },
      "outputs": [],
      "source": []
    },
    {
      "cell_type": "code",
      "execution_count": null,
      "metadata": {
        "id": "mCrS14SE_fS9"
      },
      "outputs": [],
      "source": []
    },
    {
      "cell_type": "code",
      "execution_count": null,
      "metadata": {
        "id": "S33nhYTnTkG2"
      },
      "outputs": [],
      "source": []
    },
    {
      "cell_type": "code",
      "execution_count": null,
      "metadata": {
        "id": "SnYJTfZ__UFR"
      },
      "outputs": [],
      "source": []
    },
    {
      "cell_type": "code",
      "execution_count": null,
      "metadata": {
        "id": "bj6NRM1d_7Rl"
      },
      "outputs": [],
      "source": []
    },
    {
      "cell_type": "markdown",
      "metadata": {
        "id": "CeJ_BK2KDX6Z"
      },
      "source": [
        "##정리"
      ]
    },
    {
      "cell_type": "code",
      "execution_count": 89,
      "metadata": {
        "id": "7VV1wp7zPkUA"
      },
      "outputs": [],
      "source": [
        "# y_test = pd.read_csv(\"y_test.csv\")\n",
        "# print(r2_score(y_test, pred))"
      ]
    }
  ],
  "metadata": {
    "colab": {
      "include_colab_link": true,
      "provenance": []
    },
    "kernelspec": {
      "display_name": "Python 3",
      "name": "python3"
    },
    "language_info": {
      "codemirror_mode": {
        "name": "ipython",
        "version": 3
      },
      "file_extension": ".py",
      "mimetype": "text/x-python",
      "name": "python",
      "nbconvert_exporter": "python",
      "pygments_lexer": "ipython3",
      "version": "3.11.7"
    }
  },
  "nbformat": 4,
  "nbformat_minor": 0
}
